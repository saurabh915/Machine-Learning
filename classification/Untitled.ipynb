{
 "cells": [
  {
   "cell_type": "markdown",
   "id": "d199ef82",
   "metadata": {},
   "source": [
    "# MNIST"
   ]
  },
  {
   "cell_type": "markdown",
   "id": "fb91dcb8",
   "metadata": {},
   "source": [
    "Warning: since Scikit-Learn 0.24, fetch_openml() returns a Pandas DataFrame by default. To avoid this and keep the same code as in the book, we use as_frame=False"
   ]
  },
  {
   "cell_type": "code",
   "execution_count": 2,
   "id": "0ce0d5f2",
   "metadata": {},
   "outputs": [
    {
     "data": {
      "text/plain": [
       "dict_keys(['data', 'target', 'frame', 'categories', 'feature_names', 'target_names', 'DESCR', 'details', 'url'])"
      ]
     },
     "execution_count": 2,
     "metadata": {},
     "output_type": "execute_result"
    }
   ],
   "source": [
    "from sklearn.datasets import fetch_openml\n",
    "mnist = fetch_openml('mnist_784', version=1,as_frame=False)\n",
    "mnist.keys()\n"
   ]
  },
  {
   "cell_type": "code",
   "execution_count": 5,
   "id": "0199ee50",
   "metadata": {
    "scrolled": false
   },
   "outputs": [
    {
     "data": {
      "text/plain": [
       "['pixel1',\n",
       " 'pixel2',\n",
       " 'pixel3',\n",
       " 'pixel4',\n",
       " 'pixel5',\n",
       " 'pixel6',\n",
       " 'pixel7',\n",
       " 'pixel8',\n",
       " 'pixel9',\n",
       " 'pixel10',\n",
       " 'pixel11',\n",
       " 'pixel12',\n",
       " 'pixel13',\n",
       " 'pixel14',\n",
       " 'pixel15',\n",
       " 'pixel16',\n",
       " 'pixel17',\n",
       " 'pixel18',\n",
       " 'pixel19',\n",
       " 'pixel20',\n",
       " 'pixel21',\n",
       " 'pixel22',\n",
       " 'pixel23',\n",
       " 'pixel24',\n",
       " 'pixel25',\n",
       " 'pixel26',\n",
       " 'pixel27',\n",
       " 'pixel28',\n",
       " 'pixel29',\n",
       " 'pixel30',\n",
       " 'pixel31',\n",
       " 'pixel32',\n",
       " 'pixel33',\n",
       " 'pixel34',\n",
       " 'pixel35',\n",
       " 'pixel36',\n",
       " 'pixel37',\n",
       " 'pixel38',\n",
       " 'pixel39',\n",
       " 'pixel40',\n",
       " 'pixel41',\n",
       " 'pixel42',\n",
       " 'pixel43',\n",
       " 'pixel44',\n",
       " 'pixel45',\n",
       " 'pixel46',\n",
       " 'pixel47',\n",
       " 'pixel48',\n",
       " 'pixel49',\n",
       " 'pixel50',\n",
       " 'pixel51',\n",
       " 'pixel52',\n",
       " 'pixel53',\n",
       " 'pixel54',\n",
       " 'pixel55',\n",
       " 'pixel56',\n",
       " 'pixel57',\n",
       " 'pixel58',\n",
       " 'pixel59',\n",
       " 'pixel60',\n",
       " 'pixel61',\n",
       " 'pixel62',\n",
       " 'pixel63',\n",
       " 'pixel64',\n",
       " 'pixel65',\n",
       " 'pixel66',\n",
       " 'pixel67',\n",
       " 'pixel68',\n",
       " 'pixel69',\n",
       " 'pixel70',\n",
       " 'pixel71',\n",
       " 'pixel72',\n",
       " 'pixel73',\n",
       " 'pixel74',\n",
       " 'pixel75',\n",
       " 'pixel76',\n",
       " 'pixel77',\n",
       " 'pixel78',\n",
       " 'pixel79',\n",
       " 'pixel80',\n",
       " 'pixel81',\n",
       " 'pixel82',\n",
       " 'pixel83',\n",
       " 'pixel84',\n",
       " 'pixel85',\n",
       " 'pixel86',\n",
       " 'pixel87',\n",
       " 'pixel88',\n",
       " 'pixel89',\n",
       " 'pixel90',\n",
       " 'pixel91',\n",
       " 'pixel92',\n",
       " 'pixel93',\n",
       " 'pixel94',\n",
       " 'pixel95',\n",
       " 'pixel96',\n",
       " 'pixel97',\n",
       " 'pixel98',\n",
       " 'pixel99',\n",
       " 'pixel100',\n",
       " 'pixel101',\n",
       " 'pixel102',\n",
       " 'pixel103',\n",
       " 'pixel104',\n",
       " 'pixel105',\n",
       " 'pixel106',\n",
       " 'pixel107',\n",
       " 'pixel108',\n",
       " 'pixel109',\n",
       " 'pixel110',\n",
       " 'pixel111',\n",
       " 'pixel112',\n",
       " 'pixel113',\n",
       " 'pixel114',\n",
       " 'pixel115',\n",
       " 'pixel116',\n",
       " 'pixel117',\n",
       " 'pixel118',\n",
       " 'pixel119',\n",
       " 'pixel120',\n",
       " 'pixel121',\n",
       " 'pixel122',\n",
       " 'pixel123',\n",
       " 'pixel124',\n",
       " 'pixel125',\n",
       " 'pixel126',\n",
       " 'pixel127',\n",
       " 'pixel128',\n",
       " 'pixel129',\n",
       " 'pixel130',\n",
       " 'pixel131',\n",
       " 'pixel132',\n",
       " 'pixel133',\n",
       " 'pixel134',\n",
       " 'pixel135',\n",
       " 'pixel136',\n",
       " 'pixel137',\n",
       " 'pixel138',\n",
       " 'pixel139',\n",
       " 'pixel140',\n",
       " 'pixel141',\n",
       " 'pixel142',\n",
       " 'pixel143',\n",
       " 'pixel144',\n",
       " 'pixel145',\n",
       " 'pixel146',\n",
       " 'pixel147',\n",
       " 'pixel148',\n",
       " 'pixel149',\n",
       " 'pixel150',\n",
       " 'pixel151',\n",
       " 'pixel152',\n",
       " 'pixel153',\n",
       " 'pixel154',\n",
       " 'pixel155',\n",
       " 'pixel156',\n",
       " 'pixel157',\n",
       " 'pixel158',\n",
       " 'pixel159',\n",
       " 'pixel160',\n",
       " 'pixel161',\n",
       " 'pixel162',\n",
       " 'pixel163',\n",
       " 'pixel164',\n",
       " 'pixel165',\n",
       " 'pixel166',\n",
       " 'pixel167',\n",
       " 'pixel168',\n",
       " 'pixel169',\n",
       " 'pixel170',\n",
       " 'pixel171',\n",
       " 'pixel172',\n",
       " 'pixel173',\n",
       " 'pixel174',\n",
       " 'pixel175',\n",
       " 'pixel176',\n",
       " 'pixel177',\n",
       " 'pixel178',\n",
       " 'pixel179',\n",
       " 'pixel180',\n",
       " 'pixel181',\n",
       " 'pixel182',\n",
       " 'pixel183',\n",
       " 'pixel184',\n",
       " 'pixel185',\n",
       " 'pixel186',\n",
       " 'pixel187',\n",
       " 'pixel188',\n",
       " 'pixel189',\n",
       " 'pixel190',\n",
       " 'pixel191',\n",
       " 'pixel192',\n",
       " 'pixel193',\n",
       " 'pixel194',\n",
       " 'pixel195',\n",
       " 'pixel196',\n",
       " 'pixel197',\n",
       " 'pixel198',\n",
       " 'pixel199',\n",
       " 'pixel200',\n",
       " 'pixel201',\n",
       " 'pixel202',\n",
       " 'pixel203',\n",
       " 'pixel204',\n",
       " 'pixel205',\n",
       " 'pixel206',\n",
       " 'pixel207',\n",
       " 'pixel208',\n",
       " 'pixel209',\n",
       " 'pixel210',\n",
       " 'pixel211',\n",
       " 'pixel212',\n",
       " 'pixel213',\n",
       " 'pixel214',\n",
       " 'pixel215',\n",
       " 'pixel216',\n",
       " 'pixel217',\n",
       " 'pixel218',\n",
       " 'pixel219',\n",
       " 'pixel220',\n",
       " 'pixel221',\n",
       " 'pixel222',\n",
       " 'pixel223',\n",
       " 'pixel224',\n",
       " 'pixel225',\n",
       " 'pixel226',\n",
       " 'pixel227',\n",
       " 'pixel228',\n",
       " 'pixel229',\n",
       " 'pixel230',\n",
       " 'pixel231',\n",
       " 'pixel232',\n",
       " 'pixel233',\n",
       " 'pixel234',\n",
       " 'pixel235',\n",
       " 'pixel236',\n",
       " 'pixel237',\n",
       " 'pixel238',\n",
       " 'pixel239',\n",
       " 'pixel240',\n",
       " 'pixel241',\n",
       " 'pixel242',\n",
       " 'pixel243',\n",
       " 'pixel244',\n",
       " 'pixel245',\n",
       " 'pixel246',\n",
       " 'pixel247',\n",
       " 'pixel248',\n",
       " 'pixel249',\n",
       " 'pixel250',\n",
       " 'pixel251',\n",
       " 'pixel252',\n",
       " 'pixel253',\n",
       " 'pixel254',\n",
       " 'pixel255',\n",
       " 'pixel256',\n",
       " 'pixel257',\n",
       " 'pixel258',\n",
       " 'pixel259',\n",
       " 'pixel260',\n",
       " 'pixel261',\n",
       " 'pixel262',\n",
       " 'pixel263',\n",
       " 'pixel264',\n",
       " 'pixel265',\n",
       " 'pixel266',\n",
       " 'pixel267',\n",
       " 'pixel268',\n",
       " 'pixel269',\n",
       " 'pixel270',\n",
       " 'pixel271',\n",
       " 'pixel272',\n",
       " 'pixel273',\n",
       " 'pixel274',\n",
       " 'pixel275',\n",
       " 'pixel276',\n",
       " 'pixel277',\n",
       " 'pixel278',\n",
       " 'pixel279',\n",
       " 'pixel280',\n",
       " 'pixel281',\n",
       " 'pixel282',\n",
       " 'pixel283',\n",
       " 'pixel284',\n",
       " 'pixel285',\n",
       " 'pixel286',\n",
       " 'pixel287',\n",
       " 'pixel288',\n",
       " 'pixel289',\n",
       " 'pixel290',\n",
       " 'pixel291',\n",
       " 'pixel292',\n",
       " 'pixel293',\n",
       " 'pixel294',\n",
       " 'pixel295',\n",
       " 'pixel296',\n",
       " 'pixel297',\n",
       " 'pixel298',\n",
       " 'pixel299',\n",
       " 'pixel300',\n",
       " 'pixel301',\n",
       " 'pixel302',\n",
       " 'pixel303',\n",
       " 'pixel304',\n",
       " 'pixel305',\n",
       " 'pixel306',\n",
       " 'pixel307',\n",
       " 'pixel308',\n",
       " 'pixel309',\n",
       " 'pixel310',\n",
       " 'pixel311',\n",
       " 'pixel312',\n",
       " 'pixel313',\n",
       " 'pixel314',\n",
       " 'pixel315',\n",
       " 'pixel316',\n",
       " 'pixel317',\n",
       " 'pixel318',\n",
       " 'pixel319',\n",
       " 'pixel320',\n",
       " 'pixel321',\n",
       " 'pixel322',\n",
       " 'pixel323',\n",
       " 'pixel324',\n",
       " 'pixel325',\n",
       " 'pixel326',\n",
       " 'pixel327',\n",
       " 'pixel328',\n",
       " 'pixel329',\n",
       " 'pixel330',\n",
       " 'pixel331',\n",
       " 'pixel332',\n",
       " 'pixel333',\n",
       " 'pixel334',\n",
       " 'pixel335',\n",
       " 'pixel336',\n",
       " 'pixel337',\n",
       " 'pixel338',\n",
       " 'pixel339',\n",
       " 'pixel340',\n",
       " 'pixel341',\n",
       " 'pixel342',\n",
       " 'pixel343',\n",
       " 'pixel344',\n",
       " 'pixel345',\n",
       " 'pixel346',\n",
       " 'pixel347',\n",
       " 'pixel348',\n",
       " 'pixel349',\n",
       " 'pixel350',\n",
       " 'pixel351',\n",
       " 'pixel352',\n",
       " 'pixel353',\n",
       " 'pixel354',\n",
       " 'pixel355',\n",
       " 'pixel356',\n",
       " 'pixel357',\n",
       " 'pixel358',\n",
       " 'pixel359',\n",
       " 'pixel360',\n",
       " 'pixel361',\n",
       " 'pixel362',\n",
       " 'pixel363',\n",
       " 'pixel364',\n",
       " 'pixel365',\n",
       " 'pixel366',\n",
       " 'pixel367',\n",
       " 'pixel368',\n",
       " 'pixel369',\n",
       " 'pixel370',\n",
       " 'pixel371',\n",
       " 'pixel372',\n",
       " 'pixel373',\n",
       " 'pixel374',\n",
       " 'pixel375',\n",
       " 'pixel376',\n",
       " 'pixel377',\n",
       " 'pixel378',\n",
       " 'pixel379',\n",
       " 'pixel380',\n",
       " 'pixel381',\n",
       " 'pixel382',\n",
       " 'pixel383',\n",
       " 'pixel384',\n",
       " 'pixel385',\n",
       " 'pixel386',\n",
       " 'pixel387',\n",
       " 'pixel388',\n",
       " 'pixel389',\n",
       " 'pixel390',\n",
       " 'pixel391',\n",
       " 'pixel392',\n",
       " 'pixel393',\n",
       " 'pixel394',\n",
       " 'pixel395',\n",
       " 'pixel396',\n",
       " 'pixel397',\n",
       " 'pixel398',\n",
       " 'pixel399',\n",
       " 'pixel400',\n",
       " 'pixel401',\n",
       " 'pixel402',\n",
       " 'pixel403',\n",
       " 'pixel404',\n",
       " 'pixel405',\n",
       " 'pixel406',\n",
       " 'pixel407',\n",
       " 'pixel408',\n",
       " 'pixel409',\n",
       " 'pixel410',\n",
       " 'pixel411',\n",
       " 'pixel412',\n",
       " 'pixel413',\n",
       " 'pixel414',\n",
       " 'pixel415',\n",
       " 'pixel416',\n",
       " 'pixel417',\n",
       " 'pixel418',\n",
       " 'pixel419',\n",
       " 'pixel420',\n",
       " 'pixel421',\n",
       " 'pixel422',\n",
       " 'pixel423',\n",
       " 'pixel424',\n",
       " 'pixel425',\n",
       " 'pixel426',\n",
       " 'pixel427',\n",
       " 'pixel428',\n",
       " 'pixel429',\n",
       " 'pixel430',\n",
       " 'pixel431',\n",
       " 'pixel432',\n",
       " 'pixel433',\n",
       " 'pixel434',\n",
       " 'pixel435',\n",
       " 'pixel436',\n",
       " 'pixel437',\n",
       " 'pixel438',\n",
       " 'pixel439',\n",
       " 'pixel440',\n",
       " 'pixel441',\n",
       " 'pixel442',\n",
       " 'pixel443',\n",
       " 'pixel444',\n",
       " 'pixel445',\n",
       " 'pixel446',\n",
       " 'pixel447',\n",
       " 'pixel448',\n",
       " 'pixel449',\n",
       " 'pixel450',\n",
       " 'pixel451',\n",
       " 'pixel452',\n",
       " 'pixel453',\n",
       " 'pixel454',\n",
       " 'pixel455',\n",
       " 'pixel456',\n",
       " 'pixel457',\n",
       " 'pixel458',\n",
       " 'pixel459',\n",
       " 'pixel460',\n",
       " 'pixel461',\n",
       " 'pixel462',\n",
       " 'pixel463',\n",
       " 'pixel464',\n",
       " 'pixel465',\n",
       " 'pixel466',\n",
       " 'pixel467',\n",
       " 'pixel468',\n",
       " 'pixel469',\n",
       " 'pixel470',\n",
       " 'pixel471',\n",
       " 'pixel472',\n",
       " 'pixel473',\n",
       " 'pixel474',\n",
       " 'pixel475',\n",
       " 'pixel476',\n",
       " 'pixel477',\n",
       " 'pixel478',\n",
       " 'pixel479',\n",
       " 'pixel480',\n",
       " 'pixel481',\n",
       " 'pixel482',\n",
       " 'pixel483',\n",
       " 'pixel484',\n",
       " 'pixel485',\n",
       " 'pixel486',\n",
       " 'pixel487',\n",
       " 'pixel488',\n",
       " 'pixel489',\n",
       " 'pixel490',\n",
       " 'pixel491',\n",
       " 'pixel492',\n",
       " 'pixel493',\n",
       " 'pixel494',\n",
       " 'pixel495',\n",
       " 'pixel496',\n",
       " 'pixel497',\n",
       " 'pixel498',\n",
       " 'pixel499',\n",
       " 'pixel500',\n",
       " 'pixel501',\n",
       " 'pixel502',\n",
       " 'pixel503',\n",
       " 'pixel504',\n",
       " 'pixel505',\n",
       " 'pixel506',\n",
       " 'pixel507',\n",
       " 'pixel508',\n",
       " 'pixel509',\n",
       " 'pixel510',\n",
       " 'pixel511',\n",
       " 'pixel512',\n",
       " 'pixel513',\n",
       " 'pixel514',\n",
       " 'pixel515',\n",
       " 'pixel516',\n",
       " 'pixel517',\n",
       " 'pixel518',\n",
       " 'pixel519',\n",
       " 'pixel520',\n",
       " 'pixel521',\n",
       " 'pixel522',\n",
       " 'pixel523',\n",
       " 'pixel524',\n",
       " 'pixel525',\n",
       " 'pixel526',\n",
       " 'pixel527',\n",
       " 'pixel528',\n",
       " 'pixel529',\n",
       " 'pixel530',\n",
       " 'pixel531',\n",
       " 'pixel532',\n",
       " 'pixel533',\n",
       " 'pixel534',\n",
       " 'pixel535',\n",
       " 'pixel536',\n",
       " 'pixel537',\n",
       " 'pixel538',\n",
       " 'pixel539',\n",
       " 'pixel540',\n",
       " 'pixel541',\n",
       " 'pixel542',\n",
       " 'pixel543',\n",
       " 'pixel544',\n",
       " 'pixel545',\n",
       " 'pixel546',\n",
       " 'pixel547',\n",
       " 'pixel548',\n",
       " 'pixel549',\n",
       " 'pixel550',\n",
       " 'pixel551',\n",
       " 'pixel552',\n",
       " 'pixel553',\n",
       " 'pixel554',\n",
       " 'pixel555',\n",
       " 'pixel556',\n",
       " 'pixel557',\n",
       " 'pixel558',\n",
       " 'pixel559',\n",
       " 'pixel560',\n",
       " 'pixel561',\n",
       " 'pixel562',\n",
       " 'pixel563',\n",
       " 'pixel564',\n",
       " 'pixel565',\n",
       " 'pixel566',\n",
       " 'pixel567',\n",
       " 'pixel568',\n",
       " 'pixel569',\n",
       " 'pixel570',\n",
       " 'pixel571',\n",
       " 'pixel572',\n",
       " 'pixel573',\n",
       " 'pixel574',\n",
       " 'pixel575',\n",
       " 'pixel576',\n",
       " 'pixel577',\n",
       " 'pixel578',\n",
       " 'pixel579',\n",
       " 'pixel580',\n",
       " 'pixel581',\n",
       " 'pixel582',\n",
       " 'pixel583',\n",
       " 'pixel584',\n",
       " 'pixel585',\n",
       " 'pixel586',\n",
       " 'pixel587',\n",
       " 'pixel588',\n",
       " 'pixel589',\n",
       " 'pixel590',\n",
       " 'pixel591',\n",
       " 'pixel592',\n",
       " 'pixel593',\n",
       " 'pixel594',\n",
       " 'pixel595',\n",
       " 'pixel596',\n",
       " 'pixel597',\n",
       " 'pixel598',\n",
       " 'pixel599',\n",
       " 'pixel600',\n",
       " 'pixel601',\n",
       " 'pixel602',\n",
       " 'pixel603',\n",
       " 'pixel604',\n",
       " 'pixel605',\n",
       " 'pixel606',\n",
       " 'pixel607',\n",
       " 'pixel608',\n",
       " 'pixel609',\n",
       " 'pixel610',\n",
       " 'pixel611',\n",
       " 'pixel612',\n",
       " 'pixel613',\n",
       " 'pixel614',\n",
       " 'pixel615',\n",
       " 'pixel616',\n",
       " 'pixel617',\n",
       " 'pixel618',\n",
       " 'pixel619',\n",
       " 'pixel620',\n",
       " 'pixel621',\n",
       " 'pixel622',\n",
       " 'pixel623',\n",
       " 'pixel624',\n",
       " 'pixel625',\n",
       " 'pixel626',\n",
       " 'pixel627',\n",
       " 'pixel628',\n",
       " 'pixel629',\n",
       " 'pixel630',\n",
       " 'pixel631',\n",
       " 'pixel632',\n",
       " 'pixel633',\n",
       " 'pixel634',\n",
       " 'pixel635',\n",
       " 'pixel636',\n",
       " 'pixel637',\n",
       " 'pixel638',\n",
       " 'pixel639',\n",
       " 'pixel640',\n",
       " 'pixel641',\n",
       " 'pixel642',\n",
       " 'pixel643',\n",
       " 'pixel644',\n",
       " 'pixel645',\n",
       " 'pixel646',\n",
       " 'pixel647',\n",
       " 'pixel648',\n",
       " 'pixel649',\n",
       " 'pixel650',\n",
       " 'pixel651',\n",
       " 'pixel652',\n",
       " 'pixel653',\n",
       " 'pixel654',\n",
       " 'pixel655',\n",
       " 'pixel656',\n",
       " 'pixel657',\n",
       " 'pixel658',\n",
       " 'pixel659',\n",
       " 'pixel660',\n",
       " 'pixel661',\n",
       " 'pixel662',\n",
       " 'pixel663',\n",
       " 'pixel664',\n",
       " 'pixel665',\n",
       " 'pixel666',\n",
       " 'pixel667',\n",
       " 'pixel668',\n",
       " 'pixel669',\n",
       " 'pixel670',\n",
       " 'pixel671',\n",
       " 'pixel672',\n",
       " 'pixel673',\n",
       " 'pixel674',\n",
       " 'pixel675',\n",
       " 'pixel676',\n",
       " 'pixel677',\n",
       " 'pixel678',\n",
       " 'pixel679',\n",
       " 'pixel680',\n",
       " 'pixel681',\n",
       " 'pixel682',\n",
       " 'pixel683',\n",
       " 'pixel684',\n",
       " 'pixel685',\n",
       " 'pixel686',\n",
       " 'pixel687',\n",
       " 'pixel688',\n",
       " 'pixel689',\n",
       " 'pixel690',\n",
       " 'pixel691',\n",
       " 'pixel692',\n",
       " 'pixel693',\n",
       " 'pixel694',\n",
       " 'pixel695',\n",
       " 'pixel696',\n",
       " 'pixel697',\n",
       " 'pixel698',\n",
       " 'pixel699',\n",
       " 'pixel700',\n",
       " 'pixel701',\n",
       " 'pixel702',\n",
       " 'pixel703',\n",
       " 'pixel704',\n",
       " 'pixel705',\n",
       " 'pixel706',\n",
       " 'pixel707',\n",
       " 'pixel708',\n",
       " 'pixel709',\n",
       " 'pixel710',\n",
       " 'pixel711',\n",
       " 'pixel712',\n",
       " 'pixel713',\n",
       " 'pixel714',\n",
       " 'pixel715',\n",
       " 'pixel716',\n",
       " 'pixel717',\n",
       " 'pixel718',\n",
       " 'pixel719',\n",
       " 'pixel720',\n",
       " 'pixel721',\n",
       " 'pixel722',\n",
       " 'pixel723',\n",
       " 'pixel724',\n",
       " 'pixel725',\n",
       " 'pixel726',\n",
       " 'pixel727',\n",
       " 'pixel728',\n",
       " 'pixel729',\n",
       " 'pixel730',\n",
       " 'pixel731',\n",
       " 'pixel732',\n",
       " 'pixel733',\n",
       " 'pixel734',\n",
       " 'pixel735',\n",
       " 'pixel736',\n",
       " 'pixel737',\n",
       " 'pixel738',\n",
       " 'pixel739',\n",
       " 'pixel740',\n",
       " 'pixel741',\n",
       " 'pixel742',\n",
       " 'pixel743',\n",
       " 'pixel744',\n",
       " 'pixel745',\n",
       " 'pixel746',\n",
       " 'pixel747',\n",
       " 'pixel748',\n",
       " 'pixel749',\n",
       " 'pixel750',\n",
       " 'pixel751',\n",
       " 'pixel752',\n",
       " 'pixel753',\n",
       " 'pixel754',\n",
       " 'pixel755',\n",
       " 'pixel756',\n",
       " 'pixel757',\n",
       " 'pixel758',\n",
       " 'pixel759',\n",
       " 'pixel760',\n",
       " 'pixel761',\n",
       " 'pixel762',\n",
       " 'pixel763',\n",
       " 'pixel764',\n",
       " 'pixel765',\n",
       " 'pixel766',\n",
       " 'pixel767',\n",
       " 'pixel768',\n",
       " 'pixel769',\n",
       " 'pixel770',\n",
       " 'pixel771',\n",
       " 'pixel772',\n",
       " 'pixel773',\n",
       " 'pixel774',\n",
       " 'pixel775',\n",
       " 'pixel776',\n",
       " 'pixel777',\n",
       " 'pixel778',\n",
       " 'pixel779',\n",
       " 'pixel780',\n",
       " 'pixel781',\n",
       " 'pixel782',\n",
       " 'pixel783',\n",
       " 'pixel784']"
      ]
     },
     "execution_count": 5,
     "metadata": {},
     "output_type": "execute_result"
    }
   ],
   "source": [
    "mnist[\"feature_names\"]"
   ]
  },
  {
   "cell_type": "code",
   "execution_count": 7,
   "id": "4235dacb",
   "metadata": {},
   "outputs": [
    {
     "data": {
      "text/plain": [
       "\"**Author**: Yann LeCun, Corinna Cortes, Christopher J.C. Burges  \\n**Source**: [MNIST Website](http://yann.lecun.com/exdb/mnist/) - Date unknown  \\n**Please cite**:  \\n\\nThe MNIST database of handwritten digits with 784 features, raw data available at: http://yann.lecun.com/exdb/mnist/. It can be split in a training set of the first 60,000 examples, and a test set of 10,000 examples  \\n\\nIt is a subset of a larger set available from NIST. The digits have been size-normalized and centered in a fixed-size image. It is a good database for people who want to try learning techniques and pattern recognition methods on real-world data while spending minimal efforts on preprocessing and formatting. The original black and white (bilevel) images from NIST were size normalized to fit in a 20x20 pixel box while preserving their aspect ratio. The resulting images contain grey levels as a result of the anti-aliasing technique used by the normalization algorithm. the images were centered in a 28x28 image by computing the center of mass of the pixels, and translating the image so as to position this point at the center of the 28x28 field.  \\n\\nWith some classification methods (particularly template-based methods, such as SVM and K-nearest neighbors), the error rate improves when the digits are centered by bounding box rather than center of mass. If you do this kind of pre-processing, you should report it in your publications. The MNIST database was constructed from NIST's NIST originally designated SD-3 as their training set and SD-1 as their test set. However, SD-3 is much cleaner and easier to recognize than SD-1. The reason for this can be found on the fact that SD-3 was collected among Census Bureau employees, while SD-1 was collected among high-school students. Drawing sensible conclusions from learning experiments requires that the result be independent of the choice of training set and test among the complete set of samples. Therefore it was necessary to build a new database by mixing NIST's datasets.  \\n\\nThe MNIST training set is composed of 30,000 patterns from SD-3 and 30,000 patterns from SD-1. Our test set was composed of 5,000 patterns from SD-3 and 5,000 patterns from SD-1. The 60,000 pattern training set contained examples from approximately 250 writers. We made sure that the sets of writers of the training set and test set were disjoint. SD-1 contains 58,527 digit images written by 500 different writers. In contrast to SD-3, where blocks of data from each writer appeared in sequence, the data in SD-1 is scrambled. Writer identities for SD-1 is available and we used this information to unscramble the writers. We then split SD-1 in two: characters written by the first 250 writers went into our new training set. The remaining 250 writers were placed in our test set. Thus we had two sets with nearly 30,000 examples each. The new training set was completed with enough examples from SD-3, starting at pattern # 0, to make a full set of 60,000 training patterns. Similarly, the new test set was completed with SD-3 examples starting at pattern # 35,000 to make a full set with 60,000 test patterns. Only a subset of 10,000 test images (5,000 from SD-1 and 5,000 from SD-3) is available on this site. The full 60,000 sample training set is available.\\n\\nDownloaded from openml.org.\""
      ]
     },
     "execution_count": 7,
     "metadata": {},
     "output_type": "execute_result"
    }
   ],
   "source": [
    "mnist[\"DESCR\"]"
   ]
  },
  {
   "cell_type": "markdown",
   "id": "b58a083e",
   "metadata": {},
   "source": [
    "Datasets loaded by Scikit-Learn generally have a similar dictionary structure includ‐\n",
    "ing:\n",
    "\n",
    "• A DESCR key describing the dataset\n",
    "\n",
    "• A data key containing an array with one row per instance and one column per\n",
    "feature\n",
    "\n",
    "• A target key containing an array with the label"
   ]
  },
  {
   "cell_type": "code",
   "execution_count": 2,
   "id": "212784d8",
   "metadata": {
    "scrolled": true
   },
   "outputs": [
    {
     "data": {
      "text/plain": [
       "(70000, 784)"
      ]
     },
     "execution_count": 2,
     "metadata": {},
     "output_type": "execute_result"
    }
   ],
   "source": [
    "X, y = mnist[\"data\"], mnist[\"target\"]\n",
    "X.shape\n"
   ]
  },
  {
   "cell_type": "markdown",
   "id": "0d8a11c5",
   "metadata": {},
   "source": [
    "There are 70,000 images, and each image has 784 features. This is because each image\n",
    "is 28×28 pixels, and each feature simply represents one pixel’s intensity, from 0\n",
    "(white) to 255 (black)."
   ]
  },
  {
   "cell_type": "markdown",
   "id": "f9066777",
   "metadata": {},
   "source": [
    " Let’s take a peek at one digit from the dataset. All you need to\n",
    "do is grab an instance’s feature vector, reshape it to a 28×28 array, and display it using\n",
    "Matplotlib’s imshow() function:"
   ]
  },
  {
   "cell_type": "code",
   "execution_count": 3,
   "id": "2ab0b944",
   "metadata": {},
   "outputs": [
    {
     "data": {
      "image/png": "[encoded data removed]",
      "text/plain": [
       "<Figure size 640x480 with 1 Axes>"
      ]
     },
     "metadata": {},
     "output_type": "display_data"
    }
   ],
   "source": [
    "import matplotlib as mpl\n",
    "import matplotlib.pyplot as plt\n",
    "some_digit = X[0]\n",
    "some_digit_image = some_digit.reshape(28, 28)\n",
    "plt.imshow(some_digit_image, cmap = mpl.cm.binary, interpolation=\"nearest\")\n",
    "plt.axis(\"off\")\n",
    "plt.show()\n"
   ]
  },
  {
   "cell_type": "code",
   "execution_count": 4,
   "id": "afd2f4e2",
   "metadata": {},
   "outputs": [
    {
     "data": {
      "text/plain": [
       "'5'"
      ]
     },
     "execution_count": 4,
     "metadata": {},
     "output_type": "execute_result"
    }
   ],
   "source": [
    "y[0]"
   ]
  },
  {
   "cell_type": "code",
   "execution_count": 61,
   "id": "365c426b",
   "metadata": {
    "scrolled": false
   },
   "outputs": [
    {
     "data": {
      "text/plain": [
       "1"
      ]
     },
     "execution_count": 61,
     "metadata": {},
     "output_type": "execute_result"
    }
   ],
   "source": [
    " y[783]"
   ]
  },
  {
   "cell_type": "code",
   "execution_count": 62,
   "id": "4eb89915",
   "metadata": {},
   "outputs": [
    {
     "data": {
      "text/plain": [
       "8"
      ]
     },
     "execution_count": 62,
     "metadata": {},
     "output_type": "execute_result"
    }
   ],
   "source": [
    " y[784]"
   ]
  },
  {
   "cell_type": "code",
   "execution_count": null,
   "id": "be770580",
   "metadata": {},
   "outputs": [],
   "source": []
  },
  {
   "cell_type": "code",
   "execution_count": 64,
   "id": "a4a880fe",
   "metadata": {
    "scrolled": false
   },
   "outputs": [
    {
     "data": {
      "text/plain": [
       "array([  0.,   0.,   0.,   0.,   0.,   0.,   0.,   0.,   0.,   0.,   0.,\n",
       "         0.,   0.,   0.,   0.,   0.,   0.,   0.,   0.,   0.,   0.,   0.,\n",
       "         0.,   0.,   0.,   0.,   0.,   0.,   0.,   0.,   0.,   0.,   0.,\n",
       "         0.,   0.,   0.,   0.,   0.,   0.,   0.,   0.,   0.,   0.,   0.,\n",
       "         0.,   0.,   0.,   0.,   0.,   0.,   0.,   0.,   0.,   0.,   0.,\n",
       "         0.,   0.,   0.,   0.,   0.,   0.,   0.,   0.,   0.,   0.,   0.,\n",
       "         0.,   0.,   0.,   0.,   0.,   0.,   0.,   0.,   0.,   0.,   0.,\n",
       "         0.,   0.,   0.,   0.,   0.,   0.,   0.,   0.,   0.,   0.,   0.,\n",
       "         0.,   0.,   0.,   0.,   0.,   0.,   0.,   0.,   0.,   0.,   0.,\n",
       "         0.,   0.,   0.,   0.,   0.,   0.,   0.,   0.,   0.,   0.,   0.,\n",
       "         0.,   0.,   0.,   0.,   0.,   0.,   0.,   0.,   0.,   0.,   0.,\n",
       "         0.,   0.,   0.,   0.,   0.,   0.,   0.,   0.,   0.,   0.,   0.,\n",
       "         0.,   0.,   0.,   0.,   0.,   0.,   0.,   0.,   0.,   0.,   0.,\n",
       "         0.,   0.,   0.,   0.,   0.,   0.,   0.,   0.,   0.,   3.,  18.,\n",
       "        18.,  18., 126., 136., 175.,  26., 166., 255., 247., 127.,   0.,\n",
       "         0.,   0.,   0.,   0.,   0.,   0.,   0.,   0.,   0.,   0.,   0.,\n",
       "        30.,  36.,  94., 154., 170., 253., 253., 253., 253., 253., 225.,\n",
       "       172., 253., 242., 195.,  64.,   0.,   0.,   0.,   0.,   0.,   0.,\n",
       "         0.,   0.,   0.,   0.,   0.,  49., 238., 253., 253., 253., 253.,\n",
       "       253., 253., 253., 253., 251.,  93.,  82.,  82.,  56.,  39.,   0.,\n",
       "         0.,   0.,   0.,   0.,   0.,   0.,   0.,   0.,   0.,   0.,   0.,\n",
       "        18., 219., 253., 253., 253., 253., 253., 198., 182., 247., 241.,\n",
       "         0.,   0.,   0.,   0.,   0.,   0.,   0.,   0.,   0.,   0.,   0.,\n",
       "         0.,   0.,   0.,   0.,   0.,   0.,   0.,  80., 156., 107., 253.,\n",
       "       253., 205.,  11.,   0.,  43., 154.,   0.,   0.,   0.,   0.,   0.,\n",
       "         0.,   0.,   0.,   0.,   0.,   0.,   0.,   0.,   0.,   0.,   0.,\n",
       "         0.,   0.,   0.,  14.,   1., 154., 253.,  90.,   0.,   0.,   0.,\n",
       "         0.,   0.,   0.,   0.,   0.,   0.,   0.,   0.,   0.,   0.,   0.,\n",
       "         0.,   0.,   0.,   0.,   0.,   0.,   0.,   0.,   0.,   0.,   0.,\n",
       "       139., 253., 190.,   2.,   0.,   0.,   0.,   0.,   0.,   0.,   0.,\n",
       "         0.,   0.,   0.,   0.,   0.,   0.,   0.,   0.,   0.,   0.,   0.,\n",
       "         0.,   0.,   0.,   0.,   0.,   0.,  11., 190., 253.,  70.,   0.,\n",
       "         0.,   0.,   0.,   0.,   0.,   0.,   0.,   0.,   0.,   0.,   0.,\n",
       "         0.,   0.,   0.,   0.,   0.,   0.,   0.,   0.,   0.,   0.,   0.,\n",
       "         0.,   0.,  35., 241., 225., 160., 108.,   1.,   0.,   0.,   0.,\n",
       "         0.,   0.,   0.,   0.,   0.,   0.,   0.,   0.,   0.,   0.,   0.,\n",
       "         0.,   0.,   0.,   0.,   0.,   0.,   0.,   0.,   0.,  81., 240.,\n",
       "       253., 253., 119.,  25.,   0.,   0.,   0.,   0.,   0.,   0.,   0.,\n",
       "         0.,   0.,   0.,   0.,   0.,   0.,   0.,   0.,   0.,   0.,   0.,\n",
       "         0.,   0.,   0.,   0.,   0.,  45., 186., 253., 253., 150.,  27.,\n",
       "         0.,   0.,   0.,   0.,   0.,   0.,   0.,   0.,   0.,   0.,   0.,\n",
       "         0.,   0.,   0.,   0.,   0.,   0.,   0.,   0.,   0.,   0.,   0.,\n",
       "         0.,  16.,  93., 252., 253., 187.,   0.,   0.,   0.,   0.,   0.,\n",
       "         0.,   0.,   0.,   0.,   0.,   0.,   0.,   0.,   0.,   0.,   0.,\n",
       "         0.,   0.,   0.,   0.,   0.,   0.,   0.,   0.,   0., 249., 253.,\n",
       "       249.,  64.,   0.,   0.,   0.,   0.,   0.,   0.,   0.,   0.,   0.,\n",
       "         0.,   0.,   0.,   0.,   0.,   0.,   0.,   0.,   0.,   0.,   0.,\n",
       "         0.,  46., 130., 183., 253., 253., 207.,   2.,   0.,   0.,   0.,\n",
       "         0.,   0.,   0.,   0.,   0.,   0.,   0.,   0.,   0.,   0.,   0.,\n",
       "         0.,   0.,   0.,   0.,   0.,  39., 148., 229., 253., 253., 253.,\n",
       "       250., 182.,   0.,   0.,   0.,   0.,   0.,   0.,   0.,   0.,   0.,\n",
       "         0.,   0.,   0.,   0.,   0.,   0.,   0.,   0.,   0.,  24., 114.,\n",
       "       221., 253., 253., 253., 253., 201.,  78.,   0.,   0.,   0.,   0.,\n",
       "         0.,   0.,   0.,   0.,   0.,   0.,   0.,   0.,   0.,   0.,   0.,\n",
       "         0.,   0.,  23.,  66., 213., 253., 253., 253., 253., 198.,  81.,\n",
       "         2.,   0.,   0.,   0.,   0.,   0.,   0.,   0.,   0.,   0.,   0.,\n",
       "         0.,   0.,   0.,   0.,   0.,   0.,  18., 171., 219., 253., 253.,\n",
       "       253., 253., 195.,  80.,   9.,   0.,   0.,   0.,   0.,   0.,   0.,\n",
       "         0.,   0.,   0.,   0.,   0.,   0.,   0.,   0.,   0.,   0.,  55.,\n",
       "       172., 226., 253., 253., 253., 253., 244., 133.,  11.,   0.,   0.,\n",
       "         0.,   0.,   0.,   0.,   0.,   0.,   0.,   0.,   0.,   0.,   0.,\n",
       "         0.,   0.,   0.,   0.,   0., 136., 253., 253., 253., 212., 135.,\n",
       "       132.,  16.,   0.,   0.,   0.,   0.,   0.,   0.,   0.,   0.,   0.,\n",
       "         0.,   0.,   0.,   0.,   0.,   0.,   0.,   0.,   0.,   0.,   0.,\n",
       "         0.,   0.,   0.,   0.,   0.,   0.,   0.,   0.,   0.,   0.,   0.,\n",
       "         0.,   0.,   0.,   0.,   0.,   0.,   0.,   0.,   0.,   0.,   0.,\n",
       "         0.,   0.,   0.,   0.,   0.,   0.,   0.,   0.,   0.,   0.,   0.,\n",
       "         0.,   0.,   0.,   0.,   0.,   0.,   0.,   0.,   0.,   0.,   0.,\n",
       "         0.,   0.,   0.,   0.,   0.,   0.,   0.,   0.,   0.,   0.,   0.,\n",
       "         0.,   0.,   0.,   0.,   0.,   0.,   0.,   0.,   0.,   0.,   0.,\n",
       "         0.,   0.,   0.,   0.,   0.,   0.,   0.,   0.,   0.,   0.,   0.,\n",
       "         0.,   0.,   0.])"
      ]
     },
     "execution_count": 64,
     "metadata": {},
     "output_type": "execute_result"
    }
   ],
   "source": [
    "X[0]"
   ]
  },
  {
   "cell_type": "code",
   "execution_count": 5,
   "id": "684d535b",
   "metadata": {},
   "outputs": [],
   "source": [
    "import numpy as np\n",
    "y = y.astype(np.uint8)\n"
   ]
  },
  {
   "cell_type": "markdown",
   "id": "29b2561d",
   "metadata": {},
   "source": [
    "# Training a Binary Classifer\n",
    "Let’s simplify the problem for now and only try to identify one digit—for example,\n",
    "the number 5. This “5-detector” will be an example of a binary classifier, capable of\n",
    "distinguishing between just two classes, 5 and not-5. Let’s create the target vectors for\n",
    "this classification task:\n"
   ]
  },
  {
   "cell_type": "code",
   "execution_count": 6,
   "id": "f43d5e48",
   "metadata": {},
   "outputs": [],
   "source": [
    "X_train, X_test, y_train, y_test = X[:60000], X[60000:], y[:60000], y[60000:]"
   ]
  },
  {
   "cell_type": "code",
   "execution_count": 7,
   "id": "0c05543b",
   "metadata": {},
   "outputs": [],
   "source": [
    "y_train_5 = (y_train == 5) # True for all 5s, False for all other digits.\n",
    "y_test_5 = (y_test == 5)"
   ]
  },
  {
   "cell_type": "code",
   "execution_count": 8,
   "id": "1f12f69e",
   "metadata": {},
   "outputs": [
    {
     "name": "stdout",
     "output_type": "stream",
     "text": [
      "[ True False False ...  True False False]\n"
     ]
    }
   ],
   "source": [
    "print(y_train_5)"
   ]
  },
  {
   "cell_type": "markdown",
   "id": "45664336",
   "metadata": {},
   "source": [
    "now x_train contains all the training data (i.e  X[:60000]  ) and y_train_5 contains is x_train[0] value true (if 5) or false  "
   ]
  },
  {
   "cell_type": "code",
   "execution_count": 9,
   "id": "a676accb",
   "metadata": {},
   "outputs": [
    {
     "data": {
      "text/plain": [
       "SGDClassifier(max_iter=5, random_state=42, tol=-inf)"
      ]
     },
     "execution_count": 9,
     "metadata": {},
     "output_type": "execute_result"
    }
   ],
   "source": [
    "from sklearn.linear_model import SGDClassifier\n",
    "\n",
    "sgd_clf = SGDClassifier(max_iter=5, tol=-np.infty, random_state=42)\n",
    "sgd_clf.fit(X_train, y_train_5)"
   ]
  },
  {
   "cell_type": "markdown",
   "id": "5db63ed5",
   "metadata": {},
   "source": [
    "Note: some hyperparameters will have a different defaut value in future versions of Scikit-Learn, such as max_iter and tol. To be future-proof, we explicitly set these hyperparameters to their future default values. For simplicity, this is not shown in the book."
   ]
  },
  {
   "cell_type": "code",
   "execution_count": 10,
   "id": "f3fd443d",
   "metadata": {},
   "outputs": [
    {
     "data": {
      "text/plain": [
       "SGDClassifier(random_state=42)"
      ]
     },
     "execution_count": 10,
     "metadata": {},
     "output_type": "execute_result"
    }
   ],
   "source": [
    "from sklearn.linear_model import SGDClassifier\n",
    "\n",
    "sgd_clf = SGDClassifier(max_iter=1000, tol=1e-3,random_state=42)\n",
    "sgd_clf.fit(X_train, y_train_5)\n"
   ]
  },
  {
   "cell_type": "code",
   "execution_count": 11,
   "id": "6b0bc973",
   "metadata": {},
   "outputs": [
    {
     "data": {
      "text/plain": [
       "array([ True])"
      ]
     },
     "execution_count": 11,
     "metadata": {},
     "output_type": "execute_result"
    }
   ],
   "source": [
    "sgd_clf.predict([some_digit])"
   ]
  },
  {
   "cell_type": "markdown",
   "id": "ec5b7e82",
   "metadata": {},
   "source": [
    "# Performance Measures"
   ]
  },
  {
   "cell_type": "markdown",
   "id": "4c0581ac",
   "metadata": {},
   "source": [
    "# Measuring Accuracy Using Cross-Validation"
   ]
  },
  {
   "cell_type": "code",
   "execution_count": 12,
   "id": "bf93b1ad",
   "metadata": {},
   "outputs": [
    {
     "name": "stdout",
     "output_type": "stream",
     "text": [
      "[ True False False ...  True False False]\n",
      "0.9669\n",
      "[ True False False ...  True False False]\n",
      "0.91625\n",
      "[ True False False ...  True False False]\n",
      "0.96785\n"
     ]
    }
   ],
   "source": [
    "from sklearn.model_selection import StratifiedKFold\n",
    "from sklearn.base import clone\n",
    "skfolds = StratifiedKFold(n_splits=3, random_state=42,shuffle=True)\n",
    "for train_index, test_index in skfolds.split(X_train, y_train_5):\n",
    " print(y_train_5)\n",
    " clone_clf = clone(sgd_clf)\n",
    " X_train_folds = X_train[train_index]\n",
    " y_train_folds = y_train_5[train_index]\n",
    " X_test_fold = X_train[test_index]\n",
    " y_test_fold = y_train_5[test_index]\n",
    " clone_clf.fit(X_train_folds, y_train_folds)\n",
    " y_pred = clone_clf.predict(X_test_fold)\n",
    " n_correct = sum(y_pred == y_test_fold)\n",
    " print(n_correct / len(y_pred))"
   ]
  },
  {
   "cell_type": "markdown",
   "id": "9ace9f16",
   "metadata": {},
   "source": [
    "# using library"
   ]
  },
  {
   "cell_type": "code",
   "execution_count": 13,
   "id": "c52d245a",
   "metadata": {},
   "outputs": [
    {
     "data": {
      "text/plain": [
       "array([0.95035, 0.96035, 0.9604 ])"
      ]
     },
     "execution_count": 13,
     "metadata": {},
     "output_type": "execute_result"
    }
   ],
   "source": [
    "from sklearn.model_selection import cross_val_score\n",
    "cross_val_score(sgd_clf, X_train, y_train_5, cv=3, scoring=\"accuracy\")"
   ]
  },
  {
   "cell_type": "markdown",
   "id": "9031abd1",
   "metadata": {},
   "source": [
    "let’s look at a very\n",
    "dumb classifier that just classifies every single image in the “not-5” class:"
   ]
  },
  {
   "cell_type": "code",
   "execution_count": 14,
   "id": "b1a07f81",
   "metadata": {},
   "outputs": [],
   "source": [
    "from sklearn.base import BaseEstimator\n",
    "class Never5Classifier(BaseEstimator):\n",
    " def fit(self, X, y=None):\n",
    "  pass\n",
    " def predict(self, X):\n",
    "  return np.zeros((len(X), 1), dtype=bool)"
   ]
  },
  {
   "cell_type": "code",
   "execution_count": 15,
   "id": "52b7de7b",
   "metadata": {},
   "outputs": [
    {
     "data": {
      "text/plain": [
       "array([0.91125, 0.90855, 0.90915])"
      ]
     },
     "execution_count": 15,
     "metadata": {},
     "output_type": "execute_result"
    }
   ],
   "source": [
    " never_5_clf = Never5Classifier()\n",
    " cross_val_score(never_5_clf, X_train, y_train_5, cv=3, scoring=\"accuracy\")"
   ]
  },
  {
   "cell_type": "markdown",
   "id": "629ca5f5",
   "metadata": {},
   "source": [
    "That’s right, it has over 90% accuracy! This is simply because only about 10% of the\n",
    "images are 5s, so if you always guess that an image is not a 5, you will be right about\n",
    "90% of the time. Beats Nostradamus.\n",
    "This demonstrates why accuracy is generally not the preferred performance measure\n",
    "for classifiers, especially when you are dealing with skewed datasets (i.e., when some\n",
    "classes are much more frequent than others)"
   ]
  },
  {
   "cell_type": "code",
   "execution_count": 16,
   "id": "57ddc351",
   "metadata": {},
   "outputs": [],
   "source": [
    "never_5_clf.fit(X_train,y_train_5)"
   ]
  },
  {
   "cell_type": "code",
   "execution_count": 17,
   "id": "aedf8c4e",
   "metadata": {},
   "outputs": [
    {
     "data": {
      "text/plain": [
       "array([[False],\n",
       "       [False],\n",
       "       [False],\n",
       "       ...,\n",
       "       [False],\n",
       "       [False],\n",
       "       [False]])"
      ]
     },
     "execution_count": 17,
     "metadata": {},
     "output_type": "execute_result"
    }
   ],
   "source": [
    "never_5_clf.predict(X_test)"
   ]
  },
  {
   "cell_type": "markdown",
   "id": "524dc4cc",
   "metadata": {},
   "source": [
    "# Confusion Matrix"
   ]
  },
  {
   "cell_type": "markdown",
   "id": "db2017bf",
   "metadata": {},
   "source": [
    "### The general idea is to count the number of times instances of class A are\n",
    "### classified as class B. For example, to know the number of times the classifier confused\n",
    "### images of 5s with 3s, you would look in the 5th row and 3rd column of the confusion\n",
    "### matrix."
   ]
  },
  {
   "cell_type": "markdown",
   "id": "4bc59ea4",
   "metadata": {},
   "source": [
    "Now you are ready to get the confusion matrix using the confusion_matrix() func‐\n",
    "tion. Just pass it the target classes (y_train_5) and the predicted classes\n",
    "(y_train_pred):\n"
   ]
  },
  {
   "cell_type": "code",
   "execution_count": 18,
   "id": "204c787b",
   "metadata": {},
   "outputs": [],
   "source": [
    "from sklearn.model_selection import cross_val_predict\n",
    "y_train_pred = cross_val_predict(sgd_clf, X_train, y_train_5, cv=3)"
   ]
  },
  {
   "cell_type": "code",
   "execution_count": 19,
   "id": "66af0357",
   "metadata": {},
   "outputs": [
    {
     "data": {
      "text/plain": [
       "array([[53892,   687],\n",
       "       [ 1891,  3530]], dtype=int64)"
      ]
     },
     "execution_count": 19,
     "metadata": {},
     "output_type": "execute_result"
    }
   ],
   "source": [
    "from sklearn.metrics import confusion_matrix\n",
    "confusion_matrix(y_train_5, y_train_pred)"
   ]
  },
  {
   "cell_type": "markdown",
   "id": "57812941",
   "metadata": {},
   "source": [
    "# ###  The first row of this matrix considers non-5 images (the nega‐tive class): 53,057 of them were correctly classified as non-5s (they are called true negatives), while the remaining 1,522 were wrongly classified as 5s (false positives). The second row considers the images of 5s (the positive class): 1,325 were wrongly classified as non-5s (false negatives), while the remaining 4,096 were correctly classi‐ fied as 5s (true positives). A perfect classifier would have only true positives and true negatives, so its confusion matrix would have nonzero values only on its main diago‐ nal (top left to bottom right):"
   ]
  },
  {
   "cell_type": "code",
   "execution_count": 20,
   "id": "9cfa0c04",
   "metadata": {},
   "outputs": [
    {
     "data": {
      "text/plain": [
       "array([[54579,     0],\n",
       "       [    0,  5421]], dtype=int64)"
      ]
     },
     "execution_count": 20,
     "metadata": {},
     "output_type": "execute_result"
    }
   ],
   "source": [
    "y_train_perfect_predictions = y_train_5 # pretend we reached perfection\n",
    "confusion_matrix(y_train_5, y_train_perfect_predictions)\n",
    "   "
   ]
  },
  {
   "cell_type": "markdown",
   "id": "666f2a2e",
   "metadata": {},
   "source": [
    "# Precision and Recall"
   ]
  },
  {
   "cell_type": "code",
   "execution_count": 21,
   "id": "7d5ef139",
   "metadata": {},
   "outputs": [
    {
     "data": {
      "text/plain": [
       "0.6511713705958311"
      ]
     },
     "execution_count": 21,
     "metadata": {},
     "output_type": "execute_result"
    }
   ],
   "source": [
    "from sklearn.metrics import precision_score, recall_score\n",
    "precision_score(y_train_5, y_train_pred) # == 4096 / (4096 + 1522)\n",
    "recall_score(y_train_5, y_train_pred) # == 4096 / (4096 + 1325)\n"
   ]
  },
  {
   "cell_type": "markdown",
   "id": "91d72c59",
   "metadata": {},
   "source": [
    "It is often convenient to combine precision and recall into a single metric called the F1\n",
    "score,"
   ]
  },
  {
   "cell_type": "code",
   "execution_count": 22,
   "id": "c98aa284",
   "metadata": {},
   "outputs": [
    {
     "data": {
      "text/plain": [
       "0.7325171197343846"
      ]
     },
     "execution_count": 22,
     "metadata": {},
     "output_type": "execute_result"
    }
   ],
   "source": [
    "from sklearn.metrics import f1_score\n",
    "f1_score(y_train_5, y_train_pred)\n"
   ]
  },
  {
   "cell_type": "markdown",
   "id": "c5551be0",
   "metadata": {},
   "source": [
    "Scikit-Learn does not let you set the threshold directly, but it does give you access to\n",
    "the decision scores that it uses to make predictions. Instead of calling the classifier’s\n",
    "predict() method, you can call its decision_function() method, which returns a\n",
    "score for each instance, and then make predictions based on those scores using any\n",
    "threshold you want:"
   ]
  },
  {
   "cell_type": "markdown",
   "id": "f945233c",
   "metadata": {},
   "source": [
    "below y_scores are the scores made by decision function if the scores is greater than threshold then it is considered as true positive "
   ]
  },
  {
   "cell_type": "markdown",
   "id": "48148443",
   "metadata": {},
   "source": [
    "# decision function generates score which if it is greater than threshold then it is classified in one classification otherwise another "
   ]
  },
  {
   "cell_type": "code",
   "execution_count": 23,
   "id": "2e10f458",
   "metadata": {},
   "outputs": [
    {
     "name": "stdout",
     "output_type": "stream",
     "text": [
      "[2164.22030239]\n"
     ]
    }
   ],
   "source": [
    "y_scores = sgd_clf.decision_function([some_digit])\n",
    "print(y_scores)\n"
   ]
  },
  {
   "cell_type": "code",
   "execution_count": 24,
   "id": "5ccdfac7",
   "metadata": {},
   "outputs": [],
   "source": [
    "threshold = 0\n",
    "y_some_digit_pred = (y_scores > threshold)\n"
   ]
  },
  {
   "cell_type": "code",
   "execution_count": 25,
   "id": "200db497",
   "metadata": {},
   "outputs": [
    {
     "name": "stdout",
     "output_type": "stream",
     "text": [
      "[ True]\n"
     ]
    }
   ],
   "source": [
    "print(y_some_digit_pred)"
   ]
  },
  {
   "cell_type": "code",
   "execution_count": 26,
   "id": "65228953",
   "metadata": {},
   "outputs": [
    {
     "data": {
      "text/plain": [
       "array([ True])"
      ]
     },
     "execution_count": 26,
     "metadata": {},
     "output_type": "execute_result"
    }
   ],
   "source": [
    " threshold = 2162\n",
    "y_some_digit_pred = (y_scores > threshold)\n",
    "y_some_digit_pred"
   ]
  },
  {
   "cell_type": "code",
   "execution_count": 27,
   "id": "31a1a898",
   "metadata": {},
   "outputs": [],
   "source": [
    "y_scores = cross_val_predict(sgd_clf, X_train, y_train_5, cv=3,\n",
    " method=\"decision_function\")\n",
    "from sklearn.metrics import precision_recall_curve\n",
    "precisions, recalls, thresholds = precision_recall_curve(y_train_5, y_scores)"
   ]
  },
  {
   "cell_type": "code",
   "execution_count": 28,
   "id": "b2852421",
   "metadata": {},
   "outputs": [
    {
     "data": {
      "image/png": "[encoded data removed]",
      "text/plain": [
       "<Figure size 640x480 with 1 Axes>"
      ]
     },
     "metadata": {},
     "output_type": "display_data"
    }
   ],
   "source": [
    "def plot_precision_recall_vs_threshold(precisions, recalls, thresholds):\n",
    "  plt.plot(thresholds, precisions[:-1], \"b--\", label=\"Precision\")\n",
    "  plt.plot(thresholds, recalls[:-1], \"g-\", label=\"Recall\")\n",
    "  [...] # highlight the threshold, add the legend, axis label and grid\n",
    "plot_precision_recall_vs_threshold(precisions, recalls, thresholds)\n",
    "plt.show()"
   ]
  },
  {
   "cell_type": "code",
   "execution_count": 29,
   "id": "c8379e2e",
   "metadata": {},
   "outputs": [
    {
     "data": {
      "image/png": "[encoded data removed]",
      "text/plain": [
       "<Figure size 640x480 with 1 Axes>"
      ]
     },
     "metadata": {},
     "output_type": "display_data"
    }
   ],
   "source": [
    "plt.plot(recalls, precisions)\n",
    "plt.xlabel('Recall')\n",
    "plt.ylabel('Precision')\n",
    "plt.grid()\n",
    "plt.show()"
   ]
  },
  {
   "cell_type": "markdown",
   "id": "504c3664",
   "metadata": {},
   "source": [
    "## So let’s suppose you decide to aim for 90% precision. You look up the first plot and\n",
    "find that you need to use a threshold of about 8,000. To be more precise you can\n",
    "search for the lowest threshold that gives you at least 90% precision (np.argmax()\n",
    "will give us the first index of the maximum value, which in this case means the first\n",
    "True value):"
   ]
  },
  {
   "cell_type": "code",
   "execution_count": 30,
   "id": "bd8f8e3e",
   "metadata": {},
   "outputs": [],
   "source": [
    "threshold_90_precision = thresholds[np.argmax(precisions >= 0.90)] "
   ]
  },
  {
   "cell_type": "code",
   "execution_count": 31,
   "id": "11b6ff6b",
   "metadata": {},
   "outputs": [
    {
     "data": {
      "text/plain": [
       "3370.0194991439594"
      ]
     },
     "execution_count": 31,
     "metadata": {},
     "output_type": "execute_result"
    }
   ],
   "source": [
    "threshold_90_precision "
   ]
  },
  {
   "cell_type": "code",
   "execution_count": 32,
   "id": "5ecf1eed",
   "metadata": {
    "scrolled": true
   },
   "outputs": [
    {
     "data": {
      "text/plain": [
       "array([  1200.93051237, -26883.79202424, -33072.03475406, ...,\n",
       "        13272.12718981,  -7258.47203373, -16877.50840447])"
      ]
     },
     "execution_count": 32,
     "metadata": {},
     "output_type": "execute_result"
    }
   ],
   "source": [
    "y_scores\n"
   ]
  },
  {
   "cell_type": "code",
   "execution_count": 33,
   "id": "6b1018f0",
   "metadata": {},
   "outputs": [
    {
     "name": "stdout",
     "output_type": "stream",
     "text": [
      "[  1200.93051237 -26883.79202424 -33072.03475406 ...  13272.12718981\n",
      "  -7258.47203373 -16877.50840447]\n"
     ]
    }
   ],
   "source": [
    "print(y_scores)"
   ]
  },
  {
   "cell_type": "code",
   "execution_count": 34,
   "id": "a8df72b5",
   "metadata": {},
   "outputs": [],
   "source": [
    "y_train_pred_90 = (y_scores >= threshold_90_precision)"
   ]
  },
  {
   "cell_type": "code",
   "execution_count": 35,
   "id": "84d3cfd6",
   "metadata": {},
   "outputs": [
    {
     "data": {
      "text/plain": [
       "array([False, False, False, ...,  True, False, False])"
      ]
     },
     "execution_count": 35,
     "metadata": {},
     "output_type": "execute_result"
    }
   ],
   "source": [
    "y_train_pred_90"
   ]
  },
  {
   "cell_type": "code",
   "execution_count": 36,
   "id": "f7f2f96e",
   "metadata": {},
   "outputs": [
    {
     "data": {
      "text/plain": [
       "0.9000345901072293"
      ]
     },
     "execution_count": 36,
     "metadata": {},
     "output_type": "execute_result"
    }
   ],
   "source": [
    " precision_score(y_train_5, y_train_pred_90)\n"
   ]
  },
  {
   "cell_type": "code",
   "execution_count": 37,
   "id": "6b50efdb",
   "metadata": {},
   "outputs": [
    {
     "data": {
      "text/plain": [
       "0.4799852425751706"
      ]
     },
     "execution_count": 37,
     "metadata": {},
     "output_type": "execute_result"
    }
   ],
   "source": [
    "recall_score(y_train_5, y_train_pred_90)"
   ]
  },
  {
   "cell_type": "markdown",
   "id": "2114555e",
   "metadata": {},
   "source": [
    "## If someone says “let’s reach 99% precision,” you should ask, “at\n",
    "## what recall?”"
   ]
  },
  {
   "cell_type": "markdown",
   "id": "54fa210a",
   "metadata": {},
   "source": [
    "## The ROC Curve"
   ]
  },
  {
   "cell_type": "markdown",
   "id": "0d80dcd7",
   "metadata": {},
   "source": [
    " the ROC curve plots the true positive rate (another name\n",
    "for recall) against the false positive rate. The FPR is the ratio of negative instances that\n",
    "are incorrectly classified as positive. It is equal to one minus the true negative rate, \n",
    "which is the ratio of negative instances that are correctly classified as negative. The\n",
    "TNR is also called specificity. Hence the ROC curve plots sensitivity (recall) versus\n",
    "1 – specificity."
   ]
  },
  {
   "cell_type": "code",
   "execution_count": 38,
   "id": "74f844cb",
   "metadata": {},
   "outputs": [],
   "source": [
    "y_scores = cross_val_predict(sgd_clf, X_train, y_train_5, cv=3,\n",
    "                             method=\"decision_function\")"
   ]
  },
  {
   "cell_type": "markdown",
   "id": "897ddfda",
   "metadata": {},
   "source": [
    "To plot the ROC curve, you first need to compute the TPR and FPR for various thres‐\n",
    "hold values, using the roc_curve() function:"
   ]
  },
  {
   "cell_type": "code",
   "execution_count": 39,
   "id": "08b0ec8f",
   "metadata": {},
   "outputs": [],
   "source": [
    "from sklearn.metrics import roc_curve\n",
    "fpr, tpr, thresholds = roc_curve(y_train_5, y_scores)\n"
   ]
  },
  {
   "cell_type": "code",
   "execution_count": 40,
   "id": "0f7158ae",
   "metadata": {},
   "outputs": [
    {
     "data": {
      "image/png": "[encoded data removed]",
      "text/plain": [
       "<Figure size 640x480 with 1 Axes>"
      ]
     },
     "metadata": {},
     "output_type": "display_data"
    }
   ],
   "source": [
    "def plot_roc_curve(fpr, tpr, label=None):\n",
    " plt.plot(fpr, tpr, linewidth=2, label=label)\n",
    " plt.plot([0, 1], [0, 1], 'k--') # dashed diagonal\n",
    " [...] # Add axis labels and grid\n",
    "plot_roc_curve(fpr, tpr)\n",
    "plt.show()\n"
   ]
  },
  {
   "cell_type": "code",
   "execution_count": 41,
   "id": "c3a3d46e",
   "metadata": {},
   "outputs": [
    {
     "data": {
      "text/plain": [
       "0.9604938554008616"
      ]
     },
     "execution_count": 41,
     "metadata": {},
     "output_type": "execute_result"
    }
   ],
   "source": [
    "from sklearn.metrics import roc_auc_score\n",
    "roc_auc_score(y_train_5, y_scores)\n"
   ]
  },
  {
   "cell_type": "markdown",
   "id": "3ed5b6c2",
   "metadata": {},
   "source": [
    "the RandomForestClassi\n",
    "fier class does not have a decision_function() method. Instead it has a pre\n",
    "dict_proba() method. Scikit-Learn classifiers generally have one or the other. The\n",
    "predict_proba() method returns an array containing a row per instance and a col‐\n",
    "umn per class, each containing the probability that the given instance belongs to the\n",
    "given class (e.g., 70% chance that the image represents a 5)"
   ]
  },
  {
   "cell_type": "code",
   "execution_count": 42,
   "id": "a32aad61",
   "metadata": {},
   "outputs": [],
   "source": [
    "from sklearn.ensemble import RandomForestClassifier\n",
    "forest_clf = RandomForestClassifier(random_state=42)\n",
    "y_probas_forest = cross_val_predict(forest_clf, X_train, y_train_5, cv=3,\n",
    " method=\"predict_proba\")"
   ]
  },
  {
   "cell_type": "code",
   "execution_count": 43,
   "id": "4448ecc4",
   "metadata": {},
   "outputs": [],
   "source": [
    "y_scores_forest = y_probas_forest[:, 1] # score = proba of positive class\n",
    "fpr_forest, tpr_forest, thresholds_forest = roc_curve(y_train_5,y_scores_forest)\n"
   ]
  },
  {
   "cell_type": "code",
   "execution_count": 44,
   "id": "54e611ee",
   "metadata": {},
   "outputs": [
    {
     "data": {
      "image/png": "[encoded data removed]",
      "text/plain": [
       "<Figure size 640x480 with 1 Axes>"
      ]
     },
     "metadata": {},
     "output_type": "display_data"
    }
   ],
   "source": [
    "plt.plot(fpr, tpr, \"b:\", label=\"SGD\")\n",
    "plot_roc_curve(fpr_forest, tpr_forest, \"Random Forest\")\n",
    "plt.legend(loc=\"lower right\")\n",
    "plt.show()"
   ]
  },
  {
   "cell_type": "markdown",
   "id": "969be576",
   "metadata": {},
   "source": [
    "As you can see in Figure 3-7, the RandomForestClassifier’s ROC curve looks much\n",
    "better than the SGDClassifier’s: it comes much closer to the top-left corner. As a\n",
    "result, its ROC AUC score is also significantly better:\n"
   ]
  },
  {
   "cell_type": "code",
   "execution_count": 45,
   "id": "05349f9e",
   "metadata": {},
   "outputs": [
    {
     "data": {
      "text/plain": [
       "0.9983436731328145"
      ]
     },
     "execution_count": 45,
     "metadata": {},
     "output_type": "execute_result"
    }
   ],
   "source": [
    "roc_auc_score(y_train_5, y_scores_forest)"
   ]
  },
  {
   "cell_type": "markdown",
   "id": "644a4f71",
   "metadata": {},
   "source": [
    "# Multiclass Classifcation"
   ]
  },
  {
   "cell_type": "markdown",
   "id": "3cfa21b9",
   "metadata": {},
   "source": [
    "Some algorithms (such as Random Forest classifiers or naive Bayes classifiers) are\n",
    "capable of handling multiple classes directly. Others (such as Support Vector Machine\n",
    "classifiers or Linear classifiers) are strictly binary classifiers. "
   ]
  },
  {
   "cell_type": "markdown",
   "id": "5c65a2bc",
   "metadata": {},
   "source": [
    "when you want to classify an image, you get\n",
    "the decision score from each classifier for that image and you select the class whose\n",
    "classifier outputs the highest score. This is called the one-versus-all (OvA) strategy \n",
    "(also called one-versus-the-rest)."
   ]
  },
  {
   "cell_type": "markdown",
   "id": "8654b150",
   "metadata": {},
   "source": [
    "Another strategy is to train a binary classifier for every pair of digits: one to distin‐\n",
    "guish 0s and 1s, another to distinguish 0s and 2s, another for 1s and 2s, and so on.\n",
    "This is called the one-versus-one (OvO) strategy. If there are N classes, you need to\n",
    "train N × (N – 1) / 2 classifiers. For the MNIST problem, this means training 45\n",
    "binary classifiers! When you want to classify an image, you have to run the image\n",
    "through all 45 classifiers and see which class wins the most duels. The main advan‐\n",
    "tage of OvO is that each classifier only needs to be trained on the part of the training\n",
    "set for the two classes that it must distinguish."
   ]
  },
  {
   "cell_type": "code",
   "execution_count": 46,
   "id": "e91fa150",
   "metadata": {},
   "outputs": [
    {
     "data": {
      "text/plain": [
       "SGDClassifier(random_state=42)"
      ]
     },
     "execution_count": 46,
     "metadata": {},
     "output_type": "execute_result"
    }
   ],
   "source": [
    "sgd_clf.fit(X_train, y_train) # y_train, not y_train_5"
   ]
  },
  {
   "cell_type": "code",
   "execution_count": 47,
   "id": "69981ebe",
   "metadata": {},
   "outputs": [
    {
     "data": {
      "text/plain": [
       "array([3], dtype=uint8)"
      ]
     },
     "execution_count": 47,
     "metadata": {},
     "output_type": "execute_result"
    }
   ],
   "source": [
    "sgd_clf.predict([some_digit])\n"
   ]
  },
  {
   "cell_type": "markdown",
   "id": "067c0edd",
   "metadata": {},
   "source": [
    "That was easy! This code trains the SGDClassifier on the training set using the origi‐\n",
    "nal target classes from 0 to 9 (y_train), instead of the 5-versus-all target classes\n",
    "(y_train_5). Then it makes a prediction (a correct one in this case). Under the hood,\n",
    "Scikit-Learn actually trained 10 binary classifiers, got their decision scores for the\n",
    "image, and selected the class with the highest score."
   ]
  },
  {
   "cell_type": "code",
   "execution_count": 48,
   "id": "4da38c9b",
   "metadata": {},
   "outputs": [],
   "source": [
    "some_digit_scores = sgd_clf.decision_function([some_digit])"
   ]
  },
  {
   "cell_type": "markdown",
   "id": "b7c71d39",
   "metadata": {},
   "source": [
    "To see that this is indeed the case, you can call the decision_function() method.\n",
    "Instead of returning just one score per instance, it now returns 10 scores, one per\n",
    "class:\n"
   ]
  },
  {
   "cell_type": "code",
   "execution_count": 49,
   "id": "4fdab404",
   "metadata": {},
   "outputs": [
    {
     "data": {
      "text/plain": [
       "array([[-31893.03095419, -34419.69069632,  -9530.63950739,\n",
       "          1823.73154031, -22320.14822878,  -1385.80478895,\n",
       "        -26188.91070951, -16147.51323997,  -4604.35491274,\n",
       "        -12050.767298  ]])"
      ]
     },
     "execution_count": 49,
     "metadata": {},
     "output_type": "execute_result"
    }
   ],
   "source": [
    "some_digit_scores"
   ]
  },
  {
   "cell_type": "markdown",
   "id": "a91d5b66",
   "metadata": {},
   "source": [
    "The highest score is indeed the one corresponding to class 5:"
   ]
  },
  {
   "cell_type": "code",
   "execution_count": 50,
   "id": "b2dbb997",
   "metadata": {},
   "outputs": [
    {
     "data": {
      "text/plain": [
       "3"
      ]
     },
     "execution_count": 50,
     "metadata": {},
     "output_type": "execute_result"
    }
   ],
   "source": [
    "np.argmax(some_digit_scores)"
   ]
  },
  {
   "cell_type": "code",
   "execution_count": 51,
   "id": "559173ab",
   "metadata": {},
   "outputs": [
    {
     "data": {
      "text/plain": [
       "array([0, 1, 2, 3, 4, 5, 6, 7, 8, 9], dtype=uint8)"
      ]
     },
     "execution_count": 51,
     "metadata": {},
     "output_type": "execute_result"
    }
   ],
   "source": [
    "sgd_clf.classes_\n"
   ]
  },
  {
   "cell_type": "code",
   "execution_count": 52,
   "id": "21a4e8b1",
   "metadata": {},
   "outputs": [
    {
     "data": {
      "text/plain": [
       "4"
      ]
     },
     "execution_count": 52,
     "metadata": {},
     "output_type": "execute_result"
    }
   ],
   "source": [
    "sgd_clf.classes_[4]"
   ]
  },
  {
   "cell_type": "markdown",
   "id": "7d923745",
   "metadata": {},
   "source": [
    "When a classifier is trained, it stores the list of target classes in its\n",
    "classes_ attribute, ordered by value. In this case, the index of each\n",
    "class in the classes_ array conveniently matches the class itself\n",
    "(e.g., the class at index 5 happens to be class 5), but in general you\n",
    "won’t be so lucky.\n"
   ]
  },
  {
   "cell_type": "markdown",
   "id": "b6fafe16",
   "metadata": {},
   "source": [
    "If you want to force ScikitLearn to use one-versus-one or one-versus-all, you can use\n",
    "the OneVsOneClassifier or OneVsRestClassifier classes. Simply create an instance\n",
    "and pass a binary classifier to its constructor. For example, this code creates a multi‐\n",
    "class classifier using the OvO strategy, based on a SGDClassifier:\n"
   ]
  },
  {
   "cell_type": "code",
   "execution_count": 53,
   "id": "efd7c6ed",
   "metadata": {},
   "outputs": [
    {
     "data": {
      "text/plain": [
       "array([5], dtype=uint8)"
      ]
     },
     "execution_count": 53,
     "metadata": {},
     "output_type": "execute_result"
    }
   ],
   "source": [
    "from sklearn.multiclass import OneVsOneClassifier\n",
    "ovo_clf = OneVsOneClassifier(SGDClassifier(random_state=42))\n",
    "ovo_clf.fit(X_train, y_train)\n",
    "ovo_clf.predict([some_digit])\n"
   ]
  },
  {
   "cell_type": "code",
   "execution_count": 54,
   "id": "a5ee9881",
   "metadata": {},
   "outputs": [
    {
     "data": {
      "text/plain": [
       "45"
      ]
     },
     "execution_count": 54,
     "metadata": {},
     "output_type": "execute_result"
    }
   ],
   "source": [
    "len(ovo_clf.estimators_)\n"
   ]
  },
  {
   "cell_type": "markdown",
   "id": "ec98e8ee",
   "metadata": {},
   "source": [
    "Training a RandomForestClassifier is just as easy:\n"
   ]
  },
  {
   "cell_type": "code",
   "execution_count": 55,
   "id": "5ca96287",
   "metadata": {},
   "outputs": [
    {
     "data": {
      "text/plain": [
       "array([5], dtype=uint8)"
      ]
     },
     "execution_count": 55,
     "metadata": {},
     "output_type": "execute_result"
    }
   ],
   "source": [
    "forest_clf.fit(X_train, y_train)\n",
    "forest_clf.predict([some_digit])\n"
   ]
  },
  {
   "cell_type": "markdown",
   "id": "6e513655",
   "metadata": {},
   "source": [
    "This time Scikit-Learn did not have to run OvA or OvO because Random Forest\n",
    "classifiers can directly classify instances into multiple classes. You can call\n",
    "predict_proba() to get the list of probabilities that the classifier assigned to each\n",
    "instance for each class:"
   ]
  },
  {
   "cell_type": "code",
   "execution_count": 56,
   "id": "0d192ac9",
   "metadata": {},
   "outputs": [
    {
     "data": {
      "text/plain": [
       "array([[0.  , 0.  , 0.01, 0.08, 0.  , 0.9 , 0.  , 0.  , 0.  , 0.01]])"
      ]
     },
     "execution_count": 56,
     "metadata": {},
     "output_type": "execute_result"
    }
   ],
   "source": [
    "forest_clf.predict_proba([some_digit])"
   ]
  },
  {
   "cell_type": "markdown",
   "id": "f382445c",
   "metadata": {},
   "source": [
    "You can see that the classifier is fairly confident about its prediction: the 0.9 at the 5th\n",
    "index in the array means that the model estimates a 90% probability that the image\n",
    "represents a 5. It also thinks that the image could instead be a 2, a 3 or a 9, respec‐\n",
    "tively with 1%, 8% and 1% probability."
   ]
  },
  {
   "cell_type": "markdown",
   "id": "cd85b28e",
   "metadata": {},
   "source": [
    "Now of course you want to evaluate these classifiers. As usual, you want to use cross\u0002validation. Let’s evaluate the SGDClassifier’s accuracy using the cross_val_score()\n",
    "function:"
   ]
  },
  {
   "cell_type": "code",
   "execution_count": 57,
   "id": "148ccd27",
   "metadata": {},
   "outputs": [
    {
     "data": {
      "text/plain": [
       "array([0.87365, 0.85835, 0.8689 ])"
      ]
     },
     "execution_count": 57,
     "metadata": {},
     "output_type": "execute_result"
    }
   ],
   "source": [
    "cross_val_score(sgd_clf, X_train, y_train, cv=3, scoring=\"accuracy\")"
   ]
  },
  {
   "cell_type": "markdown",
   "id": "6f1c62dc",
   "metadata": {},
   "source": [
    "It gets over 84% on all test folds. If you used a random classifier, you would get 10%\n",
    "accuracy, so this is not such a bad score, but you can still do much better. For exam‐\n",
    "ple, simply scaling the inputs (as discussed in Chapter 2) increases accuracy above\n",
    "89%:"
   ]
  },
  {
   "cell_type": "code",
   "execution_count": 58,
   "id": "03818ce2",
   "metadata": {},
   "outputs": [
    {
     "data": {
      "text/plain": [
       "array([0.8983, 0.891 , 0.9018])"
      ]
     },
     "execution_count": 58,
     "metadata": {},
     "output_type": "execute_result"
    }
   ],
   "source": [
    "from sklearn.preprocessing import StandardScaler\n",
    "scaler = StandardScaler()\n",
    "X_train_scaled = scaler.fit_transform(X_train.astype(np.float64))\n",
    "cross_val_score(sgd_clf, X_train_scaled, y_train, cv=3, scoring=\"accuracy\")\n"
   ]
  },
  {
   "cell_type": "markdown",
   "id": "c312762a",
   "metadata": {},
   "source": [
    "# Error Analysis\n"
   ]
  },
  {
   "cell_type": "markdown",
   "id": "fee1dea6",
   "metadata": {},
   "source": [
    "First, you can look at the confusion matrix. You need to make predictions using the\n",
    "cross_val_predict() function, then call the confusion_matrix() function, just like\n",
    "you did earlier"
   ]
  },
  {
   "cell_type": "code",
   "execution_count": 59,
   "id": "b8aaf95c",
   "metadata": {},
   "outputs": [
    {
     "data": {
      "text/plain": [
       "array([[5577,    0,   22,    5,    8,   43,   36,    6,  225,    1],\n",
       "       [   0, 6400,   37,   24,    4,   44,    4,    7,  212,   10],\n",
       "       [  27,   27, 5220,   92,   73,   27,   67,   36,  378,   11],\n",
       "       [  22,   17,  117, 5227,    2,  203,   27,   40,  403,   73],\n",
       "       [  12,   14,   41,    9, 5182,   12,   34,   27,  347,  164],\n",
       "       [  27,   15,   30,  168,   53, 4444,   75,   14,  535,   60],\n",
       "       [  30,   15,   42,    3,   44,   97, 5552,    3,  131,    1],\n",
       "       [  21,   10,   51,   30,   49,   12,    3, 5684,  195,  210],\n",
       "       [  17,   63,   48,   86,    3,  126,   25,   10, 5429,   44],\n",
       "       [  25,   18,   30,   64,  118,   36,    1,  179,  371, 5107]],\n",
       "      dtype=int64)"
      ]
     },
     "execution_count": 59,
     "metadata": {},
     "output_type": "execute_result"
    }
   ],
   "source": [
    "y_train_pred = cross_val_predict(sgd_clf, X_train_scaled, y_train, cv=3)\n",
    "conf_mx = confusion_matrix(y_train, y_train_pred)\n",
    "conf_mx"
   ]
  },
  {
   "cell_type": "code",
   "execution_count": 60,
   "id": "1ff6c7a3",
   "metadata": {},
   "outputs": [
    {
     "data": {
      "image/png": "[encoded data removed]",
      "text/plain": [
       "<Figure size 480x480 with 1 Axes>"
      ]
     },
     "metadata": {},
     "output_type": "display_data"
    }
   ],
   "source": [
    "plt.matshow(conf_mx, cmap=plt.cm.gray)\n",
    "plt.show()\n"
   ]
  },
  {
   "cell_type": "markdown",
   "id": "b479a199",
   "metadata": {},
   "source": [
    "This confusion matrix looks fairly good, since most images are on the main diagonal,\n",
    "which means that they were classified correctly. The 5s look slightly darker than the\n",
    "other digits, which could mean that there are fewer images of 5s in the dataset or that\n",
    "the classifier does not perform as well on 5s as on other digits. In fact, you can verify\n",
    "that both are the case."
   ]
  },
  {
   "cell_type": "code",
   "execution_count": 61,
   "id": "441338ba",
   "metadata": {
    "scrolled": false
   },
   "outputs": [
    {
     "data": {
      "text/plain": [
       "1"
      ]
     },
     "execution_count": 61,
     "metadata": {},
     "output_type": "execute_result"
    }
   ],
   "source": [
    " y[783]"
   ]
  },
  {
   "cell_type": "code",
   "execution_count": 62,
   "id": "820a9542",
   "metadata": {},
   "outputs": [
    {
     "data": {
      "text/plain": [
       "8"
      ]
     },
     "execution_count": 62,
     "metadata": {},
     "output_type": "execute_result"
    }
   ],
   "source": [
    " y[784]"
   ]
  },
  {
   "cell_type": "code",
   "execution_count": 63,
   "id": "82f5e44b",
   "metadata": {
    "scrolled": true
   },
   "outputs": [
    {
     "data": {
      "text/plain": [
       "6"
      ]
     },
     "execution_count": 63,
     "metadata": {},
     "output_type": "execute_result"
    }
   ],
   "source": [
    "y[785]"
   ]
  },
  {
   "cell_type": "code",
   "execution_count": 64,
   "id": "5c2733db",
   "metadata": {
    "scrolled": false
   },
   "outputs": [
    {
     "data": {
      "text/plain": [
       "array([  0.,   0.,   0.,   0.,   0.,   0.,   0.,   0.,   0.,   0.,   0.,\n",
       "         0.,   0.,   0.,   0.,   0.,   0.,   0.,   0.,   0.,   0.,   0.,\n",
       "         0.,   0.,   0.,   0.,   0.,   0.,   0.,   0.,   0.,   0.,   0.,\n",
       "         0.,   0.,   0.,   0.,   0.,   0.,   0.,   0.,   0.,   0.,   0.,\n",
       "         0.,   0.,   0.,   0.,   0.,   0.,   0.,   0.,   0.,   0.,   0.,\n",
       "         0.,   0.,   0.,   0.,   0.,   0.,   0.,   0.,   0.,   0.,   0.,\n",
       "         0.,   0.,   0.,   0.,   0.,   0.,   0.,   0.,   0.,   0.,   0.,\n",
       "         0.,   0.,   0.,   0.,   0.,   0.,   0.,   0.,   0.,   0.,   0.,\n",
       "         0.,   0.,   0.,   0.,   0.,   0.,   0.,   0.,   0.,   0.,   0.,\n",
       "         0.,   0.,   0.,   0.,   0.,   0.,   0.,   0.,   0.,   0.,   0.,\n",
       "         0.,   0.,   0.,   0.,   0.,   0.,   0.,   0.,   0.,   0.,   0.,\n",
       "         0.,   0.,   0.,   0.,   0.,   0.,   0.,   0.,   0.,   0.,   0.,\n",
       "         0.,   0.,   0.,   0.,   0.,   0.,   0.,   0.,   0.,   0.,   0.,\n",
       "         0.,   0.,   0.,   0.,   0.,   0.,   0.,   0.,   0.,   3.,  18.,\n",
       "        18.,  18., 126., 136., 175.,  26., 166., 255., 247., 127.,   0.,\n",
       "         0.,   0.,   0.,   0.,   0.,   0.,   0.,   0.,   0.,   0.,   0.,\n",
       "        30.,  36.,  94., 154., 170., 253., 253., 253., 253., 253., 225.,\n",
       "       172., 253., 242., 195.,  64.,   0.,   0.,   0.,   0.,   0.,   0.,\n",
       "         0.,   0.,   0.,   0.,   0.,  49., 238., 253., 253., 253., 253.,\n",
       "       253., 253., 253., 253., 251.,  93.,  82.,  82.,  56.,  39.,   0.,\n",
       "         0.,   0.,   0.,   0.,   0.,   0.,   0.,   0.,   0.,   0.,   0.,\n",
       "        18., 219., 253., 253., 253., 253., 253., 198., 182., 247., 241.,\n",
       "         0.,   0.,   0.,   0.,   0.,   0.,   0.,   0.,   0.,   0.,   0.,\n",
       "         0.,   0.,   0.,   0.,   0.,   0.,   0.,  80., 156., 107., 253.,\n",
       "       253., 205.,  11.,   0.,  43., 154.,   0.,   0.,   0.,   0.,   0.,\n",
       "         0.,   0.,   0.,   0.,   0.,   0.,   0.,   0.,   0.,   0.,   0.,\n",
       "         0.,   0.,   0.,  14.,   1., 154., 253.,  90.,   0.,   0.,   0.,\n",
       "         0.,   0.,   0.,   0.,   0.,   0.,   0.,   0.,   0.,   0.,   0.,\n",
       "         0.,   0.,   0.,   0.,   0.,   0.,   0.,   0.,   0.,   0.,   0.,\n",
       "       139., 253., 190.,   2.,   0.,   0.,   0.,   0.,   0.,   0.,   0.,\n",
       "         0.,   0.,   0.,   0.,   0.,   0.,   0.,   0.,   0.,   0.,   0.,\n",
       "         0.,   0.,   0.,   0.,   0.,   0.,  11., 190., 253.,  70.,   0.,\n",
       "         0.,   0.,   0.,   0.,   0.,   0.,   0.,   0.,   0.,   0.,   0.,\n",
       "         0.,   0.,   0.,   0.,   0.,   0.,   0.,   0.,   0.,   0.,   0.,\n",
       "         0.,   0.,  35., 241., 225., 160., 108.,   1.,   0.,   0.,   0.,\n",
       "         0.,   0.,   0.,   0.,   0.,   0.,   0.,   0.,   0.,   0.,   0.,\n",
       "         0.,   0.,   0.,   0.,   0.,   0.,   0.,   0.,   0.,  81., 240.,\n",
       "       253., 253., 119.,  25.,   0.,   0.,   0.,   0.,   0.,   0.,   0.,\n",
       "         0.,   0.,   0.,   0.,   0.,   0.,   0.,   0.,   0.,   0.,   0.,\n",
       "         0.,   0.,   0.,   0.,   0.,  45., 186., 253., 253., 150.,  27.,\n",
       "         0.,   0.,   0.,   0.,   0.,   0.,   0.,   0.,   0.,   0.,   0.,\n",
       "         0.,   0.,   0.,   0.,   0.,   0.,   0.,   0.,   0.,   0.,   0.,\n",
       "         0.,  16.,  93., 252., 253., 187.,   0.,   0.,   0.,   0.,   0.,\n",
       "         0.,   0.,   0.,   0.,   0.,   0.,   0.,   0.,   0.,   0.,   0.,\n",
       "         0.,   0.,   0.,   0.,   0.,   0.,   0.,   0.,   0., 249., 253.,\n",
       "       249.,  64.,   0.,   0.,   0.,   0.,   0.,   0.,   0.,   0.,   0.,\n",
       "         0.,   0.,   0.,   0.,   0.,   0.,   0.,   0.,   0.,   0.,   0.,\n",
       "         0.,  46., 130., 183., 253., 253., 207.,   2.,   0.,   0.,   0.,\n",
       "         0.,   0.,   0.,   0.,   0.,   0.,   0.,   0.,   0.,   0.,   0.,\n",
       "         0.,   0.,   0.,   0.,   0.,  39., 148., 229., 253., 253., 253.,\n",
       "       250., 182.,   0.,   0.,   0.,   0.,   0.,   0.,   0.,   0.,   0.,\n",
       "         0.,   0.,   0.,   0.,   0.,   0.,   0.,   0.,   0.,  24., 114.,\n",
       "       221., 253., 253., 253., 253., 201.,  78.,   0.,   0.,   0.,   0.,\n",
       "         0.,   0.,   0.,   0.,   0.,   0.,   0.,   0.,   0.,   0.,   0.,\n",
       "         0.,   0.,  23.,  66., 213., 253., 253., 253., 253., 198.,  81.,\n",
       "         2.,   0.,   0.,   0.,   0.,   0.,   0.,   0.,   0.,   0.,   0.,\n",
       "         0.,   0.,   0.,   0.,   0.,   0.,  18., 171., 219., 253., 253.,\n",
       "       253., 253., 195.,  80.,   9.,   0.,   0.,   0.,   0.,   0.,   0.,\n",
       "         0.,   0.,   0.,   0.,   0.,   0.,   0.,   0.,   0.,   0.,  55.,\n",
       "       172., 226., 253., 253., 253., 253., 244., 133.,  11.,   0.,   0.,\n",
       "         0.,   0.,   0.,   0.,   0.,   0.,   0.,   0.,   0.,   0.,   0.,\n",
       "         0.,   0.,   0.,   0.,   0., 136., 253., 253., 253., 212., 135.,\n",
       "       132.,  16.,   0.,   0.,   0.,   0.,   0.,   0.,   0.,   0.,   0.,\n",
       "         0.,   0.,   0.,   0.,   0.,   0.,   0.,   0.,   0.,   0.,   0.,\n",
       "         0.,   0.,   0.,   0.,   0.,   0.,   0.,   0.,   0.,   0.,   0.,\n",
       "         0.,   0.,   0.,   0.,   0.,   0.,   0.,   0.,   0.,   0.,   0.,\n",
       "         0.,   0.,   0.,   0.,   0.,   0.,   0.,   0.,   0.,   0.,   0.,\n",
       "         0.,   0.,   0.,   0.,   0.,   0.,   0.,   0.,   0.,   0.,   0.,\n",
       "         0.,   0.,   0.,   0.,   0.,   0.,   0.,   0.,   0.,   0.,   0.,\n",
       "         0.,   0.,   0.,   0.,   0.,   0.,   0.,   0.,   0.,   0.,   0.,\n",
       "         0.,   0.,   0.,   0.,   0.,   0.,   0.,   0.,   0.,   0.,   0.,\n",
       "         0.,   0.,   0.])"
      ]
     },
     "execution_count": 64,
     "metadata": {},
     "output_type": "execute_result"
    }
   ],
   "source": [
    "X[0]"
   ]
  },
  {
   "cell_type": "code",
   "execution_count": 65,
   "id": "ac8b3b92",
   "metadata": {},
   "outputs": [],
   "source": [
    "some_digit = X[0]\n",
    "some_digit_image = some_digit.reshape(28, 28)"
   ]
  },
  {
   "cell_type": "code",
   "execution_count": 66,
   "id": "cf716a01",
   "metadata": {},
   "outputs": [
    {
     "data": {
      "text/plain": [
       "array([[  0.,   0.,   0.,   0.,   0.,   0.,   0.,   0.,   0.,   0.,   0.,\n",
       "          0.,   0.,   0.,   0.,   0.,   0.,   0.,   0.,   0.,   0.,   0.,\n",
       "          0.,   0.,   0.,   0.,   0.,   0.],\n",
       "       [  0.,   0.,   0.,   0.,   0.,   0.,   0.,   0.,   0.,   0.,   0.,\n",
       "          0.,   0.,   0.,   0.,   0.,   0.,   0.,   0.,   0.,   0.,   0.,\n",
       "          0.,   0.,   0.,   0.,   0.,   0.],\n",
       "       [  0.,   0.,   0.,   0.,   0.,   0.,   0.,   0.,   0.,   0.,   0.,\n",
       "          0.,   0.,   0.,   0.,   0.,   0.,   0.,   0.,   0.,   0.,   0.,\n",
       "          0.,   0.,   0.,   0.,   0.,   0.],\n",
       "       [  0.,   0.,   0.,   0.,   0.,   0.,   0.,   0.,   0.,   0.,   0.,\n",
       "          0.,   0.,   0.,   0.,   0.,   0.,   0.,   0.,   0.,   0.,   0.,\n",
       "          0.,   0.,   0.,   0.,   0.,   0.],\n",
       "       [  0.,   0.,   0.,   0.,   0.,   0.,   0.,   0.,   0.,   0.,   0.,\n",
       "          0.,   0.,   0.,   0.,   0.,   0.,   0.,   0.,   0.,   0.,   0.,\n",
       "          0.,   0.,   0.,   0.,   0.,   0.],\n",
       "       [  0.,   0.,   0.,   0.,   0.,   0.,   0.,   0.,   0.,   0.,   0.,\n",
       "          0.,   3.,  18.,  18.,  18., 126., 136., 175.,  26., 166., 255.,\n",
       "        247., 127.,   0.,   0.,   0.,   0.],\n",
       "       [  0.,   0.,   0.,   0.,   0.,   0.,   0.,   0.,  30.,  36.,  94.,\n",
       "        154., 170., 253., 253., 253., 253., 253., 225., 172., 253., 242.,\n",
       "        195.,  64.,   0.,   0.,   0.,   0.],\n",
       "       [  0.,   0.,   0.,   0.,   0.,   0.,   0.,  49., 238., 253., 253.,\n",
       "        253., 253., 253., 253., 253., 253., 251.,  93.,  82.,  82.,  56.,\n",
       "         39.,   0.,   0.,   0.,   0.,   0.],\n",
       "       [  0.,   0.,   0.,   0.,   0.,   0.,   0.,  18., 219., 253., 253.,\n",
       "        253., 253., 253., 198., 182., 247., 241.,   0.,   0.,   0.,   0.,\n",
       "          0.,   0.,   0.,   0.,   0.,   0.],\n",
       "       [  0.,   0.,   0.,   0.,   0.,   0.,   0.,   0.,  80., 156., 107.,\n",
       "        253., 253., 205.,  11.,   0.,  43., 154.,   0.,   0.,   0.,   0.,\n",
       "          0.,   0.,   0.,   0.,   0.,   0.],\n",
       "       [  0.,   0.,   0.,   0.,   0.,   0.,   0.,   0.,   0.,  14.,   1.,\n",
       "        154., 253.,  90.,   0.,   0.,   0.,   0.,   0.,   0.,   0.,   0.,\n",
       "          0.,   0.,   0.,   0.,   0.,   0.],\n",
       "       [  0.,   0.,   0.,   0.,   0.,   0.,   0.,   0.,   0.,   0.,   0.,\n",
       "        139., 253., 190.,   2.,   0.,   0.,   0.,   0.,   0.,   0.,   0.,\n",
       "          0.,   0.,   0.,   0.,   0.,   0.],\n",
       "       [  0.,   0.,   0.,   0.,   0.,   0.,   0.,   0.,   0.,   0.,   0.,\n",
       "         11., 190., 253.,  70.,   0.,   0.,   0.,   0.,   0.,   0.,   0.,\n",
       "          0.,   0.,   0.,   0.,   0.,   0.],\n",
       "       [  0.,   0.,   0.,   0.,   0.,   0.,   0.,   0.,   0.,   0.,   0.,\n",
       "          0.,  35., 241., 225., 160., 108.,   1.,   0.,   0.,   0.,   0.,\n",
       "          0.,   0.,   0.,   0.,   0.,   0.],\n",
       "       [  0.,   0.,   0.,   0.,   0.,   0.,   0.,   0.,   0.,   0.,   0.,\n",
       "          0.,   0.,  81., 240., 253., 253., 119.,  25.,   0.,   0.,   0.,\n",
       "          0.,   0.,   0.,   0.,   0.,   0.],\n",
       "       [  0.,   0.,   0.,   0.,   0.,   0.,   0.,   0.,   0.,   0.,   0.,\n",
       "          0.,   0.,   0.,  45., 186., 253., 253., 150.,  27.,   0.,   0.,\n",
       "          0.,   0.,   0.,   0.,   0.,   0.],\n",
       "       [  0.,   0.,   0.,   0.,   0.,   0.,   0.,   0.,   0.,   0.,   0.,\n",
       "          0.,   0.,   0.,   0.,  16.,  93., 252., 253., 187.,   0.,   0.,\n",
       "          0.,   0.,   0.,   0.,   0.,   0.],\n",
       "       [  0.,   0.,   0.,   0.,   0.,   0.,   0.,   0.,   0.,   0.,   0.,\n",
       "          0.,   0.,   0.,   0.,   0.,   0., 249., 253., 249.,  64.,   0.,\n",
       "          0.,   0.,   0.,   0.,   0.,   0.],\n",
       "       [  0.,   0.,   0.,   0.,   0.,   0.,   0.,   0.,   0.,   0.,   0.,\n",
       "          0.,   0.,   0.,  46., 130., 183., 253., 253., 207.,   2.,   0.,\n",
       "          0.,   0.,   0.,   0.,   0.,   0.],\n",
       "       [  0.,   0.,   0.,   0.,   0.,   0.,   0.,   0.,   0.,   0.,   0.,\n",
       "          0.,  39., 148., 229., 253., 253., 253., 250., 182.,   0.,   0.,\n",
       "          0.,   0.,   0.,   0.,   0.,   0.],\n",
       "       [  0.,   0.,   0.,   0.,   0.,   0.,   0.,   0.,   0.,   0.,  24.,\n",
       "        114., 221., 253., 253., 253., 253., 201.,  78.,   0.,   0.,   0.,\n",
       "          0.,   0.,   0.,   0.,   0.,   0.],\n",
       "       [  0.,   0.,   0.,   0.,   0.,   0.,   0.,   0.,  23.,  66., 213.,\n",
       "        253., 253., 253., 253., 198.,  81.,   2.,   0.,   0.,   0.,   0.,\n",
       "          0.,   0.,   0.,   0.,   0.,   0.],\n",
       "       [  0.,   0.,   0.,   0.,   0.,   0.,  18., 171., 219., 253., 253.,\n",
       "        253., 253., 195.,  80.,   9.,   0.,   0.,   0.,   0.,   0.,   0.,\n",
       "          0.,   0.,   0.,   0.,   0.,   0.],\n",
       "       [  0.,   0.,   0.,   0.,  55., 172., 226., 253., 253., 253., 253.,\n",
       "        244., 133.,  11.,   0.,   0.,   0.,   0.,   0.,   0.,   0.,   0.,\n",
       "          0.,   0.,   0.,   0.,   0.,   0.],\n",
       "       [  0.,   0.,   0.,   0., 136., 253., 253., 253., 212., 135., 132.,\n",
       "         16.,   0.,   0.,   0.,   0.,   0.,   0.,   0.,   0.,   0.,   0.,\n",
       "          0.,   0.,   0.,   0.,   0.,   0.],\n",
       "       [  0.,   0.,   0.,   0.,   0.,   0.,   0.,   0.,   0.,   0.,   0.,\n",
       "          0.,   0.,   0.,   0.,   0.,   0.,   0.,   0.,   0.,   0.,   0.,\n",
       "          0.,   0.,   0.,   0.,   0.,   0.],\n",
       "       [  0.,   0.,   0.,   0.,   0.,   0.,   0.,   0.,   0.,   0.,   0.,\n",
       "          0.,   0.,   0.,   0.,   0.,   0.,   0.,   0.,   0.,   0.,   0.,\n",
       "          0.,   0.,   0.,   0.,   0.,   0.],\n",
       "       [  0.,   0.,   0.,   0.,   0.,   0.,   0.,   0.,   0.,   0.,   0.,\n",
       "          0.,   0.,   0.,   0.,   0.,   0.,   0.,   0.,   0.,   0.,   0.,\n",
       "          0.,   0.,   0.,   0.,   0.,   0.]])"
      ]
     },
     "execution_count": 66,
     "metadata": {},
     "output_type": "execute_result"
    }
   ],
   "source": [
    "some_digit_image"
   ]
  },
  {
   "cell_type": "markdown",
   "id": "c4c39f19",
   "metadata": {},
   "source": [
    "Let’s focus the plot on the errors. First, you need to divide each value in the confusion\n",
    "matrix by the number of images in the corresponding class, so you can compare error rates instead of absolute number of errors (which would make abundant classes look\n",
    "unfairly bad):"
   ]
  },
  {
   "cell_type": "code",
   "execution_count": 67,
   "id": "b49d650a",
   "metadata": {},
   "outputs": [],
   "source": [
    "row_sums = conf_mx.sum(axis=1, keepdims=True)\n",
    "norm_conf_mx = conf_mx / row_sums"
   ]
  },
  {
   "cell_type": "markdown",
   "id": "f20a1410",
   "metadata": {},
   "source": [
    "Now let’s fill the diagonal with zeros to keep only the errors, and let’s plot the result"
   ]
  },
  {
   "cell_type": "code",
   "execution_count": 8,
   "id": "718da16e",
   "metadata": {},
   "outputs": [
    {
     "ename": "NameError",
     "evalue": "name 'plt' is not defined",
     "output_type": "error",
     "traceback": [
      "\u001b[1;31m---------------------------------------------------------------------------\u001b[0m",
      "\u001b[1;31mNameError\u001b[0m                                 Traceback (most recent call last)",
      "\u001b[1;32m~\\AppData\\Local\\Temp\\ipykernel_26008\\3243665480.py\u001b[0m in \u001b[0;36m<module>\u001b[1;34m\u001b[0m\n\u001b[1;32m----> 1\u001b[1;33m \u001b[0mplt\u001b[0m\u001b[1;33m.\u001b[0m\u001b[0mmatshow\u001b[0m\u001b[1;33m(\u001b[0m\u001b[0mnorm_conf_mx\u001b[0m\u001b[1;33m,\u001b[0m \u001b[0mcmap\u001b[0m\u001b[1;33m=\u001b[0m\u001b[0mplt\u001b[0m\u001b[1;33m.\u001b[0m\u001b[0mcm\u001b[0m\u001b[1;33m.\u001b[0m\u001b[0mgray\u001b[0m\u001b[1;33m)\u001b[0m\u001b[1;33m\u001b[0m\u001b[1;33m\u001b[0m\u001b[0m\n\u001b[0m\u001b[0;32m      2\u001b[0m \u001b[0mplt\u001b[0m\u001b[1;33m.\u001b[0m\u001b[0mshow\u001b[0m\u001b[1;33m(\u001b[0m\u001b[1;33m)\u001b[0m\u001b[1;33m\u001b[0m\u001b[1;33m\u001b[0m\u001b[0m\n",
      "\u001b[1;31mNameError\u001b[0m: name 'plt' is not defined"
     ]
    }
   ],
   "source": [
    "np.fill_diagonal(norm_conf_mx, 0)\n",
    "plt.matshow(norm_conf_mx, cmap=plt.cm.gray)\n",
    "plt.show()\n"
   ]
  },
  {
   "cell_type": "markdown",
   "id": "e251fa3c",
   "metadata": {},
   "source": [
    ". Remember that rows\n",
    "represent actual classes, while columns represent predicted classes. The column for\n",
    "class 8 is quite bright, which tells you that many images get misclassified as 8s."
   ]
  },
  {
   "cell_type": "markdown",
   "id": "ea7e3728",
   "metadata": {},
   "source": [
    "# each horizontal rows represents different class and column represent how much they are compared with other classes"
   ]
  },
  {
   "cell_type": "markdown",
   "id": "a7f99802",
   "metadata": {},
   "source": [
    ". Looking at this plot, it seems that your efforts should be spent on reducing\n",
    "the false 8s. For example, you could try to gather more training data for digits that\n",
    "look like 8s (but are not) so the classifier can learn to distinguish them from real 8s.\n",
    "Or you could engineer new features that would help the classifier—for example, writ‐\n",
    "ing an algorithm to count the number of closed loops (e.g., 8 has two, 6 has one, 5 has\n",
    "none). Or you could preprocess the images (e.g., using Scikit-Image, Pillow, or\n",
    "OpenCV) to make some patterns stand out more, such as closed loops"
   ]
  },
  {
   "cell_type": "markdown",
   "id": "e4790380",
   "metadata": {},
   "source": [
    "Analyzing individual errors can also be a good way to gain insights on what your\n",
    "classifier is doing and why it is failing, but it is more difficult and time-consuming.\n"
   ]
  },
  {
   "cell_type": "markdown",
   "id": "c0e7ea4a",
   "metadata": {},
   "source": [
    "For example, let’s plot examples of 3s and 5s (the plot_digits() function just uses\n",
    "Matplotlib’s imshow() function; see this chapter’s Jupyter notebook for details):\n"
   ]
  },
  {
   "cell_type": "code",
   "execution_count": 70,
   "id": "3ab8e0f3",
   "metadata": {},
   "outputs": [],
   "source": [
    "cl_a, cl_b = 3, 5\n",
    "X_aa = X_train[(y_train == cl_a) & (y_train_pred == cl_a)]\n",
    "X_ab = X_train[(y_train == cl_a) & (y_train_pred == cl_b)]\n",
    "X_ba = X_train[(y_train == cl_b) & (y_train_pred == cl_a)]\n",
    "X_bb = X_train[(y_train == cl_b) & (y_train_pred == cl_b)]\n"
   ]
  },
  {
   "cell_type": "code",
   "execution_count": 71,
   "id": "2f24ecd2",
   "metadata": {},
   "outputs": [],
   "source": [
    "from math import ceil"
   ]
  },
  {
   "cell_type": "code",
   "execution_count": 72,
   "id": "4c6e1461",
   "metadata": {},
   "outputs": [],
   "source": [
    "def plot_digits(instances, images_per_row=10, **options):\n",
    "    \"\"\"Plots digits on a grid of rows and columns\n",
    "    \n",
    "    # Arguments\n",
    "        instances: np.ndarray, the digits, where each is a flat array\n",
    "        images_per_row: int, how many digits to be displayed per row\n",
    "        options: other arguments for `plt.imshow()`\n",
    "    \"\"\"\n",
    "    size = 28\n",
    "    n_images = instances.shape[0]\n",
    "    images_per_row = min(images_per_row, n_images)\n",
    "    images = [instance.reshape(size, size) for instance in instances]\n",
    "    n_rows = ceil(n_images / images_per_row)\n",
    "    row_images = list()\n",
    "    n_empty = (n_rows * images_per_row) - n_images\n",
    "    images.append(np.zeros((size, size * n_empty)))\n",
    "    for row in range(n_rows):\n",
    "        rimages = images[row*images_per_row : (row+1)*images_per_row]\n",
    "        row_images.append(np.concatenate(rimages, axis=1))\n",
    "    image = np.concatenate(row_images, axis=0)\n",
    "    plt.imshow(image, cmap='binary', **options)\n",
    "    plt.axis('off')"
   ]
  },
  {
   "cell_type": "code",
   "execution_count": 73,
   "id": "d50d84fd",
   "metadata": {},
   "outputs": [
    {
     "data": {
      "image/png": "[encoded data removed]",
      "text/plain": [
       "<Figure size 800x800 with 4 Axes>"
      ]
     },
     "metadata": {},
     "output_type": "display_data"
    }
   ],
   "source": [
    "plt.figure(figsize=(8,8))\n",
    "plt.subplot(221); plot_digits(X_aa[:25], images_per_row=5)\n",
    "plt.subplot(222); plot_digits(X_ab[:25], images_per_row=5)\n",
    "plt.subplot(223); plot_digits(X_ba[:25], images_per_row=5)\n",
    "plt.subplot(224); plot_digits(X_bb[:25], images_per_row=5)\n",
    "plt.show()"
   ]
  },
  {
   "cell_type": "markdown",
   "id": "15529364",
   "metadata": {},
   "source": [
    "The two 5x5 blocks on the left show instances classified as 3s, and the two 5x5 blocks on the right show instances classified as 5s.\n",
    "\n",
    "Most misclassifed images seem like obvious mistakes to us and it's hard for us to understand why the classifier made the mistakes it did.\n",
    "\n",
    "The true reason is that when we used SGDClassifier, which is a linear model, it just assigns weights to each pixel, and when it gets a new image, it sums up the pixel intensities times the trained weights, and since 5s and 3s share most of the pixel intensity locations, the model get sometimes confused.\n",
    "\n",
    "The main difference between a 5 and a 3 is the position of the small line that joins the top line to the bottom arc.\n",
    "\n",
    "Meaning that if we draw a 3 with a slightly shifted line to the left, the classifier might assign it a 5, and same to 5s classified as 3s.\n",
    "\n",
    "In other words, this classifier is quite sensitive to image rotation and shifting. So one way to reduce errors is to preprocess the images to make sure the digits are well centered and not too rotated."
   ]
  },
  {
   "cell_type": "markdown",
   "id": "16c407ff",
   "metadata": {},
   "source": [
    "# Multilabel Classifcation"
   ]
  },
  {
   "cell_type": "markdown",
   "id": "085a8a27",
   "metadata": {},
   "source": [
    "Say\n",
    "the classifier has been trained to recognize three faces, Alice, Bob, and Charlie; then\n",
    "when it is shown a picture of Alice and Charlie, it should output [1, 0, 1] (meaning\n",
    "“Alice yes, Bob no, Charlie yes”). Such a classification system that outputs multiple\n",
    "binary tags is called a multilabel classification system."
   ]
  },
  {
   "cell_type": "code",
   "execution_count": 74,
   "id": "b3106d79",
   "metadata": {},
   "outputs": [
    {
     "data": {
      "text/plain": [
       "KNeighborsClassifier()"
      ]
     },
     "execution_count": 74,
     "metadata": {},
     "output_type": "execute_result"
    }
   ],
   "source": [
    "from sklearn.neighbors import KNeighborsClassifier\n",
    "y_train_large = (y_train >= 7)\n",
    "y_train_odd = (y_train % 2 == 1)\n",
    "y_multilabel = np.c_[y_train_large, y_train_odd]\n",
    "knn_clf = KNeighborsClassifier()\n",
    "knn_clf.fit(X_train, y_multilabel)\n"
   ]
  },
  {
   "cell_type": "markdown",
   "id": "196a602e",
   "metadata": {},
   "source": [
    "This code creates a y_multilabel array containing two target labels for each digit\n",
    "image: the first indicates whether or not the digit is large (7, 8, or 9) and the second\n",
    "indicates whether or not it is odd. "
   ]
  },
  {
   "cell_type": "code",
   "execution_count": 75,
   "id": "525367f8",
   "metadata": {},
   "outputs": [
    {
     "name": "stderr",
     "output_type": "stream",
     "text": [
      "C:\\Users\\Saurabh\\anaconda3\\lib\\site-packages\\sklearn\\neighbors\\_classification.py:228: FutureWarning: Unlike other reduction functions (e.g. `skew`, `kurtosis`), the default behavior of `mode` typically preserves the axis it acts along. In SciPy 1.11.0, this behavior will change: the default value of `keepdims` will become False, the `axis` over which the statistic is taken will be eliminated, and the value None will no longer be accepted. Set `keepdims` to True or False to avoid this warning.\n",
      "  mode, _ = stats.mode(_y[neigh_ind, k], axis=1)\n"
     ]
    },
    {
     "data": {
      "text/plain": [
       "array([[False,  True]])"
      ]
     },
     "execution_count": 75,
     "metadata": {},
     "output_type": "execute_result"
    }
   ],
   "source": [
    "knn_clf.predict([some_digit])\n"
   ]
  },
  {
   "cell_type": "markdown",
   "id": "9dd9589d",
   "metadata": {},
   "source": [
    "And it gets it right! The digit 5 is indeed not large (False) and odd (True).\n"
   ]
  },
  {
   "cell_type": "code",
   "execution_count": 76,
   "id": "4d9843a5",
   "metadata": {},
   "outputs": [
    {
     "name": "stderr",
     "output_type": "stream",
     "text": [
      "C:\\Users\\Saurabh\\anaconda3\\lib\\site-packages\\sklearn\\neighbors\\_classification.py:228: FutureWarning: Unlike other reduction functions (e.g. `skew`, `kurtosis`), the default behavior of `mode` typically preserves the axis it acts along. In SciPy 1.11.0, this behavior will change: the default value of `keepdims` will become False, the `axis` over which the statistic is taken will be eliminated, and the value None will no longer be accepted. Set `keepdims` to True or False to avoid this warning.\n",
      "  mode, _ = stats.mode(_y[neigh_ind, k], axis=1)\n",
      "C:\\Users\\Saurabh\\anaconda3\\lib\\site-packages\\sklearn\\neighbors\\_classification.py:228: FutureWarning: Unlike other reduction functions (e.g. `skew`, `kurtosis`), the default behavior of `mode` typically preserves the axis it acts along. In SciPy 1.11.0, this behavior will change: the default value of `keepdims` will become False, the `axis` over which the statistic is taken will be eliminated, and the value None will no longer be accepted. Set `keepdims` to True or False to avoid this warning.\n",
      "  mode, _ = stats.mode(_y[neigh_ind, k], axis=1)\n",
      "C:\\Users\\Saurabh\\anaconda3\\lib\\site-packages\\sklearn\\neighbors\\_classification.py:228: FutureWarning: Unlike other reduction functions (e.g. `skew`, `kurtosis`), the default behavior of `mode` typically preserves the axis it acts along. In SciPy 1.11.0, this behavior will change: the default value of `keepdims` will become False, the `axis` over which the statistic is taken will be eliminated, and the value None will no longer be accepted. Set `keepdims` to True or False to avoid this warning.\n",
      "  mode, _ = stats.mode(_y[neigh_ind, k], axis=1)\n"
     ]
    },
    {
     "data": {
      "text/plain": [
       "0.976410265560605"
      ]
     },
     "execution_count": 76,
     "metadata": {},
     "output_type": "execute_result"
    }
   ],
   "source": [
    "y_train_knn_pred = cross_val_predict(knn_clf, X_train, y_multilabel, cv=3)\n",
    "f1_score(y_multilabel, y_train_knn_pred, average=\"macro\")"
   ]
  },
  {
   "cell_type": "markdown",
   "id": "50b1fefe",
   "metadata": {},
   "source": [
    "This assumes that all labels are equally important, which may not be the case. In par‐\n",
    "ticular, if you have many more pictures of Alice than of Bob or Charlie, you may want\n",
    "to give more weight to the classifier’s score on pictures of Alice. One simple option is\n",
    "to give each label a weight equal to its support (i.e., the number of instances with that\n",
    "target label). To do this, simply set average=\"weighted\" in the preceding code."
   ]
  },
  {
   "cell_type": "markdown",
   "id": "4c509418",
   "metadata": {},
   "source": [
    "# Multioutput Classification\n"
   ]
  },
  {
   "cell_type": "markdown",
   "id": "bcaf50c2",
   "metadata": {},
   "source": [
    "The last type of classification task we are going to discuss here is called multioutput\u0002multiclass classification (or simply multioutput classification). It is simply a generaliza‐\n",
    "tion of multilabel classification where each label can be multiclass (i.e., it can have\n",
    "more than two possible values).\n",
    "To illustrate this, let’s build a system that removes noise from images. It will take as\n",
    "input a noisy digit image, and it will (hopefully) output a clean digit image, repre‐\n",
    "sented as an array of pixel intensities, just like the MNIST images. Notice that the\n",
    "classifier’s output is multilabel (one label per pixel) and each label can have multiple\n",
    "values (pixel intensity ranges from 0 to 255). It is thus an example of a multioutput\n",
    "classification system.\n"
   ]
  },
  {
   "cell_type": "markdown",
   "id": "22065668",
   "metadata": {},
   "source": [
    "Let’s start by creating the training and test sets by taking the MNIST images and\n",
    "adding noise to their pixel intensities using NumPy’s randint() function. The target\n",
    "images will be the original images:"
   ]
  },
  {
   "cell_type": "code",
   "execution_count": 77,
   "id": "c5b8a2bb",
   "metadata": {},
   "outputs": [],
   "source": [
    "noise = np.random.randint(0, 100, (len(X_train), 784))\n",
    "X_train_mod = X_train + noise\n",
    "noise = np.random.randint(0, 100, (len(X_test), 784))\n",
    "X_test_mod = X_test + noise\n",
    "y_train_mod = X_train\n",
    "y_test_mod = X_test"
   ]
  },
  {
   "cell_type": "markdown",
   "id": "4fabe842",
   "metadata": {},
   "source": [
    "On the left is the noisy input image, and on the right is the clean target image. Now\n",
    "let’s train the classifier and make it clean this image:"
   ]
  },
  {
   "cell_type": "code",
   "execution_count": 78,
   "id": "388f1618",
   "metadata": {},
   "outputs": [
    {
     "ename": "NameError",
     "evalue": "name 'some_index' is not defined",
     "output_type": "error",
     "traceback": [
      "\u001b[1;31m---------------------------------------------------------------------------\u001b[0m",
      "\u001b[1;31mNameError\u001b[0m                                 Traceback (most recent call last)",
      "\u001b[1;32m~\\AppData\\Local\\Temp\\ipykernel_21048\\2145832553.py\u001b[0m in \u001b[0;36m<module>\u001b[1;34m\u001b[0m\n\u001b[0;32m      1\u001b[0m \u001b[0mknn_clf\u001b[0m\u001b[1;33m.\u001b[0m\u001b[0mfit\u001b[0m\u001b[1;33m(\u001b[0m\u001b[0mX_train_mod\u001b[0m\u001b[1;33m,\u001b[0m \u001b[0my_train_mod\u001b[0m\u001b[1;33m)\u001b[0m\u001b[1;33m\u001b[0m\u001b[1;33m\u001b[0m\u001b[0m\n\u001b[1;32m----> 2\u001b[1;33m \u001b[0mclean_digit\u001b[0m \u001b[1;33m=\u001b[0m \u001b[0mknn_clf\u001b[0m\u001b[1;33m.\u001b[0m\u001b[0mpredict\u001b[0m\u001b[1;33m(\u001b[0m\u001b[1;33m[\u001b[0m\u001b[0mX_test_mod\u001b[0m\u001b[1;33m[\u001b[0m\u001b[0msome_index\u001b[0m\u001b[1;33m]\u001b[0m\u001b[1;33m]\u001b[0m\u001b[1;33m)\u001b[0m\u001b[1;33m\u001b[0m\u001b[1;33m\u001b[0m\u001b[0m\n\u001b[0m\u001b[0;32m      3\u001b[0m \u001b[0mplot_digit\u001b[0m\u001b[1;33m(\u001b[0m\u001b[0mclean_digit\u001b[0m\u001b[1;33m)\u001b[0m\u001b[1;33m\u001b[0m\u001b[1;33m\u001b[0m\u001b[0m\n",
      "\u001b[1;31mNameError\u001b[0m: name 'some_index' is not defined"
     ]
    }
   ],
   "source": [
    "knn_clf.fit(X_train_mod, y_train_mod)\n",
    "clean_digit = knn_clf.predict([X_test_mod[some_index]])\n",
    "plot_digit(clean_digit)"
   ]
  },
  {
   "cell_type": "code",
   "execution_count": 79,
   "id": "fdc73610",
   "metadata": {},
   "outputs": [
    {
     "data": {
      "image/png": "[encoded data removed]",
      "text/plain": [
       "<Figure size 640x480 with 2 Axes>"
      ]
     },
     "metadata": {},
     "output_type": "display_data"
    }
   ],
   "source": [
    "fig, ax = plt.subplots(nrows=1, ncols=2)\n",
    "ax[0].imshow(X_train_mod[4:5].reshape(28, 28), cmap='binary'); ax[0].axis('off')\n",
    "ax[1].imshow(y_train_mod[4:5].reshape(28, 28), cmap='binary'); ax[1].axis('off')\n",
    "plt.show()"
   ]
  },
  {
   "cell_type": "markdown",
   "id": "715a7f14",
   "metadata": {},
   "source": [
    "Now let's train the classifier to clean this image:"
   ]
  },
  {
   "cell_type": "code",
   "execution_count": 81,
   "id": "4ffd0b08",
   "metadata": {},
   "outputs": [
    {
     "data": {
      "text/plain": [
       "KNeighborsClassifier()"
      ]
     },
     "execution_count": 81,
     "metadata": {},
     "output_type": "execute_result"
    }
   ],
   "source": [
    "knn_clf.fit(X=X_train_mod, y=y_train_mod)"
   ]
  },
  {
   "cell_type": "code",
   "execution_count": 82,
   "id": "11d417eb",
   "metadata": {},
   "outputs": [
    {
     "name": "stderr",
     "output_type": "stream",
     "text": [
      "C:\\Users\\Saurabh\\anaconda3\\lib\\site-packages\\sklearn\\neighbors\\_classification.py:228: FutureWarning: Unlike other reduction functions (e.g. `skew`, `kurtosis`), the default behavior of `mode` typically preserves the axis it acts along. In SciPy 1.11.0, this behavior will change: the default value of `keepdims` will become False, the `axis` over which the statistic is taken will be eliminated, and the value None will no longer be accepted. Set `keepdims` to True or False to avoid this warning.\n",
      "  mode, _ = stats.mode(_y[neigh_ind, k], axis=1)\n"
     ]
    }
   ],
   "source": [
    "clean_digit = knn_clf.predict(X=[X_test_mod[234]]).reshape(28, 28)"
   ]
  },
  {
   "cell_type": "code",
   "execution_count": 83,
   "id": "2a5b14a4",
   "metadata": {},
   "outputs": [
    {
     "data": {
      "image/png": "[encoded data removed]",
      "text/plain": [
       "<Figure size 640x480 with 2 Axes>"
      ]
     },
     "metadata": {},
     "output_type": "display_data"
    }
   ],
   "source": [
    "fig, ax = plt.subplots(nrows=1, ncols=2)\n",
    "ax[0].imshow(clean_digit, cmap='binary'); ax[0].axis('off')\n",
    "ax[1].imshow(X_test_mod[234].reshape(28, 28), cmap='binary'); ax[1].axis('off')\n",
    "plt.show()"
   ]
  },
  {
   "cell_type": "code",
   "execution_count": null,
   "id": "49f6e175",
   "metadata": {},
   "outputs": [],
   "source": []
  }
 ],
 "metadata": {
  "kernelspec": {
   "display_name": "Python 3 (ipykernel)",
   "language": "python",
   "name": "python3"
  },
  "language_info": {
   "codemirror_mode": {
    "name": "ipython",
    "version": 3
   },
   "file_extension": ".py",
   "mimetype": "text/x-python",
   "name": "python",
   "nbconvert_exporter": "python",
   "pygments_lexer": "ipython3",
   "version": "3.9.13"
  }
 },
 "nbformat": 4,
 "nbformat_minor": 5
}
