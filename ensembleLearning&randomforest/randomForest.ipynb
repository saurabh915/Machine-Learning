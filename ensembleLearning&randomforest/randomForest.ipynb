{
 "cells": [
  {
   "cell_type": "markdown",
   "id": "4e1c7c23",
   "metadata": {},
   "source": [
    "# Ensemble Learning and Random Forests"
   ]
  },
  {
   "cell_type": "markdown",
   "id": "0e89df5c",
   "metadata": {},
   "source": [
    "# Voting Classiers"
   ]
  },
  {
   "cell_type": "markdown",
   "id": "7bf6e56c",
   "metadata": {},
   "source": [
    "A very simple way to create an even better classifier is to aggregate the predictions of\n",
    "each classifier and predict the class that gets the most votes. This majority-vote classi‐\n",
    "fier is called a hard voting classifier"
   ]
  },
  {
   "cell_type": "markdown",
   "id": "82470d32",
   "metadata": {},
   "source": [
    "The following code creates and trains a voting classifier in Scikit-Learn, composed of\n",
    "three diverse classifiers (the training set is the moons dataset, introduced in Chap‐\n",
    "ter 5):"
   ]
  },
  {
   "cell_type": "code",
   "execution_count": 2,
   "id": "a3b14fc7",
   "metadata": {},
   "outputs": [],
   "source": [
    "import numpy as np\n",
    "import pandas as pd\n",
    "import matplotlib.pyplot as plt\n",
    "import sklearn\n"
   ]
  },
  {
   "cell_type": "code",
   "execution_count": 3,
   "id": "049e1db8",
   "metadata": {},
   "outputs": [],
   "source": [
    "from sklearn.ensemble import RandomForestClassifier\n",
    "from sklearn.ensemble import VotingClassifier\n",
    "from sklearn.linear_model import LogisticRegression\n",
    "from sklearn.svm import SVC"
   ]
  },
  {
   "cell_type": "code",
   "execution_count": 4,
   "id": "15469b21",
   "metadata": {},
   "outputs": [],
   "source": [
    "log_clf = LogisticRegression(solver='lbfgs')\n",
    "rf_clf = RandomForestClassifier(n_estimators=100)\n",
    "svm_clf = SVC(gamma='scale')"
   ]
  },
  {
   "cell_type": "code",
   "execution_count": 5,
   "id": "8255d0ab",
   "metadata": {},
   "outputs": [],
   "source": [
    "from sklearn import datasets\n",
    "from sklearn.model_selection import train_test_split"
   ]
  },
  {
   "cell_type": "code",
   "execution_count": 6,
   "id": "9624a0f3",
   "metadata": {},
   "outputs": [],
   "source": [
    "X, y = datasets.make_moons(n_samples=10000, noise=0.5)\n",
    "X_train, X_val, y_train, y_val = train_test_split(X, y, test_size=0.33)"
   ]
  },
  {
   "cell_type": "code",
   "execution_count": 7,
   "id": "1e72c8db",
   "metadata": {},
   "outputs": [
    {
     "data": {
      "text/plain": [
       "((6700, 2), (6700,), (3300, 2), (3300,))"
      ]
     },
     "execution_count": 7,
     "metadata": {},
     "output_type": "execute_result"
    }
   ],
   "source": [
    "X_train.shape, y_train.shape, X_val.shape, y_val.shape"
   ]
  },
  {
   "cell_type": "code",
   "execution_count": 8,
   "id": "b3e8e06c",
   "metadata": {},
   "outputs": [],
   "source": [
    "voting_clf = VotingClassifier(estimators=[('lr', log_clf), ('rf', rf_clf), ('svc', svm_clf)], voting='hard')"
   ]
  },
  {
   "cell_type": "code",
   "execution_count": 9,
   "id": "81e5d7fa",
   "metadata": {},
   "outputs": [
    {
     "data": {
      "text/plain": [
       "VotingClassifier(estimators=[('lr', LogisticRegression()),\n",
       "                             ('rf', RandomForestClassifier()), ('svc', SVC())])"
      ]
     },
     "execution_count": 9,
     "metadata": {},
     "output_type": "execute_result"
    }
   ],
   "source": [
    "voting_clf.fit(X_train, y_train)"
   ]
  },
  {
   "cell_type": "code",
   "execution_count": 10,
   "id": "d6240181",
   "metadata": {},
   "outputs": [],
   "source": [
    "from sklearn.metrics import accuracy_score"
   ]
  },
  {
   "cell_type": "code",
   "execution_count": 11,
   "id": "6bd24dd4",
   "metadata": {},
   "outputs": [
    {
     "name": "stdout",
     "output_type": "stream",
     "text": [
      "LogisticRegression 0.8087878787878788\n",
      "RandomForestClassifier 0.7996969696969697\n",
      "SVC 0.8248484848484848\n",
      "VotingClassifier 0.8209090909090909\n"
     ]
    }
   ],
   "source": [
    "for clf in [log_clf, rf_clf, svm_clf, voting_clf]:\n",
    "    clf.fit(X_train, y_train)\n",
    "    y_hat = clf.predict(X_val)\n",
    "    print(clf.__class__.__name__, accuracy_score(y_val, y_hat))"
   ]
  },
  {
   "cell_type": "markdown",
   "id": "eaf349b2",
   "metadata": {},
   "source": [
    "There we have it! The voting classifier slightly outperforms the individual classifiers.\n",
    "\n",
    "If all ensemble method learners can estimate class probabilities, we can average their probabilities per class then predict the class with the highest probability. This is called Soft voting. It often yields results better than hard voting because it weights confidence."
   ]
  },
  {
   "cell_type": "markdown",
   "id": "28b3193b",
   "metadata": {},
   "source": [
    "# Bagging and Pasting in Scikit-Learn\n"
   ]
  },
  {
   "cell_type": "code",
   "execution_count": 13,
   "id": "fefaf435",
   "metadata": {},
   "outputs": [],
   "source": [
    "from sklearn.ensemble import BaggingClassifier\n",
    "from sklearn.tree import DecisionTreeClassifier\n"
   ]
  },
  {
   "cell_type": "markdown",
   "id": "98ec3222",
   "metadata": {},
   "source": [
    "bagging classifier is classifier which takes one type of classifier algorithm and uses different independent data for training that classifier "
   ]
  },
  {
   "cell_type": "markdown",
   "id": "4a0dfde2",
   "metadata": {},
   "source": [
    "The following code trains an\n",
    "ensemble of 500 Decision Tree classifiers,5\n",
    "each trained on 100 training instances ran‐\n",
    "domly sampled from the training set with replacement (this is an example of bagging,\n",
    "but if you want to use pasting instead, just set bootstrap=False). The n_jobs param‐\n",
    "eter tells Scikit-Learn the number of CPU cores to use for training and predictions\n",
    "(–1 tells Scikit-Learn to use all available cores)"
   ]
  },
  {
   "cell_type": "code",
   "execution_count": 14,
   "id": "1d90a682",
   "metadata": {},
   "outputs": [],
   "source": [
    "bag_clf = BaggingClassifier(DecisionTreeClassifier(), n_estimators=500, max_samples=100, bootstrap=True, n_jobs=-1)"
   ]
  },
  {
   "cell_type": "code",
   "execution_count": 16,
   "id": "30b19e17",
   "metadata": {},
   "outputs": [
    {
     "data": {
      "text/plain": [
       "BaggingClassifier(base_estimator=DecisionTreeClassifier(), max_samples=100,\n",
       "                  n_estimators=500, n_jobs=-1)"
      ]
     },
     "execution_count": 16,
     "metadata": {},
     "output_type": "execute_result"
    }
   ],
   "source": [
    "bag_clf.fit(X_train, y_train)"
   ]
  },
  {
   "cell_type": "code",
   "execution_count": 17,
   "id": "8830e0f7",
   "metadata": {},
   "outputs": [],
   "source": [
    "y_hat = bag_clf.predict(X_val)"
   ]
  },
  {
   "cell_type": "code",
   "execution_count": 18,
   "id": "936a41cc",
   "metadata": {},
   "outputs": [
    {
     "data": {
      "text/plain": [
       "array([0, 1, 1, ..., 1, 1, 0], dtype=int64)"
      ]
     },
     "execution_count": 18,
     "metadata": {},
     "output_type": "execute_result"
    }
   ],
   "source": [
    "y_hat"
   ]
  },
  {
   "cell_type": "code",
   "execution_count": null,
   "id": "776a830f",
   "metadata": {},
   "outputs": [],
   "source": []
  }
 ],
 "metadata": {
  "kernelspec": {
   "display_name": "Python 3 (ipykernel)",
   "language": "python",
   "name": "python3"
  },
  "language_info": {
   "codemirror_mode": {
    "name": "ipython",
    "version": 3
   },
   "file_extension": ".py",
   "mimetype": "text/x-python",
   "name": "python",
   "nbconvert_exporter": "python",
   "pygments_lexer": "ipython3",
   "version": "3.9.13"
  }
 },
 "nbformat": 4,
 "nbformat_minor": 5
}
