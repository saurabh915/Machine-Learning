{
 "cells": [
  {
   "cell_type": "markdown",
   "id": "c2db9294",
   "metadata": {},
   "source": [
    "# Ensemble Learning and Random Forests"
   ]
  },
  {
   "cell_type": "markdown",
   "id": "509d710d",
   "metadata": {},
   "source": [
    "# Voting Classiers"
   ]
  },
  {
   "cell_type": "markdown",
   "id": "610f766c",
   "metadata": {},
   "source": [
    "A very simple way to create an even better classifier is to aggregate the predictions of\n",
    "each classifier and predict the class that gets the most votes. This majority-vote classi‐\n",
    "fier is called a hard voting classifier"
   ]
  },
  {
   "cell_type": "markdown",
   "id": "6b5fd42c",
   "metadata": {},
   "source": [
    "The following code creates and trains a voting classifier in Scikit-Learn, composed of\n",
    "three diverse classifiers (the training set is the moons dataset, introduced in Chap‐\n",
    "ter 5):"
   ]
  },
  {
   "cell_type": "code",
   "execution_count": 2,
   "id": "cecd1bad",
   "metadata": {},
   "outputs": [],
   "source": [
    "import numpy as np\n",
    "import pandas as pd\n",
    "import matplotlib.pyplot as plt\n",
    "import sklearn\n"
   ]
  },
  {
   "cell_type": "code",
   "execution_count": 3,
   "id": "f1b4265a",
   "metadata": {},
   "outputs": [],
   "source": [
    "from sklearn.ensemble import RandomForestClassifier\n",
    "from sklearn.ensemble import VotingClassifier\n",
    "from sklearn.linear_model import LogisticRegression\n",
    "from sklearn.svm import SVC"
   ]
  },
  {
   "cell_type": "code",
   "execution_count": 4,
   "id": "3c542ea0",
   "metadata": {},
   "outputs": [],
   "source": [
    "log_clf = LogisticRegression(solver='lbfgs')\n",
    "rf_clf = RandomForestClassifier(n_estimators=100)\n",
    "svm_clf = SVC(gamma='scale')"
   ]
  },
  {
   "cell_type": "code",
   "execution_count": 5,
   "id": "23eb1bc9",
   "metadata": {},
   "outputs": [],
   "source": [
    "from sklearn import datasets\n",
    "from sklearn.model_selection import train_test_split"
   ]
  },
  {
   "cell_type": "code",
   "execution_count": 6,
   "id": "c7ee478d",
   "metadata": {},
   "outputs": [],
   "source": [
    "X, y = datasets.make_moons(n_samples=10000, noise=0.5)\n",
    "X_train, X_val, y_train, y_val = train_test_split(X, y, test_size=0.33)"
   ]
  },
  {
   "cell_type": "code",
   "execution_count": 7,
   "id": "d8bc33da",
   "metadata": {},
   "outputs": [
    {
     "data": {
      "text/plain": [
       "((6700, 2), (6700,), (3300, 2), (3300,))"
      ]
     },
     "execution_count": 7,
     "metadata": {},
     "output_type": "execute_result"
    }
   ],
   "source": [
    "X_train.shape, y_train.shape, X_val.shape, y_val.shape"
   ]
  },
  {
   "cell_type": "code",
   "execution_count": 8,
   "id": "1095a8b1",
   "metadata": {},
   "outputs": [],
   "source": [
    "voting_clf = VotingClassifier(estimators=[('lr', log_clf), ('rf', rf_clf), ('svc', svm_clf)], voting='hard')"
   ]
  },
  {
   "cell_type": "code",
   "execution_count": 9,
   "id": "81bd2940",
   "metadata": {},
   "outputs": [
    {
     "data": {
      "text/plain": [
       "VotingClassifier(estimators=[('lr', LogisticRegression()),\n",
       "                             ('rf', RandomForestClassifier()), ('svc', SVC())])"
      ]
     },
     "execution_count": 9,
     "metadata": {},
     "output_type": "execute_result"
    }
   ],
   "source": [
    "voting_clf.fit(X_train, y_train)"
   ]
  },
  {
   "cell_type": "code",
   "execution_count": 10,
   "id": "8ae2c57b",
   "metadata": {},
   "outputs": [],
   "source": [
    "from sklearn.metrics import accuracy_score"
   ]
  },
  {
   "cell_type": "code",
   "execution_count": 11,
   "id": "50f4525f",
   "metadata": {},
   "outputs": [
    {
     "name": "stdout",
     "output_type": "stream",
     "text": [
      "LogisticRegression 0.8087878787878788\n",
      "RandomForestClassifier 0.7996969696969697\n",
      "SVC 0.8248484848484848\n",
      "VotingClassifier 0.8209090909090909\n"
     ]
    }
   ],
   "source": [
    "for clf in [log_clf, rf_clf, svm_clf, voting_clf]:\n",
    "    clf.fit(X_train, y_train)\n",
    "    y_hat = clf.predict(X_val)\n",
    "    print(clf.__class__.__name__, accuracy_score(y_val, y_hat))"
   ]
  },
  {
   "cell_type": "markdown",
   "id": "bae7ddd6",
   "metadata": {},
   "source": [
    "There we have it! The voting classifier slightly outperforms the individual classifiers.\n",
    "\n",
    "If all ensemble method learners can estimate class probabilities, we can average their probabilities per class then predict the class with the highest probability. This is called Soft voting. It often yields results better than hard voting because it weights confidence."
   ]
  },
  {
   "cell_type": "markdown",
   "id": "d25234e0",
   "metadata": {},
   "source": [
    "# Bagging and Pasting in Scikit-Learn\n"
   ]
  },
  {
   "cell_type": "code",
   "execution_count": 13,
   "id": "95e5eda1",
   "metadata": {},
   "outputs": [],
   "source": [
    "from sklearn.ensemble import BaggingClassifier\n",
    "from sklearn.tree import DecisionTreeClassifier\n"
   ]
  },
  {
   "cell_type": "markdown",
   "id": "4bad0f86",
   "metadata": {},
   "source": [
    "bagging classifier is classifier which takes one type of classifier algorithm and uses different independent data for training that classifier "
   ]
  },
  {
   "cell_type": "markdown",
   "id": "089841ff",
   "metadata": {},
   "source": [
    "The following code trains an\n",
    "ensemble of 500 Decision Tree classifiers,5\n",
    "each trained on 100 training instances ran‐\n",
    "domly sampled from the training set with replacement (this is an example of bagging,\n",
    "but if you want to use pasting instead, just set bootstrap=False). The n_jobs param‐\n",
    "eter tells Scikit-Learn the number of CPU cores to use for training and predictions\n",
    "(–1 tells Scikit-Learn to use all available cores)"
   ]
  },
  {
   "cell_type": "code",
   "execution_count": 14,
   "id": "f6a40663",
   "metadata": {},
   "outputs": [],
   "source": [
    "bag_clf = BaggingClassifier(DecisionTreeClassifier(), n_estimators=500, max_samples=100, bootstrap=True, n_jobs=-1)"
   ]
  },
  {
   "cell_type": "code",
   "execution_count": 16,
   "id": "72db4cb4",
   "metadata": {},
   "outputs": [
    {
     "data": {
      "text/plain": [
       "BaggingClassifier(base_estimator=DecisionTreeClassifier(), max_samples=100,\n",
       "                  n_estimators=500, n_jobs=-1)"
      ]
     },
     "execution_count": 16,
     "metadata": {},
     "output_type": "execute_result"
    }
   ],
   "source": [
    "bag_clf.fit(X_train, y_train)"
   ]
  },
  {
   "cell_type": "code",
   "execution_count": 17,
   "id": "2184670f",
   "metadata": {},
   "outputs": [],
   "source": [
    "y_hat = bag_clf.predict(X_val)"
   ]
  },
  {
   "cell_type": "code",
   "execution_count": 18,
   "id": "dd2365e4",
   "metadata": {},
   "outputs": [
    {
     "data": {
      "text/plain": [
       "array([0, 1, 1, ..., 1, 1, 0], dtype=int64)"
      ]
     },
     "execution_count": 18,
     "metadata": {},
     "output_type": "execute_result"
    }
   ],
   "source": [
    "y_hat"
   ]
  },
  {
   "cell_type": "markdown",
   "id": "1ab092c2",
   "metadata": {},
   "source": [
    "# Out-of-Bag Evaluation"
   ]
  },
  {
   "cell_type": "markdown",
   "id": "7b034367",
   "metadata": {},
   "source": [
    "With bagging, some instances will be sampled several times for several predictors, while others won't be sampled at all. Only about 63% of the instances are sampled for each predictor. The other 37% of instances not sampled are called Out-of-Bag (oob) instances. Note that they're not the same 37% for all predictors.\n",
    "\n",
    "Since the individual predictor never sees the oob samples, it can be evaluated on the oob data without the need for a separate validation set.\n",
    "\n",
    "We can evaluate the ensemble itself by averaging the oob scores of each predictor.\n",
    "\n",
    "Let's do this using scikit-learn:"
   ]
  },
  {
   "cell_type": "code",
   "execution_count": 19,
   "id": "dd185138",
   "metadata": {},
   "outputs": [],
   "source": [
    "bag_clf = BaggingClassifier(DecisionTreeClassifier(), n_estimators=500, max_samples=0.63, bootstrap=True, n_jobs=-1, oob_score=True)"
   ]
  },
  {
   "cell_type": "code",
   "execution_count": 20,
   "id": "99fd9168",
   "metadata": {},
   "outputs": [
    {
     "data": {
      "text/plain": [
       "BaggingClassifier(base_estimator=DecisionTreeClassifier(), max_samples=0.63,\n",
       "                  n_estimators=500, n_jobs=-1, oob_score=True)"
      ]
     },
     "execution_count": 20,
     "metadata": {},
     "output_type": "execute_result"
    }
   ],
   "source": [
    "bag_clf.fit(X_train, y_train)"
   ]
  },
  {
   "cell_type": "code",
   "execution_count": 21,
   "id": "462b57b4",
   "metadata": {},
   "outputs": [
    {
     "data": {
      "text/plain": [
       "0.8144776119402986"
      ]
     },
     "execution_count": 21,
     "metadata": {},
     "output_type": "execute_result"
    }
   ],
   "source": [
    "bag_clf.oob_score_"
   ]
  },
  {
   "cell_type": "markdown",
   "id": "310e7bc9",
   "metadata": {},
   "source": [
    "Let's verify this estimation using the validation set:"
   ]
  },
  {
   "cell_type": "code",
   "execution_count": 22,
   "id": "681fc3dd",
   "metadata": {},
   "outputs": [],
   "source": [
    "y_hat = bag_clf.predict(X_val)"
   ]
  },
  {
   "cell_type": "code",
   "execution_count": 23,
   "id": "acbbcb1a",
   "metadata": {},
   "outputs": [
    {
     "data": {
      "text/plain": [
       "0.8033333333333333"
      ]
     },
     "execution_count": 23,
     "metadata": {},
     "output_type": "execute_result"
    }
   ],
   "source": [
    "accuracy_score(y_val, y_hat)"
   ]
  },
  {
   "cell_type": "markdown",
   "id": "3d96388f",
   "metadata": {},
   "source": [
    "Close enough!\n",
    "\n",
    "The oob decision function is also available using scikit-learn's API, since our classifier is a decision tree then the decision function is a ratio that can be expressed as a probability, let's take a look at it for each instance:"
   ]
  },
  {
   "cell_type": "markdown",
   "id": "3ba9deb5",
   "metadata": {},
   "source": [
    "In this case (since the base estimator has a pre\n",
    "dict_proba() method) the decision function returns the class probabilities for each\n",
    "training instance. For example, the oob evaluation estimates that the first training\n",
    "instance has a 66.015625% probability of belonging to the positive class (and 33.984375% of\n",
    "belonging to the negative class):\n"
   ]
  },
  {
   "cell_type": "code",
   "execution_count": 24,
   "id": "a7182b3a",
   "metadata": {},
   "outputs": [
    {
     "data": {
      "text/plain": [
       "array([[0.33984375, 0.66015625],\n",
       "       [0.03984064, 0.96015936],\n",
       "       [0.69201521, 0.30798479],\n",
       "       ...,\n",
       "       [0.27843137, 0.72156863],\n",
       "       [0.98555957, 0.01444043],\n",
       "       [0.84555985, 0.15444015]])"
      ]
     },
     "execution_count": 24,
     "metadata": {},
     "output_type": "execute_result"
    }
   ],
   "source": [
    "bag_clf.oob_decision_function_"
   ]
  },
  {
   "cell_type": "markdown",
   "id": "2ce324ed",
   "metadata": {},
   "source": [
    "# Random Patches & Random Subspaces"
   ]
  },
  {
   "cell_type": "markdown",
   "id": "74135261",
   "metadata": {},
   "source": [
    "We can sample features as well. Sampling is controlled by two hyper-parameters: max_features & bootstrap_features.\n",
    "\n",
    "Each predictor will be trained on a random feature sample. This technique is especially useful when you're dealing with high-dimensional input as as imagery.\n",
    "\n",
    "Sampling both instances and features is called \"random patches\" method. Sampling only features is called \"random subspaces\" method. Sampling features results in a more predictor diversity."
   ]
  },
  {
   "cell_type": "markdown",
   "id": "30d99d0a",
   "metadata": {},
   "source": [
    "# Random Forests\n"
   ]
  },
  {
   "cell_type": "markdown",
   "id": "3d726b17",
   "metadata": {},
   "source": [
    "As we have discussed, a Random Forest9\n",
    " is an ensemble of Decision Trees, generally\n",
    "trained via the bagging method (or sometimes pasting), typically with max_samples\n",
    "set to the size of the training set. Instead of building a BaggingClassifier and pass‐\n",
    "ing it a DecisionTreeClassifier, you can instead use the RandomForestClassifier\n",
    "class, which is more convenient and optimized for Decision Trees10 (similarly, there is\n",
    "a RandomForestRegressor class for regression tasks). The following code trains a\n",
    "Random Forest classifier with 500 trees (each limited to maximum 16 nodes), using\n",
    "all available CPU cores"
   ]
  },
  {
   "cell_type": "code",
   "execution_count": 25,
   "id": "56d9398d",
   "metadata": {},
   "outputs": [],
   "source": [
    "from sklearn.ensemble import RandomForestClassifier"
   ]
  },
  {
   "cell_type": "code",
   "execution_count": 26,
   "id": "5b364cc4",
   "metadata": {},
   "outputs": [],
   "source": [
    "rnd_clf = RandomForestClassifier(n_estimators=500, max_leaf_nodes=16, n_jobs=-1)"
   ]
  },
  {
   "cell_type": "code",
   "execution_count": 27,
   "id": "2c43b347",
   "metadata": {},
   "outputs": [
    {
     "data": {
      "text/plain": [
       "RandomForestClassifier(max_leaf_nodes=16, n_estimators=500, n_jobs=-1)"
      ]
     },
     "execution_count": 27,
     "metadata": {},
     "output_type": "execute_result"
    }
   ],
   "source": [
    "rnd_clf.fit(X_train, y_train)"
   ]
  },
  {
   "cell_type": "code",
   "execution_count": 28,
   "id": "175b6947",
   "metadata": {},
   "outputs": [],
   "source": [
    "y_pred_rf = rnd_clf.predict(X_val)"
   ]
  },
  {
   "cell_type": "markdown",
   "id": "a9e1f5ea",
   "metadata": {},
   "source": [
    "The following BaggingClassifier is roughly equivalent to the previous RandomForestClassifier:"
   ]
  },
  {
   "cell_type": "code",
   "execution_count": 37,
   "id": "a904b10f",
   "metadata": {},
   "outputs": [],
   "source": [
    "bag_clf = BaggingClassifier(\n",
    "    DecisionTreeClassifier(splitter='random', max_leaf_nodes=16),\n",
    "    n_estimators=500, max_samples=1.0, bootstrap=True, n_jobs=-1\n",
    ")"
   ]
  },
  {
   "cell_type": "markdown",
   "id": "cc119034",
   "metadata": {},
   "source": [
    " the following code\n",
    "trains a RandomForestClassifier on the iris dataset (introduced in Chapter 4) and\n",
    "outputs each feature’s importance. It seems that the most important features are the\n",
    "petal length (44%) and width (42%), while sepal length and width are rather unim‐\n",
    "portant in comparison (11% and 2%, respectively)."
   ]
  },
  {
   "cell_type": "code",
   "execution_count": 44,
   "id": "06dcd8fc",
   "metadata": {},
   "outputs": [
    {
     "name": "stdout",
     "output_type": "stream",
     "text": [
      "sepal length (cm) 0.10697758146526572\n",
      "sepal width (cm) 0.026112439944306842\n",
      "petal length (cm) 0.4366034224960395\n",
      "petal width (cm) 0.4303065560943879\n"
     ]
    }
   ],
   "source": [
    "from sklearn.datasets import load_iris\n",
    "iris = load_iris()\n",
    "rnd_clf = RandomForestClassifier(n_estimators=500, n_jobs=-1)\n",
    "rnd_clf = RandomForestClassifier(n_estimators=500, n_jobs=-1)\n",
    "rnd_clf.fit(iris['data'], iris['target'])\n",
    "for name, score in zip(iris['feature_names'], rnd_clf.feature_importances_):\n",
    "    print(name, score)"
   ]
  },
  {
   "cell_type": "markdown",
   "id": "aef009da",
   "metadata": {},
   "source": [
    "# Let's plot pixel-wise MNIST feature importance:"
   ]
  },
  {
   "cell_type": "code",
   "execution_count": 31,
   "id": "49e35ec5",
   "metadata": {},
   "outputs": [
    {
     "data": {
      "text/plain": [
       "RandomForestClassifier(n_estimators=500, n_jobs=-1)"
      ]
     },
     "execution_count": 31,
     "metadata": {},
     "output_type": "execute_result"
    }
   ],
   "source": [
    "from sklearn.datasets import load_digits\n",
    "digits = load_digits()\n",
    "rnd_clf = RandomForestClassifier(n_estimators=500, n_jobs=-1)\n",
    "rnd_clf.fit(digits['data'], digits['target'])"
   ]
  },
  {
   "cell_type": "code",
   "execution_count": 32,
   "id": "88622581",
   "metadata": {},
   "outputs": [
    {
     "data": {
      "image/png": "[encoded data removed]",
      "text/plain": [
       "<Figure size 640x480 with 2 Axes>"
      ]
     },
     "metadata": {},
     "output_type": "display_data"
    }
   ],
   "source": [
    "plt.imshow(rnd_clf.feature_importances_.reshape(8,8), cmap='Blues')\n",
    "plt.colorbar()\n",
    "plt.show()"
   ]
  },
  {
   "cell_type": "code",
   "execution_count": null,
   "id": "e4213f49",
   "metadata": {},
   "outputs": [],
   "source": [
    "from sklearn.cluster import KMeans\n",
    "k = 5\n",
    "kmeans = KMeans(n_clusters=k)\n",
    "y_pred = kmeans.fit_predict(X)\n"
   ]
  }
 ],
 "metadata": {
  "kernelspec": {
   "display_name": "Python 3 (ipykernel)",
   "language": "python",
   "name": "python3"
  },
  "language_info": {
   "codemirror_mode": {
    "name": "ipython",
    "version": 3
   },
   "file_extension": ".py",
   "mimetype": "text/x-python",
   "name": "python",
   "nbconvert_exporter": "python",
   "pygments_lexer": "ipython3",
   "version": "3.9.13"
  }
 },
 "nbformat": 4,
 "nbformat_minor": 5
}
