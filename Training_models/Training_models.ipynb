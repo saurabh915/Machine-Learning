{
 "cells": [
  {
   "cell_type": "markdown",
   "id": "4e7a91ca",
   "metadata": {},
   "source": [
    "## Linear Regression"
   ]
  },
  {
   "cell_type": "markdown",
   "id": "5db09b20",
   "metadata": {},
   "source": [
    "y = θ0+ θ1x1+ θ2x2+ ⋯ + θnxn\n"
   ]
  },
  {
   "cell_type": "markdown",
   "id": "f31fa612",
   "metadata": {},
   "source": [
    "# The Normal Equation"
   ]
  },
  {
   "cell_type": "markdown",
   "id": "934bc98f",
   "metadata": {},
   "source": [
    "To find the value of θ that minimizes the cost function, there is a closed-form solution\n",
    "—in other words, a mathematical equation that gives the result directly. This is called\n",
    "the Normal Equation"
   ]
  },
  {
   "cell_type": "markdown",
   "id": "2e187672",
   "metadata": {},
   "source": [
    "Let’s generate some linear-looking data to test this equation on (Figure 4-1):"
   ]
  },
  {
   "cell_type": "code",
   "execution_count": 1,
   "id": "66df4a7e",
   "metadata": {},
   "outputs": [],
   "source": [
    "import numpy as np\n",
    "import matplotlib.pyplot as plt\n",
    "plt.style.use('default')"
   ]
  },
  {
   "cell_type": "code",
   "execution_count": 2,
   "id": "fe94a2cf",
   "metadata": {},
   "outputs": [],
   "source": [
    "import numpy as np\n",
    "X = 2 * np.random.rand(100, 1)\n",
    "y = 4 + 3 * X + np.random.randn(100, 1)"
   ]
  },
  {
   "cell_type": "code",
   "execution_count": 3,
   "id": "19511e73",
   "metadata": {},
   "outputs": [
    {
     "name": "stdout",
     "output_type": "stream",
     "text": [
      "100\n"
     ]
    }
   ],
   "source": [
    "print(len(X))"
   ]
  },
  {
   "cell_type": "code",
   "execution_count": 4,
   "id": "4c8e5648",
   "metadata": {},
   "outputs": [
    {
     "name": "stdout",
     "output_type": "stream",
     "text": [
      "[[0.36949123]\n",
      " [0.25372681]\n",
      " [0.8479864 ]\n",
      " [0.60455387]\n",
      " [0.4718269 ]\n",
      " [1.49164071]\n",
      " [0.24597032]\n",
      " [1.15414063]\n",
      " [1.41333477]\n",
      " [0.22362409]\n",
      " [0.22637518]\n",
      " [1.83785985]\n",
      " [1.63790989]\n",
      " [1.73988538]\n",
      " [0.13004616]\n",
      " [1.22045723]\n",
      " [0.39317092]\n",
      " [1.08644139]\n",
      " [0.75104819]\n",
      " [1.47556557]\n",
      " [1.90824395]\n",
      " [0.32086485]\n",
      " [0.67791253]\n",
      " [1.952566  ]\n",
      " [1.95529997]\n",
      " [1.9013195 ]\n",
      " [0.80373619]\n",
      " [1.85311332]\n",
      " [1.84984008]\n",
      " [1.51699774]\n",
      " [0.39119342]\n",
      " [1.64393819]\n",
      " [1.7593026 ]\n",
      " [1.49228059]\n",
      " [1.58039339]\n",
      " [1.11497008]\n",
      " [1.4390498 ]\n",
      " [0.03237984]\n",
      " [1.32702104]\n",
      " [0.86503281]\n",
      " [1.38178618]\n",
      " [1.49994709]\n",
      " [1.82669362]\n",
      " [0.58397292]\n",
      " [0.7529711 ]\n",
      " [1.39057692]\n",
      " [1.43665239]\n",
      " [1.62193656]\n",
      " [0.22544034]\n",
      " [0.39067216]\n",
      " [1.10510936]\n",
      " [1.27151552]\n",
      " [1.05316746]\n",
      " [1.72159421]\n",
      " [1.28717042]\n",
      " [1.60585313]\n",
      " [1.81308008]\n",
      " [0.3879883 ]\n",
      " [1.00984735]\n",
      " [1.80944613]\n",
      " [0.86801792]\n",
      " [0.81453568]\n",
      " [1.59791111]\n",
      " [1.33470041]\n",
      " [0.43741617]\n",
      " [0.7709521 ]\n",
      " [1.45206314]\n",
      " [1.81704137]\n",
      " [0.31324929]\n",
      " [0.3189115 ]\n",
      " [0.30752425]\n",
      " [0.48439721]\n",
      " [0.05584482]\n",
      " [1.57397988]\n",
      " [0.86356627]\n",
      " [1.74066004]\n",
      " [0.66940643]\n",
      " [1.33693895]\n",
      " [1.7346297 ]\n",
      " [1.27466841]\n",
      " [1.10182746]\n",
      " [1.53568463]\n",
      " [1.01582969]\n",
      " [1.89683362]\n",
      " [1.02960643]\n",
      " [0.71025986]\n",
      " [0.20635822]\n",
      " [0.07746686]\n",
      " [0.00266874]\n",
      " [0.50898302]\n",
      " [0.9309005 ]\n",
      " [0.03073416]\n",
      " [1.55901893]\n",
      " [0.04949283]\n",
      " [1.05919151]\n",
      " [0.9471204 ]\n",
      " [1.68707378]\n",
      " [0.16564645]\n",
      " [1.25476348]\n",
      " [1.34157267]]\n"
     ]
    }
   ],
   "source": [
    "print(X)"
   ]
  },
  {
   "cell_type": "code",
   "execution_count": 5,
   "id": "bc5e1c6c",
   "metadata": {},
   "outputs": [
    {
     "data": {
      "image/png": "[encoded data removed]",
      "text/plain": [
       "<Figure size 640x480 with 1 Axes>"
      ]
     },
     "metadata": {},
     "output_type": "display_data"
    }
   ],
   "source": [
    "plt.scatter(x=X, y=y)\n",
    "plt.xlabel('X')\n",
    "plt.ylabel('y')\n",
    "plt.show()"
   ]
  },
  {
   "cell_type": "markdown",
   "id": "c49388b6",
   "metadata": {},
   "source": [
    "The actual function that we used to generate the data is y = 4 + 3x1 + Gaussian noise.\n",
    "Let’s see what the equation found"
   ]
  },
  {
   "cell_type": "code",
   "execution_count": 6,
   "id": "2195643a",
   "metadata": {},
   "outputs": [],
   "source": [
    "X_b = np.c_[np.ones((100, 1)), X] # add x0 = 1 to each instance\n",
    "theta_best = np.linalg.inv(X_b.T.dot(X_b)).dot(X_b.T).dot(y)\n"
   ]
  },
  {
   "cell_type": "code",
   "execution_count": 7,
   "id": "c5f4af48",
   "metadata": {},
   "outputs": [
    {
     "data": {
      "text/plain": [
       "array([[3.87516468],\n",
       "       [3.16919967]])"
      ]
     },
     "execution_count": 7,
     "metadata": {},
     "output_type": "execute_result"
    }
   ],
   "source": [
    "theta_best"
   ]
  },
  {
   "cell_type": "markdown",
   "id": "7c7bd70f",
   "metadata": {},
   "source": [
    "Now you can make predictions using θ:"
   ]
  },
  {
   "cell_type": "markdown",
   "id": "1c43a1fa",
   "metadata": {},
   "source": [
    "using formula predicting y (label)"
   ]
  },
  {
   "cell_type": "code",
   "execution_count": 8,
   "id": "805d872d",
   "metadata": {},
   "outputs": [],
   "source": [
    "X_new = np.array([[0], [2]])"
   ]
  },
  {
   "cell_type": "code",
   "execution_count": 9,
   "id": "235a2cfc",
   "metadata": {},
   "outputs": [],
   "source": [
    "X_new_b = np.c_[np.ones((2, 1)), X_new] # add x0 = 1 to each instance"
   ]
  },
  {
   "cell_type": "code",
   "execution_count": 10,
   "id": "85866970",
   "metadata": {},
   "outputs": [],
   "source": [
    "y_predict = X_new_b.dot(theta_best)\n"
   ]
  },
  {
   "cell_type": "code",
   "execution_count": 11,
   "id": "9bfd597c",
   "metadata": {},
   "outputs": [
    {
     "data": {
      "text/plain": [
       "array([[ 3.87516468],\n",
       "       [10.21356402]])"
      ]
     },
     "execution_count": 11,
     "metadata": {},
     "output_type": "execute_result"
    }
   ],
   "source": [
    "y_predict"
   ]
  },
  {
   "cell_type": "code",
   "execution_count": 12,
   "id": "5e62334e",
   "metadata": {},
   "outputs": [
    {
     "data": {
      "text/plain": [
       "array([[ 3.87516468],\n",
       "       [10.21356402]])"
      ]
     },
     "execution_count": 12,
     "metadata": {},
     "output_type": "execute_result"
    }
   ],
   "source": [
    "X_new = np.array([[0], [2]])\n",
    "X_new_b = np.c_[np.ones((2, 1)), X_new] # add x0 = 1 to each instance\n",
    "y_predict = X_new_b.dot(theta_best)\n",
    "y_predict"
   ]
  },
  {
   "cell_type": "markdown",
   "id": "7869b0ff",
   "metadata": {},
   "source": [
    "Let’s plot this model’s predictions (Figure 4-2):\n"
   ]
  },
  {
   "cell_type": "code",
   "execution_count": 13,
   "id": "a2b0c3f4",
   "metadata": {},
   "outputs": [
    {
     "name": "stderr",
     "output_type": "stream",
     "text": [
      "No artists with labels found to put in legend.  Note that artists whose label start with an underscore are ignored when legend() is called with no argument.\n"
     ]
    },
    {
     "data": {
      "image/png": "[encoded data removed]",
      "text/plain": [
       "<Figure size 640x480 with 1 Axes>"
      ]
     },
     "metadata": {},
     "output_type": "display_data"
    }
   ],
   "source": [
    "plt.plot(X_new, y_predict, \"r-\")#this is line pridicted(r-)\n",
    "plt.plot(X, y, \"b.\")#these are dots (b.)\n",
    "plt.xlabel('X')\n",
    "plt.ylabel('y')\n",
    "plt.legend()\n",
    "plt.show()"
   ]
  },
  {
   "cell_type": "markdown",
   "id": "543e83ae",
   "metadata": {},
   "source": [
    "# Performing linear regression using Scikit-Learn is quite simple:3"
   ]
  },
  {
   "cell_type": "code",
   "execution_count": 14,
   "id": "e82b7549",
   "metadata": {},
   "outputs": [
    {
     "data": {
      "text/plain": [
       "(array([3.87516468]), array([[3.16919967]]))"
      ]
     },
     "execution_count": 14,
     "metadata": {},
     "output_type": "execute_result"
    }
   ],
   "source": [
    "from sklearn.linear_model import LinearRegression\n",
    "lin_reg = LinearRegression()\n",
    "lin_reg.fit(X, y)\n",
    "lin_reg.intercept_, lin_reg.coef_\n"
   ]
  },
  {
   "cell_type": "code",
   "execution_count": 15,
   "id": "c6ffb95b",
   "metadata": {},
   "outputs": [
    {
     "data": {
      "text/plain": [
       "array([[ 3.87516468],\n",
       "       [10.21356402]])"
      ]
     },
     "execution_count": 15,
     "metadata": {},
     "output_type": "execute_result"
    }
   ],
   "source": [
    "lin_reg.predict(X_new)\n"
   ]
  },
  {
   "cell_type": "markdown",
   "id": "52986251",
   "metadata": {},
   "source": [
    "The LinearRegression class is based on the scipy.linalg.lstsq() function (the\n",
    "name stands for “least squares”), which you could call directly:"
   ]
  },
  {
   "cell_type": "code",
   "execution_count": 16,
   "id": "4372d59e",
   "metadata": {},
   "outputs": [
    {
     "data": {
      "text/plain": [
       "array([[3.87516468],\n",
       "       [3.16919967]])"
      ]
     },
     "execution_count": 16,
     "metadata": {},
     "output_type": "execute_result"
    }
   ],
   "source": [
    "theta_best_svd, residuals, rank, s = np.linalg.lstsq(X_b, y, rcond=1e-6)\n",
    "theta_best_svd"
   ]
  },
  {
   "cell_type": "markdown",
   "id": "60018b5e",
   "metadata": {},
   "source": [
    "This function computes θ = X+y, where ᅚ\n",
    "+\n",
    " is the pseudoinverse of X (specifically the\n",
    "Moore-Penrose inverse). You can use np.linalg.pinv() to compute the pseudoin‐\n",
    "verse directly:"
   ]
  },
  {
   "cell_type": "code",
   "execution_count": 17,
   "id": "97542c67",
   "metadata": {},
   "outputs": [
    {
     "data": {
      "text/plain": [
       "array([[3.87516468],\n",
       "       [3.16919967]])"
      ]
     },
     "execution_count": 17,
     "metadata": {},
     "output_type": "execute_result"
    }
   ],
   "source": [
    "np.linalg.pinv(X_b).dot(y)\n"
   ]
  },
  {
   "cell_type": "markdown",
   "id": "d8bdc12d",
   "metadata": {},
   "source": [
    "The pseudoinverse itself is computed using a standard matrix factorization technique \n",
    "called Singular Value Decomposition (SVD) that can decompose the training set\n",
    "matrix X into the matrix multiplication of three matrices U Σ VT\n",
    "(see\n",
    "numpy.linalg.svd()). The pseudoinverse is computed as X\n",
    "+\n",
    "= VΣ+U\n",
    "T\n",
    ". To compute\n",
    "the matrix Σ\n",
    "+\n",
    ", the algorithm takes Σ and sets to zero all values smaller than a tiny\n",
    "threshold value, then it replaces all the non-zero values with their inverse, and finally\n",
    "it transposes the resulting matrix. This approach is more efficient than computing the\n",
    "Normal Equation, plus it handles edge cases nicely: indeed, the Normal Equation may\n",
    "not work if the matrix XTX is not invertible (i.e., singular), such as if m < n or if some\n",
    "features are redundant, but the pseudoinverse is always defined."
   ]
  },
  {
   "cell_type": "markdown",
   "id": "44f309ae",
   "metadata": {},
   "source": [
    "# Computational Complexity"
   ]
  },
  {
   "cell_type": "markdown",
   "id": "02f42340",
   "metadata": {},
   "source": [
    "Both the Normal Equation and the SVD approach get very slow\n",
    "when the number of features grows large (e.g., 100,000). On the\n",
    "positive side, both are linear with regards to the number of instan‐\n",
    "ces in the training set (they are O(m)), so they handle large training\n",
    "sets efficiently, provided they can fit in memory.\n"
   ]
  },
  {
   "cell_type": "markdown",
   "id": "ae4b01c6",
   "metadata": {},
   "source": [
    "# Gradient Descent"
   ]
  },
  {
   "cell_type": "markdown",
   "id": "74390497",
   "metadata": {},
   "source": [
    "Gradient Descent is a very generic optimization algorithm capable of finding optimal\n",
    "solutions to a wide range of problems. The general idea of Gradient Descent is to\n",
    "tweak parameters iteratively in order to minimize a cost function."
   ]
  },
  {
   "cell_type": "markdown",
   "id": "a90ead4a",
   "metadata": {},
   "source": [
    "Concretely, you start by filling θ with random values (this is called random initializa‐\n",
    "tion), and then you improve it gradually, taking one baby step at a time, each step\n",
    "attempting to decrease the cost function (e.g., the MSE), until the algorithm converges\n",
    "to a minimum (see Figure 4-3)."
   ]
  },
  {
   "cell_type": "markdown",
   "id": "b2213d98",
   "metadata": {},
   "source": [
    "An important parameter in Gradient Descent is the size of the steps, determined by \n",
    "the learning rate hyperparameter. If the learning rate is too small, then the algorithm\n",
    "will have to go through many iterations to converge, which will take a long time (see\n",
    "Figure 4-4)."
   ]
  },
  {
   "cell_type": "markdown",
   "id": "fd8eefcf",
   "metadata": {},
   "source": [
    "On the other hand, if the learning rate is too high, you might jump across the valley\n",
    "and end up on the other side, possibly even higher up than you were before. This\n",
    "might make the algorithm diverge, with larger and larger values, failing to find a good\n",
    "solution (see Figure 4-5)."
   ]
  },
  {
   "cell_type": "markdown",
   "id": "5093a74e",
   "metadata": {},
   "source": [
    "Finally, not all cost functions look like nice regular bowls. There may be holes, ridges,\n",
    "plateaus, and all sorts of irregular terrains, making convergence to the minimum very\n",
    "difficult. Figure 4-6 shows the two main challenges with Gradient Descent: if the ran‐\n",
    "dom initialization starts the algorithm on the left, then it will converge to a local mini‐\n",
    "mum, which is not as good as the global minimum. If it starts on the right, then it will\n",
    "take a very long time to cross the plateau, and if you stop too early you will never\n",
    "reach the global minimum."
   ]
  },
  {
   "cell_type": "markdown",
   "id": "57113b15",
   "metadata": {},
   "source": [
    "Fortunately, the MSE cost function for a Linear Regression model happens to be a\n",
    "convex function, which means that if you pick any two points on the curve, the line\n",
    "segment joining them never crosses the curve. This implies that there are no local\n",
    "minima, just one global minimum. It is also a continuous function with a slope that\n",
    "never changes abruptly.4\n",
    " These two facts have a great consequence: Gradient Descent\n",
    "is guaranteed to approach arbitrarily close the global minimum (if you wait long\n",
    "enough and if the learning rate is not too high).\n"
   ]
  },
  {
   "cell_type": "markdown",
   "id": "54d6d9a4",
   "metadata": {},
   "source": [
    "When using Gradient Descent, you should ensure that all features\n",
    "have a similar scale (e.g., using Scikit-Learn’s StandardScaler\n",
    "class), or else it will take much longer to converge."
   ]
  },
  {
   "cell_type": "markdown",
   "id": "55a39d64",
   "metadata": {},
   "source": [
    "# Batch Gradient Descent"
   ]
  },
  {
   "cell_type": "markdown",
   "id": "8c5abd24",
   "metadata": {},
   "source": [
    "θ next step = θ − η∇θ MSE(θ)"
   ]
  },
  {
   "cell_type": "code",
   "execution_count": 18,
   "id": "c30fcf3e",
   "metadata": {},
   "outputs": [],
   "source": [
    "eta = 0.02 # learning rate\n",
    "n_iterations = 1000\n",
    "m = 100\n",
    "theta = np.random.randn(2,1) # random initialization\n",
    "for iteration in range(n_iterations):\n",
    " gradients = 2/m * X_b.T.dot(X_b.dot(theta) - y)\n",
    " theta = theta - eta * gradients\n"
   ]
  },
  {
   "cell_type": "code",
   "execution_count": 19,
   "id": "48426b92",
   "metadata": {},
   "outputs": [
    {
     "data": {
      "text/plain": [
       "array([[3.87554047],\n",
       "       [3.16889589]])"
      ]
     },
     "execution_count": 19,
     "metadata": {},
     "output_type": "execute_result"
    }
   ],
   "source": [
    "theta"
   ]
  },
  {
   "cell_type": "markdown",
   "id": "c71e5185",
   "metadata": {},
   "source": [
    "# Stochastic Gradient Descent\n"
   ]
  },
  {
   "cell_type": "markdown",
   "id": "829faed8",
   "metadata": {},
   "source": [
    "The main problem with Batch Gradient Descent is the fact that it uses the whole\n",
    "training set to compute the gradients at every step, which makes it very slow when\n",
    "the training set is large. At the opposite extreme, Stochastic Gradient Descent just\n",
    "picks a random instance in the training set at every step and computes the gradients\n",
    "based only on that single instance."
   ]
  },
  {
   "cell_type": "markdown",
   "id": "5e31685d",
   "metadata": {},
   "source": [
    "The whole problem with batch gradient descent is that it uses the whole training set at each step to calculate the gradients & optimize the parameters, which makes it very slow if the training set is large.\n",
    "\n",
    "At the opposite extreme, Stochastic Gradient Descent picks only 1 point and calculate the gradients and update the parameters based on it. Working on 1 data point at a step makes the algorithm really fast. It also makes it possible to train on very large data sets since at each step only one data point is needed in memory. On the other hand, because it only relies on 1 data point at a time (picked randomly) the algorithm is not stable and the loss function doesn't decrease gradually, it only decreases in average.\n",
    "\n",
    "Over time, SGD will find the parameters such as \n",
    " is very close to 0 but it will continue to bounce up and down due to it picking 1 point at a time.\n",
    "\n",
    "\n",
    "When the loss curve is irregular, SGD might actually manage to jump out of a local minimum. So SGD has a better chance to find the global minimum than BSG has because SGD is not as stable in optimizing the parameters of the model. Randomness is Good to Espace local minimas but bad because you will never settle on a minima.\n",
    "\n",
    "This can be addressed by Gradually decreasing the learning rate as the algorithm trains. The steps starts out large which helps the algorithm escape local minima. Then the learning rate gets smaller & smaller, allowing the algorithm to settle on the global minima. This proceess is akin to simulated annealing\n",
    "\n",
    "The function that determines the learning rate at each iteration is called the learning rate scheduler. If the learning rate get reduced too quickly, we may get stuck at a local minimum, and if the learning rate get reduced very slowly it might not have any effect on stabalizing the algorithm over the global minimum and ie algorithm will continue to bounce back and fourth.\n",
    "\n",
    "Before diving into the implementation, let's present the formulation of the new loss function & its gradient for Stochastic Gradient Descent. With SGD, we randomly select 1 point from \n",
    " at each step and feed it to the model, meaning:\n",
    "\n",
    "This code implements stochastic gradient descent using a simple learning schedule:"
   ]
  },
  {
   "cell_type": "markdown",
   "id": "78c71ec6",
   "metadata": {},
   "source": [
    "This code implements Stochastic Gradient Descent using a simple learning schedule:\n"
   ]
  },
  {
   "cell_type": "code",
   "execution_count": 20,
   "id": "5c396bd5",
   "metadata": {},
   "outputs": [],
   "source": [
    "n_epochs = 50\n",
    "t0, t1 = 5, 50 # learning schedule hyperparameters\n",
    "def learning_schedule(t):\n",
    " return t0 / (t + t1)\n",
    "theta = np.random.randn(2,1) # random initialization\n",
    "for epoch in range(n_epochs):\n",
    " for i in range(m):\n",
    "  random_index = np.random.randint(m)\n",
    "  xi = X_b[random_index:random_index+1]\n",
    "  yi = y[random_index:random_index+1]\n",
    "  gradients = 2 * xi.T.dot(xi.dot(theta) - yi)\n",
    "  eta = learning_schedule(epoch * m + i)\n",
    "  theta = theta - eta * gradients\n"
   ]
  },
  {
   "cell_type": "code",
   "execution_count": 21,
   "id": "a5ffbce9",
   "metadata": {},
   "outputs": [
    {
     "data": {
      "text/plain": [
       "array([[3.85823881],\n",
       "       [3.14756409]])"
      ]
     },
     "execution_count": 21,
     "metadata": {},
     "output_type": "execute_result"
    }
   ],
   "source": [
    "theta"
   ]
  },
  {
   "cell_type": "markdown",
   "id": "8fb3bdbd",
   "metadata": {},
   "source": [
    "We can also do it the scikit-learn way:"
   ]
  },
  {
   "cell_type": "markdown",
   "id": "14c1ddce",
   "metadata": {},
   "source": [
    "To perform Linear Regression using SGD with Scikit-Learn, you can use the SGDRe gressor class, which defaults to optimizing the squared error cost function. The fol‐ lowing code runs for maximum 1000 epochs (max_iter=1000) or until the loss drops by less than 1e-3 during one epoch (tol=1e-3), starting with a learning rate of 0.1 (eta0=0.1), using the default learning schedule (different from the preceding one), and it does not use any regularization (penalty=None; more details on this shortly):"
   ]
  },
  {
   "cell_type": "code",
   "execution_count": 22,
   "id": "94633730",
   "metadata": {},
   "outputs": [
    {
     "data": {
      "text/plain": [
       "SGDRegressor(eta0=0.1, penalty=None)"
      ]
     },
     "execution_count": 22,
     "metadata": {},
     "output_type": "execute_result"
    }
   ],
   "source": [
    "from sklearn.linear_model import SGDRegressor\n",
    "sgd_reg = SGDRegressor(max_iter=1000, tol=1e-3, penalty=None, eta0=0.1)\n",
    "sgd_reg.fit(X, y.ravel())\n"
   ]
  },
  {
   "cell_type": "code",
   "execution_count": 23,
   "id": "385f73d0",
   "metadata": {},
   "outputs": [
    {
     "data": {
      "text/plain": [
       "(array([3.91429101]), array([3.20456099]))"
      ]
     },
     "execution_count": 23,
     "metadata": {},
     "output_type": "execute_result"
    }
   ],
   "source": [
    "sgd_reg.intercept_, sgd_reg.coef_\n"
   ]
  },
  {
   "cell_type": "markdown",
   "id": "04dd0577",
   "metadata": {},
   "source": [
    "# Mini-batch Gradient Descent"
   ]
  },
  {
   "cell_type": "markdown",
   "id": "7396b398",
   "metadata": {},
   "source": [
    "Mini-Batch Gradient Descent\n",
    "At each step, instead of computing the gradients on a single randomly picked instance (SGD) or the full training set (BGD), Mini-Batch gradient descent computes its gradients on randomly selected set of instances. the samples are called Mini-Batches\n",
    "\n",
    "The main advantage of MBGD over SGD is the performance boost in matrix operations that you get especially from GPUs. Intuitively, MBGD's parameter optimization process is less erratic than SGD because the fed sample is more representative than one randomly selected point, especially for fairly big mini-batch sizes.\n",
    "\n",
    "\n",
    "The previous figure shows the path taken by BGD, SGD, MBGD. They all endup near the minimum. Batch Gradient Descent actually stops at the minimum while both SGD & MBGD continue to walk around.\n",
    "\n",
    "We shouldn't forget that batch gradient descent takes a long time to converge because we're computing the gradients over the whole training set at each step.\n",
    "\n",
    "SGD & MBGD will also converge to the minimum if we use a good learning rate schedule"
   ]
  },
  {
   "cell_type": "markdown",
   "id": "7e15f226",
   "metadata": {},
   "source": [
    "# Polynomial Regression"
   ]
  },
  {
   "cell_type": "markdown",
   "id": "f2c5904b",
   "metadata": {},
   "source": [
    "What if your data is actually more complex than a simple straight line? Surprisingly,\n",
    "you can actually use a linear model to fit nonlinear data. A simple way to do this is to\n",
    "add powers of each feature as new features, then train a linear model on this extended\n",
    "set of features. This technique is called Polynomial Regression"
   ]
  },
  {
   "cell_type": "code",
   "execution_count": 24,
   "id": "3b8e29a7",
   "metadata": {},
   "outputs": [],
   "source": [
    "m = 100\n",
    "X = 6 * np.random.rand(m, 1) - 3\n",
    "y = 0.5 * X ** 2 + X + 2 + np.random.randn(m, 1)"
   ]
  },
  {
   "cell_type": "code",
   "execution_count": 25,
   "id": "78be259d",
   "metadata": {},
   "outputs": [
    {
     "name": "stdout",
     "output_type": "stream",
     "text": [
      "[[-0.29851681]\n",
      " [-1.47787486]\n",
      " [ 1.53922156]\n",
      " [ 0.19269446]\n",
      " [ 0.75924974]\n",
      " [-2.06469882]\n",
      " [ 2.55473709]\n",
      " [ 2.81379333]\n",
      " [ 1.77715995]\n",
      " [-2.91457217]\n",
      " [ 1.20179824]\n",
      " [-1.49270197]\n",
      " [ 1.92997924]\n",
      " [ 0.5294159 ]\n",
      " [ 2.96247523]\n",
      " [ 0.30568343]\n",
      " [ 2.41890298]\n",
      " [ 1.14343574]\n",
      " [ 2.90700493]\n",
      " [-2.68286847]\n",
      " [-0.48269856]\n",
      " [-2.69533895]\n",
      " [ 2.64157576]\n",
      " [-0.90868793]\n",
      " [ 0.9417852 ]\n",
      " [ 0.41444359]\n",
      " [ 0.87741184]\n",
      " [ 1.78643319]\n",
      " [ 2.15150946]\n",
      " [ 0.97765393]\n",
      " [-0.91381618]\n",
      " [ 1.31418423]\n",
      " [-0.77491   ]\n",
      " [-2.68940188]\n",
      " [-0.84441515]\n",
      " [ 2.80855497]\n",
      " [ 0.68040374]\n",
      " [ 0.93297463]\n",
      " [ 2.17444455]\n",
      " [-0.63450893]\n",
      " [-2.98455391]\n",
      " [-0.78583656]\n",
      " [-2.07673374]\n",
      " [ 1.98793888]\n",
      " [-0.02999166]\n",
      " [-2.47049989]\n",
      " [ 0.53018479]\n",
      " [ 1.77465176]\n",
      " [-1.99041592]\n",
      " [ 1.07182337]\n",
      " [ 0.66984203]\n",
      " [-1.01331076]\n",
      " [-1.87397964]\n",
      " [ 2.12960468]\n",
      " [ 0.10603755]\n",
      " [-2.96295886]\n",
      " [ 1.16284746]\n",
      " [ 1.22022645]\n",
      " [ 2.40125935]\n",
      " [ 2.15010532]\n",
      " [ 1.51659493]\n",
      " [-2.77003214]\n",
      " [ 0.29340342]\n",
      " [ 2.66825035]\n",
      " [-1.65029078]\n",
      " [ 0.41070198]\n",
      " [-1.22308323]\n",
      " [ 0.96037786]\n",
      " [-1.0201982 ]\n",
      " [-1.35688636]\n",
      " [ 0.73382443]\n",
      " [ 2.94732392]\n",
      " [ 0.22099884]\n",
      " [ 2.27595437]\n",
      " [-2.28739679]\n",
      " [ 1.64797998]\n",
      " [-0.54623027]\n",
      " [ 2.30706844]\n",
      " [-1.73562947]\n",
      " [ 2.31613749]\n",
      " [ 2.32490518]\n",
      " [-1.86188315]\n",
      " [-1.19522177]\n",
      " [-2.22331985]\n",
      " [-2.26966989]\n",
      " [ 0.10251078]\n",
      " [ 1.35354364]\n",
      " [ 2.14177359]\n",
      " [-0.68027438]\n",
      " [-2.07840114]\n",
      " [ 1.07385364]\n",
      " [ 0.63748281]\n",
      " [-1.76475708]\n",
      " [ 0.73828686]\n",
      " [-1.9007033 ]\n",
      " [-1.74372089]\n",
      " [ 1.02006033]\n",
      " [ 1.50637442]\n",
      " [-0.71574719]\n",
      " [-2.90830881]]\n"
     ]
    }
   ],
   "source": [
    "print(X)"
   ]
  },
  {
   "cell_type": "code",
   "execution_count": 26,
   "id": "ef62d609",
   "metadata": {},
   "outputs": [
    {
     "data": {
      "image/png": "[encoded data removed]",
      "text/plain": [
       "<Figure size 640x480 with 1 Axes>"
      ]
     },
     "metadata": {},
     "output_type": "display_data"
    }
   ],
   "source": [
    "plt.scatter(X, y, color='blue')\n",
    "plt.xlabel('x1')\n",
    "plt.ylabel('y')\n",
    "plt.show()"
   ]
  },
  {
   "cell_type": "markdown",
   "id": "bfa171b9",
   "metadata": {},
   "source": [
    "Clearly, a straight line will never fit this data properly. So let’s use Scikit-Learn’s Poly\n",
    "nomialFeatures class to transform our training data, adding the square (2nd-degree\n",
    "polynomial) of each feature in the training set as new features (in this case there is\n",
    "just one feature):"
   ]
  },
  {
   "cell_type": "code",
   "execution_count": 27,
   "id": "d7371666",
   "metadata": {},
   "outputs": [
    {
     "data": {
      "text/plain": [
       "array([-0.29851681])"
      ]
     },
     "execution_count": 27,
     "metadata": {},
     "output_type": "execute_result"
    }
   ],
   "source": [
    "from sklearn.preprocessing import PolynomialFeatures\n",
    "poly_features = PolynomialFeatures(degree=2, include_bias=False)\n",
    "X_poly = poly_features.fit_transform(X)# this will change x into (x, x**2)\n",
    "X[0]\n",
    "\n",
    "\n"
   ]
  },
  {
   "cell_type": "code",
   "execution_count": 28,
   "id": "2809f36d",
   "metadata": {},
   "outputs": [
    {
     "data": {
      "text/plain": [
       "array([-0.29851681,  0.08911228])"
      ]
     },
     "execution_count": 28,
     "metadata": {},
     "output_type": "execute_result"
    }
   ],
   "source": [
    "\n",
    "X_poly[0]\n"
   ]
  },
  {
   "cell_type": "markdown",
   "id": "d3e4ed60",
   "metadata": {},
   "source": [
    "X_poly now contains the original feature of X plus the square of this feature. Now you\n",
    "can fit a LinearRegression model to this extended training data (Figure 4-13):\n"
   ]
  },
  {
   "cell_type": "code",
   "execution_count": 29,
   "id": "bd31d70f",
   "metadata": {},
   "outputs": [
    {
     "data": {
      "text/plain": [
       "(array([1.8576012]), array([[1.00380522, 0.52964929]]))"
      ]
     },
     "execution_count": 29,
     "metadata": {},
     "output_type": "execute_result"
    }
   ],
   "source": [
    "\n",
    "lin_reg = LinearRegression()\n",
    "lin_reg.fit(X_poly, y)\n",
    "lin_reg.intercept_, lin_reg.coef_\n"
   ]
  },
  {
   "cell_type": "code",
   "execution_count": 30,
   "id": "3ffb4c88",
   "metadata": {},
   "outputs": [],
   "source": [
    "X_b = np.c_[np.ones((100, 1)), X_poly] # add x0 = 1 to each instance\n",
    "theta_best = np.linalg.inv(X_b.T.dot(X_b)).dot(X_b.T).dot(y)"
   ]
  },
  {
   "cell_type": "code",
   "execution_count": 31,
   "id": "a2542d9d",
   "metadata": {},
   "outputs": [
    {
     "data": {
      "text/plain": [
       "array([[ 1.00000000e+00, -2.98516806e-01,  8.91122834e-02],\n",
       "       [ 1.00000000e+00, -1.47787486e+00,  2.18411409e+00],\n",
       "       [ 1.00000000e+00,  1.53922156e+00,  2.36920300e+00],\n",
       "       [ 1.00000000e+00,  1.92694462e-01,  3.71311558e-02],\n",
       "       [ 1.00000000e+00,  7.59249745e-01,  5.76460175e-01],\n",
       "       [ 1.00000000e+00, -2.06469882e+00,  4.26298122e+00],\n",
       "       [ 1.00000000e+00,  2.55473709e+00,  6.52668162e+00],\n",
       "       [ 1.00000000e+00,  2.81379333e+00,  7.91743291e+00],\n",
       "       [ 1.00000000e+00,  1.77715995e+00,  3.15829747e+00],\n",
       "       [ 1.00000000e+00, -2.91457217e+00,  8.49473094e+00],\n",
       "       [ 1.00000000e+00,  1.20179824e+00,  1.44431901e+00],\n",
       "       [ 1.00000000e+00, -1.49270197e+00,  2.22815916e+00],\n",
       "       [ 1.00000000e+00,  1.92997924e+00,  3.72481988e+00],\n",
       "       [ 1.00000000e+00,  5.29415897e-01,  2.80281192e-01],\n",
       "       [ 1.00000000e+00,  2.96247523e+00,  8.77625947e+00],\n",
       "       [ 1.00000000e+00,  3.05683425e-01,  9.34423566e-02],\n",
       "       [ 1.00000000e+00,  2.41890298e+00,  5.85109165e+00],\n",
       "       [ 1.00000000e+00,  1.14343574e+00,  1.30744528e+00],\n",
       "       [ 1.00000000e+00,  2.90700493e+00,  8.45067767e+00],\n",
       "       [ 1.00000000e+00, -2.68286847e+00,  7.19778321e+00],\n",
       "       [ 1.00000000e+00, -4.82698556e-01,  2.32997896e-01],\n",
       "       [ 1.00000000e+00, -2.69533895e+00,  7.26485207e+00],\n",
       "       [ 1.00000000e+00,  2.64157576e+00,  6.97792250e+00],\n",
       "       [ 1.00000000e+00, -9.08687925e-01,  8.25713745e-01],\n",
       "       [ 1.00000000e+00,  9.41785203e-01,  8.86959369e-01],\n",
       "       [ 1.00000000e+00,  4.14443595e-01,  1.71763493e-01],\n",
       "       [ 1.00000000e+00,  8.77411836e-01,  7.69851531e-01],\n",
       "       [ 1.00000000e+00,  1.78643319e+00,  3.19134353e+00],\n",
       "       [ 1.00000000e+00,  2.15150946e+00,  4.62899294e+00],\n",
       "       [ 1.00000000e+00,  9.77653930e-01,  9.55807207e-01],\n",
       "       [ 1.00000000e+00, -9.13816177e-01,  8.35060005e-01],\n",
       "       [ 1.00000000e+00,  1.31418423e+00,  1.72708019e+00],\n",
       "       [ 1.00000000e+00, -7.74909999e-01,  6.00485506e-01],\n",
       "       [ 1.00000000e+00, -2.68940188e+00,  7.23288249e+00],\n",
       "       [ 1.00000000e+00, -8.44415152e-01,  7.13036949e-01],\n",
       "       [ 1.00000000e+00,  2.80855497e+00,  7.88798099e+00],\n",
       "       [ 1.00000000e+00,  6.80403745e-01,  4.62949256e-01],\n",
       "       [ 1.00000000e+00,  9.32974627e-01,  8.70441655e-01],\n",
       "       [ 1.00000000e+00,  2.17444455e+00,  4.72820908e+00],\n",
       "       [ 1.00000000e+00, -6.34508932e-01,  4.02601585e-01],\n",
       "       [ 1.00000000e+00, -2.98455391e+00,  8.90756203e+00],\n",
       "       [ 1.00000000e+00, -7.85836561e-01,  6.17539101e-01],\n",
       "       [ 1.00000000e+00, -2.07673374e+00,  4.31282302e+00],\n",
       "       [ 1.00000000e+00,  1.98793888e+00,  3.95190101e+00],\n",
       "       [ 1.00000000e+00, -2.99916627e-02,  8.99499829e-04],\n",
       "       [ 1.00000000e+00, -2.47049989e+00,  6.10336969e+00],\n",
       "       [ 1.00000000e+00,  5.30184792e-01,  2.81095913e-01],\n",
       "       [ 1.00000000e+00,  1.77465176e+00,  3.14938886e+00],\n",
       "       [ 1.00000000e+00, -1.99041592e+00,  3.96175553e+00],\n",
       "       [ 1.00000000e+00,  1.07182337e+00,  1.14880533e+00],\n",
       "       [ 1.00000000e+00,  6.69842029e-01,  4.48688344e-01],\n",
       "       [ 1.00000000e+00, -1.01331076e+00,  1.02679869e+00],\n",
       "       [ 1.00000000e+00, -1.87397964e+00,  3.51179968e+00],\n",
       "       [ 1.00000000e+00,  2.12960468e+00,  4.53521610e+00],\n",
       "       [ 1.00000000e+00,  1.06037553e-01,  1.12439626e-02],\n",
       "       [ 1.00000000e+00, -2.96295886e+00,  8.77912520e+00],\n",
       "       [ 1.00000000e+00,  1.16284746e+00,  1.35221420e+00],\n",
       "       [ 1.00000000e+00,  1.22022645e+00,  1.48895259e+00],\n",
       "       [ 1.00000000e+00,  2.40125935e+00,  5.76604646e+00],\n",
       "       [ 1.00000000e+00,  2.15010532e+00,  4.62295290e+00],\n",
       "       [ 1.00000000e+00,  1.51659493e+00,  2.30006019e+00],\n",
       "       [ 1.00000000e+00, -2.77003214e+00,  7.67307803e+00],\n",
       "       [ 1.00000000e+00,  2.93403421e-01,  8.60855677e-02],\n",
       "       [ 1.00000000e+00,  2.66825035e+00,  7.11955992e+00],\n",
       "       [ 1.00000000e+00, -1.65029078e+00,  2.72345965e+00],\n",
       "       [ 1.00000000e+00,  4.10701976e-01,  1.68676113e-01],\n",
       "       [ 1.00000000e+00, -1.22308323e+00,  1.49593258e+00],\n",
       "       [ 1.00000000e+00,  9.60377856e-01,  9.22325626e-01],\n",
       "       [ 1.00000000e+00, -1.02019820e+00,  1.04080437e+00],\n",
       "       [ 1.00000000e+00, -1.35688636e+00,  1.84114058e+00],\n",
       "       [ 1.00000000e+00,  7.33824431e-01,  5.38498296e-01],\n",
       "       [ 1.00000000e+00,  2.94732392e+00,  8.68671830e+00],\n",
       "       [ 1.00000000e+00,  2.20998836e-01,  4.88404854e-02],\n",
       "       [ 1.00000000e+00,  2.27595437e+00,  5.17996830e+00],\n",
       "       [ 1.00000000e+00, -2.28739679e+00,  5.23218409e+00],\n",
       "       [ 1.00000000e+00,  1.64797998e+00,  2.71583800e+00],\n",
       "       [ 1.00000000e+00, -5.46230268e-01,  2.98367506e-01],\n",
       "       [ 1.00000000e+00,  2.30706844e+00,  5.32256480e+00],\n",
       "       [ 1.00000000e+00, -1.73562947e+00,  3.01240965e+00],\n",
       "       [ 1.00000000e+00,  2.31613749e+00,  5.36449288e+00],\n",
       "       [ 1.00000000e+00,  2.32490518e+00,  5.40518410e+00],\n",
       "       [ 1.00000000e+00, -1.86188315e+00,  3.46660888e+00],\n",
       "       [ 1.00000000e+00, -1.19522177e+00,  1.42855507e+00],\n",
       "       [ 1.00000000e+00, -2.22331985e+00,  4.94315116e+00],\n",
       "       [ 1.00000000e+00, -2.26966989e+00,  5.15140143e+00],\n",
       "       [ 1.00000000e+00,  1.02510779e-01,  1.05084598e-02],\n",
       "       [ 1.00000000e+00,  1.35354364e+00,  1.83208040e+00],\n",
       "       [ 1.00000000e+00,  2.14177359e+00,  4.58719409e+00],\n",
       "       [ 1.00000000e+00, -6.80274379e-01,  4.62773230e-01],\n",
       "       [ 1.00000000e+00, -2.07840114e+00,  4.31975131e+00],\n",
       "       [ 1.00000000e+00,  1.07385364e+00,  1.15316164e+00],\n",
       "       [ 1.00000000e+00,  6.37482806e-01,  4.06384328e-01],\n",
       "       [ 1.00000000e+00, -1.76475708e+00,  3.11436756e+00],\n",
       "       [ 1.00000000e+00,  7.38286857e-01,  5.45067483e-01],\n",
       "       [ 1.00000000e+00, -1.90070330e+00,  3.61267303e+00],\n",
       "       [ 1.00000000e+00, -1.74372089e+00,  3.04056253e+00],\n",
       "       [ 1.00000000e+00,  1.02006033e+00,  1.04052307e+00],\n",
       "       [ 1.00000000e+00,  1.50637442e+00,  2.26916389e+00],\n",
       "       [ 1.00000000e+00, -7.15747193e-01,  5.12294044e-01],\n",
       "       [ 1.00000000e+00, -2.90830881e+00,  8.45826015e+00]])"
      ]
     },
     "execution_count": 31,
     "metadata": {},
     "output_type": "execute_result"
    }
   ],
   "source": [
    "X_b"
   ]
  },
  {
   "cell_type": "markdown",
   "id": "3d408d4e",
   "metadata": {},
   "source": [
    "Not bad: the model estimates y = 0 . 56x1\n",
    "2\n",
    "+ 0 . 93x1\n",
    "+ 1 . 78 when in fact the original\n",
    "function was y = 0 . 5x1\n",
    "2\n",
    "+ 1 . 0x1\n",
    "+ 2 . 0 + Gaussian noise.\n"
   ]
  },
  {
   "cell_type": "code",
   "execution_count": 32,
   "id": "87437c8f",
   "metadata": {},
   "outputs": [
    {
     "data": {
      "text/plain": [
       "array([[1.8576012 ],\n",
       "       [1.00380522],\n",
       "       [0.52964929]])"
      ]
     },
     "execution_count": 32,
     "metadata": {},
     "output_type": "execute_result"
    }
   ],
   "source": [
    "theta_best"
   ]
  },
  {
   "cell_type": "code",
   "execution_count": 33,
   "id": "c7952a8e",
   "metadata": {},
   "outputs": [
    {
     "data": {
      "text/plain": [
       "(array([1.8576012]), array([[1.00380522, 0.52964929]]))"
      ]
     },
     "execution_count": 33,
     "metadata": {},
     "output_type": "execute_result"
    }
   ],
   "source": [
    "lin_reg.intercept_, lin_reg.coef_"
   ]
  },
  {
   "cell_type": "code",
   "execution_count": 34,
   "id": "29e6397e",
   "metadata": {},
   "outputs": [
    {
     "name": "stdout",
     "output_type": "stream",
     "text": [
      "[[-3.00000000e+00  9.00000000e+00]\n",
      " [-2.93939394e+00  8.64003673e+00]\n",
      " [-2.87878788e+00  8.28741965e+00]\n",
      " [-2.81818182e+00  7.94214876e+00]\n",
      " [-2.75757576e+00  7.60422406e+00]\n",
      " [-2.69696970e+00  7.27364555e+00]\n",
      " [-2.63636364e+00  6.95041322e+00]\n",
      " [-2.57575758e+00  6.63452709e+00]\n",
      " [-2.51515152e+00  6.32598714e+00]\n",
      " [-2.45454545e+00  6.02479339e+00]\n",
      " [-2.39393939e+00  5.73094582e+00]\n",
      " [-2.33333333e+00  5.44444444e+00]\n",
      " [-2.27272727e+00  5.16528926e+00]\n",
      " [-2.21212121e+00  4.89348026e+00]\n",
      " [-2.15151515e+00  4.62901745e+00]\n",
      " [-2.09090909e+00  4.37190083e+00]\n",
      " [-2.03030303e+00  4.12213039e+00]\n",
      " [-1.96969697e+00  3.87970615e+00]\n",
      " [-1.90909091e+00  3.64462810e+00]\n",
      " [-1.84848485e+00  3.41689624e+00]\n",
      " [-1.78787879e+00  3.19651056e+00]\n",
      " [-1.72727273e+00  2.98347107e+00]\n",
      " [-1.66666667e+00  2.77777778e+00]\n",
      " [-1.60606061e+00  2.57943067e+00]\n",
      " [-1.54545455e+00  2.38842975e+00]\n",
      " [-1.48484848e+00  2.20477502e+00]\n",
      " [-1.42424242e+00  2.02846648e+00]\n",
      " [-1.36363636e+00  1.85950413e+00]\n",
      " [-1.30303030e+00  1.69788797e+00]\n",
      " [-1.24242424e+00  1.54361800e+00]\n",
      " [-1.18181818e+00  1.39669421e+00]\n",
      " [-1.12121212e+00  1.25711662e+00]\n",
      " [-1.06060606e+00  1.12488522e+00]\n",
      " [-1.00000000e+00  1.00000000e+00]\n",
      " [-9.39393939e-01  8.82460973e-01]\n",
      " [-8.78787879e-01  7.72268136e-01]\n",
      " [-8.18181818e-01  6.69421488e-01]\n",
      " [-7.57575758e-01  5.73921028e-01]\n",
      " [-6.96969697e-01  4.85766758e-01]\n",
      " [-6.36363636e-01  4.04958678e-01]\n",
      " [-5.75757576e-01  3.31496786e-01]\n",
      " [-5.15151515e-01  2.65381084e-01]\n",
      " [-4.54545455e-01  2.06611570e-01]\n",
      " [-3.93939394e-01  1.55188246e-01]\n",
      " [-3.33333333e-01  1.11111111e-01]\n",
      " [-2.72727273e-01  7.43801653e-02]\n",
      " [-2.12121212e-01  4.49954086e-02]\n",
      " [-1.51515152e-01  2.29568411e-02]\n",
      " [-9.09090909e-02  8.26446281e-03]\n",
      " [-3.03030303e-02  9.18273646e-04]\n",
      " [ 3.03030303e-02  9.18273646e-04]\n",
      " [ 9.09090909e-02  8.26446281e-03]\n",
      " [ 1.51515152e-01  2.29568411e-02]\n",
      " [ 2.12121212e-01  4.49954086e-02]\n",
      " [ 2.72727273e-01  7.43801653e-02]\n",
      " [ 3.33333333e-01  1.11111111e-01]\n",
      " [ 3.93939394e-01  1.55188246e-01]\n",
      " [ 4.54545455e-01  2.06611570e-01]\n",
      " [ 5.15151515e-01  2.65381084e-01]\n",
      " [ 5.75757576e-01  3.31496786e-01]\n",
      " [ 6.36363636e-01  4.04958678e-01]\n",
      " [ 6.96969697e-01  4.85766758e-01]\n",
      " [ 7.57575758e-01  5.73921028e-01]\n",
      " [ 8.18181818e-01  6.69421488e-01]\n",
      " [ 8.78787879e-01  7.72268136e-01]\n",
      " [ 9.39393939e-01  8.82460973e-01]\n",
      " [ 1.00000000e+00  1.00000000e+00]\n",
      " [ 1.06060606e+00  1.12488522e+00]\n",
      " [ 1.12121212e+00  1.25711662e+00]\n",
      " [ 1.18181818e+00  1.39669421e+00]\n",
      " [ 1.24242424e+00  1.54361800e+00]\n",
      " [ 1.30303030e+00  1.69788797e+00]\n",
      " [ 1.36363636e+00  1.85950413e+00]\n",
      " [ 1.42424242e+00  2.02846648e+00]\n",
      " [ 1.48484848e+00  2.20477502e+00]\n",
      " [ 1.54545455e+00  2.38842975e+00]\n",
      " [ 1.60606061e+00  2.57943067e+00]\n",
      " [ 1.66666667e+00  2.77777778e+00]\n",
      " [ 1.72727273e+00  2.98347107e+00]\n",
      " [ 1.78787879e+00  3.19651056e+00]\n",
      " [ 1.84848485e+00  3.41689624e+00]\n",
      " [ 1.90909091e+00  3.64462810e+00]\n",
      " [ 1.96969697e+00  3.87970615e+00]\n",
      " [ 2.03030303e+00  4.12213039e+00]\n",
      " [ 2.09090909e+00  4.37190083e+00]\n",
      " [ 2.15151515e+00  4.62901745e+00]\n",
      " [ 2.21212121e+00  4.89348026e+00]\n",
      " [ 2.27272727e+00  5.16528926e+00]\n",
      " [ 2.33333333e+00  5.44444444e+00]\n",
      " [ 2.39393939e+00  5.73094582e+00]\n",
      " [ 2.45454545e+00  6.02479339e+00]\n",
      " [ 2.51515152e+00  6.32598714e+00]\n",
      " [ 2.57575758e+00  6.63452709e+00]\n",
      " [ 2.63636364e+00  6.95041322e+00]\n",
      " [ 2.69696970e+00  7.27364555e+00]\n",
      " [ 2.75757576e+00  7.60422406e+00]\n",
      " [ 2.81818182e+00  7.94214876e+00]\n",
      " [ 2.87878788e+00  8.28741965e+00]\n",
      " [ 2.93939394e+00  8.64003673e+00]\n",
      " [ 3.00000000e+00  9.00000000e+00]]\n"
     ]
    }
   ],
   "source": [
    "X_p = np.linspace(start=-3, stop=3, num=100).reshape(-1, 1)\n",
    "X__p = poly_features.transform(X_p)\n",
    "y_p = lin_reg.predict(X=X__p)\n",
    "print(X__p)"
   ]
  },
  {
   "cell_type": "code",
   "execution_count": 35,
   "id": "346e5c8b",
   "metadata": {},
   "outputs": [
    {
     "data": {
      "text/plain": [
       "array([-0.29851681])"
      ]
     },
     "execution_count": 35,
     "metadata": {},
     "output_type": "execute_result"
    }
   ],
   "source": [
    "X[0]"
   ]
  },
  {
   "cell_type": "code",
   "execution_count": 36,
   "id": "ce94eee9",
   "metadata": {},
   "outputs": [
    {
     "data": {
      "image/png": "[encoded data removed]",
      "text/plain": [
       "<Figure size 640x480 with 1 Axes>"
      ]
     },
     "metadata": {},
     "output_type": "display_data"
    }
   ],
   "source": [
    "plt.scatter(X, y, color='blue')\n",
    "plt.plot(X_p, y_p, color='red', label='predictions', linewidth=3)\n",
    "plt.xlabel('X')\n",
    "plt.ylabel('y')\n",
    "plt.legend(loc='upper left')\n",
    "plt.show()"
   ]
  },
  {
   "cell_type": "markdown",
   "id": "d1448ef9",
   "metadata": {},
   "source": [
    "Not bad: the model estimates y = 0 . 56x1\n",
    "2+ 0.93x1 + 1 . 78 when in fact the original\n",
    "function was y = 0.5x1 2 + 1 . 0x1 + 2 . 0 + Gaussian noise."
   ]
  },
  {
   "cell_type": "markdown",
   "id": "28af2979",
   "metadata": {},
   "source": [
    "#  How can you tell that your model is overfitting or underfitting the data?"
   ]
  },
  {
   "cell_type": "markdown",
   "id": "65014ce7",
   "metadata": {},
   "source": [
    "Degree 1 — Underfitting\n",
    "\n",
    "Degree 2 — Fitting\n",
    "\n",
    "Degree 300 — Overfitting"
   ]
  },
  {
   "cell_type": "markdown",
   "id": "e5fcd07e",
   "metadata": {},
   "source": [
    "If our model performs good on the training data but badly on the validation data —> Overfitting\n",
    "\n",
    "If our model performs badly on the training data & badly on the validation data —> Underfitting\n",
    "\n",
    "If our model performs good on the training data & good on the validation data —> Fitting"
   ]
  },
  {
   "cell_type": "markdown",
   "id": "1ceea4bf",
   "metadata": {},
   "source": [
    "In Chapter 2 you used cross-validation to get an estimate of a model’s generalization\n",
    "performance. If a model performs well on the training data but generalizes poorly\n",
    "according to the cross-validation metrics, then your model is overfitting. If it per‐\n",
    "forms poorly on both, then it is underfitting. This is one way to tell when a model is\n",
    "too simple or too complex."
   ]
  },
  {
   "cell_type": "markdown",
   "id": "ab266f36",
   "metadata": {},
   "source": [
    "Another way to tell if we're overfitting/underfitting is to look at the learning curves. We should analyze the curves that show performance over the training set versus validation set with varying training set sizes. To generate the plot, we should train the same model on different training set sizes:"
   ]
  },
  {
   "cell_type": "code",
   "execution_count": 37,
   "id": "2ca501db",
   "metadata": {},
   "outputs": [],
   "source": [
    "from sklearn.metrics import mean_squared_error\n",
    "from sklearn.model_selection import train_test_split"
   ]
  },
  {
   "cell_type": "code",
   "execution_count": 38,
   "id": "1980e4b3",
   "metadata": {},
   "outputs": [],
   "source": [
    "def plot_learning_curve(model, X, y):\n",
    "    \"\"\"Plots model training/validation's MSE over different sizes of training sets.\n",
    "    \n",
    "    # Arguments\n",
    "        model: sklearn.*, a scikit-learn model to be trained/tested.\n",
    "        X: np.ndarray, the input dataset.\n",
    "        y: np.ndarray, the output dataset.\n",
    "    \"\"\"\n",
    "    X_train, X_test, y_train, y_test = train_test_split(X, y, test_size=.2)\n",
    "    train_errors, val_errors = list(), list()\n",
    "    for m in range(1, X_train.shape[0]):\n",
    "        model.fit(X_train[:m], y_train[:m])\n",
    "        y_train_predict = model.predict(X_train[:m])\n",
    "        y_val_predict = model.predict(X_test)\n",
    "        train_errors.append(mean_squared_error(y_train[:m], y_train_predict))\n",
    "        val_errors.append(mean_squared_error(y_test, y_val_predict))\n",
    "    plt.plot(np.sqrt(train_errors), 'r-+', linewidth=2, label='Training Loss')\n",
    "    plt.plot(np.sqrt(val_errors), 'b-', linewidth=3, label='Validation Loss')\n",
    "    plt.xlabel('Training set size')\n",
    "    plt.ylabel('RMSE')\n",
    "    plt.ylim([0, 3])\n",
    "    plt.legend(loc='upper right')\n",
    "    plt.show()"
   ]
  },
  {
   "cell_type": "code",
   "execution_count": 39,
   "id": "12a484c9",
   "metadata": {},
   "outputs": [],
   "source": [
    "from sklearn.linear_model import LinearRegression"
   ]
  },
  {
   "cell_type": "code",
   "execution_count": 40,
   "id": "802d68a8",
   "metadata": {},
   "outputs": [],
   "source": [
    "lin_reg = LinearRegression()"
   ]
  },
  {
   "cell_type": "code",
   "execution_count": 41,
   "id": "233870cf",
   "metadata": {},
   "outputs": [
    {
     "data": {
      "image/png": "[encoded data removed]",
      "text/plain": [
       "<Figure size 640x480 with 1 Axes>"
      ]
     },
     "metadata": {},
     "output_type": "display_data"
    }
   ],
   "source": [
    "plot_learning_curve(lin_reg, X, y)"
   ]
  },
  {
   "cell_type": "markdown",
   "id": "a8456bec",
   "metadata": {},
   "source": [
    "When there are 1 or 2 instances in the training set, the model can fit them perfectly. But when we add more training data, it becomes impossible for the model to fit all points perfectly. Both because the data is noisy and because the data isn't linear at all.\n",
    "\n",
    "The training RMSE converges to a plateau and if we add more data, RMSE doesn't get effected as much. On the other hand, when the model is trained on a few instances, it's not able to generalize well hence the bad losses for val.\n",
    "\n",
    "As the model is shown more examples, it learns general patterns and the val error converges to the training error.\n",
    "\n",
    "These curves are typical for a model that is underfitting.\n",
    "\n",
    "If our model is underfitting the data, adding more data points will not help, we need to add more features or use a more complex model.\n",
    "\n",
    "Let's fit and visualize the curves of a 10-degree polynomial model:"
   ]
  },
  {
   "cell_type": "code",
   "execution_count": 42,
   "id": "d36f803d",
   "metadata": {},
   "outputs": [],
   "source": [
    "from sklearn.pipeline import Pipeline"
   ]
  },
  {
   "cell_type": "code",
   "execution_count": 43,
   "id": "936f7b55",
   "metadata": {},
   "outputs": [],
   "source": [
    "polynomial_regression = Pipeline([\n",
    "    ('poly_features', PolynomialFeatures(degree=10, include_bias=False)),\n",
    "    ('lin_reg', LinearRegression())\n",
    "])"
   ]
  },
  {
   "cell_type": "code",
   "execution_count": 44,
   "id": "6965a1bc",
   "metadata": {},
   "outputs": [
    {
     "data": {
      "image/png": "[encoded data removed]",
      "text/plain": [
       "<Figure size 640x480 with 1 Axes>"
      ]
     },
     "metadata": {},
     "output_type": "display_data"
    }
   ],
   "source": [
    "plot_learning_curve(polynomial_regression, X, y)"
   ]
  },
  {
   "cell_type": "markdown",
   "id": "5766e7d0",
   "metadata": {},
   "source": [
    "These learning curves look very similar to the previous ones, but there are some key differences:\n",
    "\n",
    "The error on the training data is much lower than in the previous example.\n",
    "there is a gap between the curves, meaning the model performs much better on the training set than on the validation set. Which is the hallmark of an overfitting model.\n",
    "One solution to overfitting is to have more training data until the validation loss reaches the training loss.\n",
    "\n",
    "An important theoretical result of statistics and ML is that the generalizability error can be expressed as the sum of three very different erros:\n",
    "\n",
    "Bias: Has to do with wrong assumptions, like assuming the data is linear when it's actually quadratic. A high bias model is most likely to underfit the training data.\n",
    "\n",
    "Variance: Has to do with a model's excessive sensitivity to the training data. A high variance model tends to overfit the training data.\n",
    "\n",
    "Every dataset has what we call irreducible Error (the noisiness of the data itself). The only way to reduce this error is to fix the data. Increasing a model's complexity will typically increase its variance and decrease bias (with a less restricted model). Reducing the model's complexity will increase bias and decrease variance.\n",
    "\n",
    "This is what we call the bias-variance trade-off."
   ]
  },
  {
   "cell_type": "markdown",
   "id": "2422e195",
   "metadata": {},
   "source": [
    "# Ridge Regression\n"
   ]
  },
  {
   "cell_type": "markdown",
   "id": "dc3ab0ce",
   "metadata": {},
   "source": [
    "Ridge Regression (also called Tikhonov regularization) is a regularized version of Lin‐\n",
    "ear Regression: a regularization term equal to α∑i = 1n θi 2\n",
    "is added to the cost function. \n",
    "This forces the learning algorithm to not only fit the data but also keep the model\n",
    "weights as small as possible."
   ]
  },
  {
   "cell_type": "code",
   "execution_count": 45,
   "id": "12cf6df6",
   "metadata": {},
   "outputs": [],
   "source": [
    "from sklearn.linear_model import Ridge"
   ]
  },
  {
   "cell_type": "code",
   "execution_count": 46,
   "id": "51a3c064",
   "metadata": {},
   "outputs": [],
   "source": [
    "ridge_reg = Ridge(alpha=1, solver=\"cholesky\")\n"
   ]
  },
  {
   "cell_type": "code",
   "execution_count": 47,
   "id": "84e06dd9",
   "metadata": {},
   "outputs": [
    {
     "data": {
      "text/plain": [
       "Ridge(alpha=1, solver='cholesky')"
      ]
     },
     "execution_count": 47,
     "metadata": {},
     "output_type": "execute_result"
    }
   ],
   "source": [
    "ridge_reg.fit(X, y)\n"
   ]
  },
  {
   "cell_type": "code",
   "execution_count": 48,
   "id": "c0a33edd",
   "metadata": {},
   "outputs": [
    {
     "data": {
      "text/plain": [
       "array([[4.97795845]])"
      ]
     },
     "execution_count": 48,
     "metadata": {},
     "output_type": "execute_result"
    }
   ],
   "source": [
    "ridge_reg.predict([[1.5]])"
   ]
  },
  {
   "cell_type": "markdown",
   "id": "4776f01e",
   "metadata": {},
   "source": [
    "And using Stochastic Gradient Descent"
   ]
  },
  {
   "cell_type": "code",
   "execution_count": 49,
   "id": "1a55fddc",
   "metadata": {},
   "outputs": [
    {
     "data": {
      "text/plain": [
       "array([4.94423439])"
      ]
     },
     "execution_count": 49,
     "metadata": {},
     "output_type": "execute_result"
    }
   ],
   "source": [
    "sgd_reg = SGDRegressor(penalty=\"l2\")\n",
    "sgd_reg.fit(X, y.ravel())\n",
    "sgd_reg.predict([[1.5]])\n"
   ]
  },
  {
   "cell_type": "markdown",
   "id": "bd223fce",
   "metadata": {},
   "source": [
    "# Lasso Regression"
   ]
  },
  {
   "cell_type": "markdown",
   "id": "2127cc48",
   "metadata": {},
   "source": [
    "# ElasticNet"
   ]
  },
  {
   "cell_type": "markdown",
   "id": "a6ac62fd",
   "metadata": {},
   "source": [
    "# Early Stopping"
   ]
  },
  {
   "cell_type": "code",
   "execution_count": null,
   "id": "c5a3d558",
   "metadata": {},
   "outputs": [],
   "source": []
  }
 ],
 "metadata": {
  "kernelspec": {
   "display_name": "Python 3 (ipykernel)",
   "language": "python",
   "name": "python3"
  },
  "language_info": {
   "codemirror_mode": {
    "name": "ipython",
    "version": 3
   },
   "file_extension": ".py",
   "mimetype": "text/x-python",
   "name": "python",
   "nbconvert_exporter": "python",
   "pygments_lexer": "ipython3",
   "version": "3.9.13"
  }
 },
 "nbformat": 4,
 "nbformat_minor": 5
}
