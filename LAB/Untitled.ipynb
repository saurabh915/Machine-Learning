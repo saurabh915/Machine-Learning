{
 "cells": [
  {
   "cell_type": "code",
   "execution_count": 4,
   "id": "47886a38",
   "metadata": {},
   "outputs": [],
   "source": [
    "import numpy as np\n",
    "a3 = np.random.rand(3,3) < 0.8\n"
   ]
  },
  {
   "cell_type": "code",
   "execution_count": 5,
   "id": "986c7f7e",
   "metadata": {},
   "outputs": [
    {
     "data": {
      "text/plain": [
       "array([[False, False,  True],\n",
       "       [ True,  True,  True],\n",
       "       [ True,  True,  True]])"
      ]
     },
     "execution_count": 5,
     "metadata": {},
     "output_type": "execute_result"
    }
   ],
   "source": [
    "a3"
   ]
  },
  {
   "cell_type": "code",
   "execution_count": 6,
   "id": "e78f8b0c",
   "metadata": {},
   "outputs": [],
   "source": [
    "b3 =np.random.rand(3,3)"
   ]
  },
  {
   "cell_type": "code",
   "execution_count": 7,
   "id": "36ce6e05",
   "metadata": {},
   "outputs": [
    {
     "data": {
      "text/plain": [
       "array([[0.67386016, 0.06255053, 0.78116481],\n",
       "       [0.63408737, 0.58535695, 0.52498228],\n",
       "       [0.65003902, 0.68025674, 0.63350436]])"
      ]
     },
     "execution_count": 7,
     "metadata": {},
     "output_type": "execute_result"
    }
   ],
   "source": [
    "b3"
   ]
  },
  {
   "cell_type": "code",
   "execution_count": 9,
   "id": "21b5fc27",
   "metadata": {},
   "outputs": [],
   "source": [
    "c3 = np.multiply(a3,b3)"
   ]
  },
  {
   "cell_type": "code",
   "execution_count": 10,
   "id": "84560d44",
   "metadata": {},
   "outputs": [
    {
     "data": {
      "text/plain": [
       "array([[0.        , 0.        , 0.78116481],\n",
       "       [0.63408737, 0.58535695, 0.52498228],\n",
       "       [0.65003902, 0.68025674, 0.63350436]])"
      ]
     },
     "execution_count": 10,
     "metadata": {},
     "output_type": "execute_result"
    }
   ],
   "source": [
    "c3"
   ]
  },
  {
   "cell_type": "code",
   "execution_count": null,
   "id": "99ed10f4",
   "metadata": {},
   "outputs": [],
   "source": []
  }
 ],
 "metadata": {
  "kernelspec": {
   "display_name": "Python 3 (ipykernel)",
   "language": "python",
   "name": "python3"
  },
  "language_info": {
   "codemirror_mode": {
    "name": "ipython",
    "version": 3
   },
   "file_extension": ".py",
   "mimetype": "text/x-python",
   "name": "python",
   "nbconvert_exporter": "python",
   "pygments_lexer": "ipython3",
   "version": "3.9.13"
  }
 },
 "nbformat": 4,
 "nbformat_minor": 5
}
